{
 "cells": [
  {
   "cell_type": "code",
   "execution_count": 1,
   "id": "3bcfb185",
   "metadata": {
    "_cell_guid": "b1076dfc-b9ad-4769-8c92-a6c4dae69d19",
    "_uuid": "8f2839f25d086af736a60e9eeb907d3b93b6e0e5",
    "execution": {
     "iopub.execute_input": "2022-10-06T05:32:20.506707Z",
     "iopub.status.busy": "2022-10-06T05:32:20.506270Z",
     "iopub.status.idle": "2022-10-06T05:32:20.524537Z",
     "shell.execute_reply": "2022-10-06T05:32:20.523225Z"
    },
    "papermill": {
     "duration": 0.028565,
     "end_time": "2022-10-06T05:32:20.526999",
     "exception": false,
     "start_time": "2022-10-06T05:32:20.498434",
     "status": "completed"
    },
    "tags": []
   },
   "outputs": [
    {
     "name": "stdout",
     "output_type": "stream",
     "text": [
      "/kaggle/input/amazon-stock-prices-may-2017-to-may-2022/AMZN.csv\n"
     ]
    }
   ],
   "source": [
    "# This Python 3 environment comes with many helpful analytics libraries installed\n",
    "# It is defined by the kaggle/python Docker image: https://github.com/kaggle/docker-python\n",
    "# For example, here's several helpful packages to load\n",
    "\n",
    "import numpy as np # linear algebra\n",
    "import pandas as pd # data processing, CSV file I/O (e.g. pd.read_csv)\n",
    "import datetime as dt\n",
    "\n",
    "# Input data files are available in the read-only \"../input/\" directory\n",
    "# For example, running this (by clicking run or pressing Shift+Enter) will list all files under the input directory\n",
    "\n",
    "import os\n",
    "for dirname, _, filenames in os.walk('/kaggle/input'):\n",
    "    for filename in filenames:\n",
    "        print(os.path.join(dirname, filename))\n",
    "        \n",
    "# You can write up to 20GB to the current directory (/kaggle/working/) that gets preserved as output when you create a version using \"Save & Run All\" \n",
    "# You can also write temporary files to /kaggle/temp/, but they won't be saved outside of the current session"
   ]
  },
  {
   "cell_type": "markdown",
   "id": "b8332e76",
   "metadata": {
    "papermill": {
     "duration": 0.004592,
     "end_time": "2022-10-06T05:32:20.536662",
     "exception": false,
     "start_time": "2022-10-06T05:32:20.532070",
     "status": "completed"
    },
    "tags": []
   },
   "source": [
    "### Loading Data and Set-Up"
   ]
  },
  {
   "cell_type": "code",
   "execution_count": 2,
   "id": "266de077",
   "metadata": {
    "execution": {
     "iopub.execute_input": "2022-10-06T05:32:20.548185Z",
     "iopub.status.busy": "2022-10-06T05:32:20.547513Z",
     "iopub.status.idle": "2022-10-06T05:32:20.568306Z",
     "shell.execute_reply": "2022-10-06T05:32:20.567569Z"
    },
    "papermill": {
     "duration": 0.029131,
     "end_time": "2022-10-06T05:32:20.570550",
     "exception": false,
     "start_time": "2022-10-06T05:32:20.541419",
     "status": "completed"
    },
    "tags": []
   },
   "outputs": [],
   "source": [
    "data = pd.read_csv('/kaggle/input/amazon-stock-prices-may-2017-to-may-2022/AMZN.csv')"
   ]
  },
  {
   "cell_type": "code",
   "execution_count": 3,
   "id": "9a8a6ab6",
   "metadata": {
    "execution": {
     "iopub.execute_input": "2022-10-06T05:32:20.582175Z",
     "iopub.status.busy": "2022-10-06T05:32:20.581625Z",
     "iopub.status.idle": "2022-10-06T05:32:20.609438Z",
     "shell.execute_reply": "2022-10-06T05:32:20.608336Z"
    },
    "papermill": {
     "duration": 0.036195,
     "end_time": "2022-10-06T05:32:20.611718",
     "exception": false,
     "start_time": "2022-10-06T05:32:20.575523",
     "status": "completed"
    },
    "tags": []
   },
   "outputs": [
    {
     "data": {
      "text/html": [
       "<div>\n",
       "<style scoped>\n",
       "    .dataframe tbody tr th:only-of-type {\n",
       "        vertical-align: middle;\n",
       "    }\n",
       "\n",
       "    .dataframe tbody tr th {\n",
       "        vertical-align: top;\n",
       "    }\n",
       "\n",
       "    .dataframe thead th {\n",
       "        text-align: right;\n",
       "    }\n",
       "</style>\n",
       "<table border=\"1\" class=\"dataframe\">\n",
       "  <thead>\n",
       "    <tr style=\"text-align: right;\">\n",
       "      <th></th>\n",
       "      <th>Date</th>\n",
       "      <th>Open</th>\n",
       "      <th>High</th>\n",
       "      <th>Low</th>\n",
       "      <th>Close</th>\n",
       "      <th>Adj Close</th>\n",
       "      <th>Volume</th>\n",
       "    </tr>\n",
       "  </thead>\n",
       "  <tbody>\n",
       "    <tr>\n",
       "      <th>0</th>\n",
       "      <td>2017-06-01</td>\n",
       "      <td>49.929501</td>\n",
       "      <td>49.949501</td>\n",
       "      <td>49.568501</td>\n",
       "      <td>49.797501</td>\n",
       "      <td>49.797501</td>\n",
       "      <td>49096000</td>\n",
       "    </tr>\n",
       "    <tr>\n",
       "      <th>1</th>\n",
       "      <td>2017-06-02</td>\n",
       "      <td>49.949501</td>\n",
       "      <td>50.424000</td>\n",
       "      <td>49.783501</td>\n",
       "      <td>50.336498</td>\n",
       "      <td>50.336498</td>\n",
       "      <td>75046000</td>\n",
       "    </tr>\n",
       "    <tr>\n",
       "      <th>2</th>\n",
       "      <td>2017-06-05</td>\n",
       "      <td>50.361500</td>\n",
       "      <td>50.660500</td>\n",
       "      <td>50.175499</td>\n",
       "      <td>50.567001</td>\n",
       "      <td>50.567001</td>\n",
       "      <td>54398000</td>\n",
       "    </tr>\n",
       "    <tr>\n",
       "      <th>3</th>\n",
       "      <td>2017-06-06</td>\n",
       "      <td>50.599998</td>\n",
       "      <td>50.825001</td>\n",
       "      <td>50.062500</td>\n",
       "      <td>50.150002</td>\n",
       "      <td>50.150002</td>\n",
       "      <td>66928000</td>\n",
       "    </tr>\n",
       "    <tr>\n",
       "      <th>4</th>\n",
       "      <td>2017-06-07</td>\n",
       "      <td>50.297501</td>\n",
       "      <td>50.512501</td>\n",
       "      <td>50.099998</td>\n",
       "      <td>50.503502</td>\n",
       "      <td>50.503502</td>\n",
       "      <td>56460000</td>\n",
       "    </tr>\n",
       "  </tbody>\n",
       "</table>\n",
       "</div>"
      ],
      "text/plain": [
       "         Date       Open       High        Low      Close  Adj Close    Volume\n",
       "0  2017-06-01  49.929501  49.949501  49.568501  49.797501  49.797501  49096000\n",
       "1  2017-06-02  49.949501  50.424000  49.783501  50.336498  50.336498  75046000\n",
       "2  2017-06-05  50.361500  50.660500  50.175499  50.567001  50.567001  54398000\n",
       "3  2017-06-06  50.599998  50.825001  50.062500  50.150002  50.150002  66928000\n",
       "4  2017-06-07  50.297501  50.512501  50.099998  50.503502  50.503502  56460000"
      ]
     },
     "execution_count": 3,
     "metadata": {},
     "output_type": "execute_result"
    }
   ],
   "source": [
    "data.head()"
   ]
  },
  {
   "cell_type": "code",
   "execution_count": 4,
   "id": "baa50a3a",
   "metadata": {
    "execution": {
     "iopub.execute_input": "2022-10-06T05:32:20.623306Z",
     "iopub.status.busy": "2022-10-06T05:32:20.622979Z",
     "iopub.status.idle": "2022-10-06T05:32:20.659982Z",
     "shell.execute_reply": "2022-10-06T05:32:20.659250Z"
    },
    "papermill": {
     "duration": 0.045317,
     "end_time": "2022-10-06T05:32:20.662003",
     "exception": false,
     "start_time": "2022-10-06T05:32:20.616686",
     "status": "completed"
    },
    "tags": []
   },
   "outputs": [
    {
     "data": {
      "text/html": [
       "<div>\n",
       "<style scoped>\n",
       "    .dataframe tbody tr th:only-of-type {\n",
       "        vertical-align: middle;\n",
       "    }\n",
       "\n",
       "    .dataframe tbody tr th {\n",
       "        vertical-align: top;\n",
       "    }\n",
       "\n",
       "    .dataframe thead th {\n",
       "        text-align: right;\n",
       "    }\n",
       "</style>\n",
       "<table border=\"1\" class=\"dataframe\">\n",
       "  <thead>\n",
       "    <tr style=\"text-align: right;\">\n",
       "      <th></th>\n",
       "      <th>Open</th>\n",
       "      <th>High</th>\n",
       "      <th>Low</th>\n",
       "      <th>Close</th>\n",
       "      <th>Adj Close</th>\n",
       "      <th>Volume</th>\n",
       "    </tr>\n",
       "  </thead>\n",
       "  <tbody>\n",
       "    <tr>\n",
       "      <th>count</th>\n",
       "      <td>1259.000000</td>\n",
       "      <td>1259.000000</td>\n",
       "      <td>1259.000000</td>\n",
       "      <td>1259.000000</td>\n",
       "      <td>1259.000000</td>\n",
       "      <td>1.259000e+03</td>\n",
       "    </tr>\n",
       "    <tr>\n",
       "      <th>mean</th>\n",
       "      <td>112.712150</td>\n",
       "      <td>113.962250</td>\n",
       "      <td>111.290146</td>\n",
       "      <td>112.638289</td>\n",
       "      <td>112.638289</td>\n",
       "      <td>8.661014e+07</td>\n",
       "    </tr>\n",
       "    <tr>\n",
       "      <th>std</th>\n",
       "      <td>41.589328</td>\n",
       "      <td>42.096757</td>\n",
       "      <td>41.022137</td>\n",
       "      <td>41.521249</td>\n",
       "      <td>41.521249</td>\n",
       "      <td>4.156922e+07</td>\n",
       "    </tr>\n",
       "    <tr>\n",
       "      <th>min</th>\n",
       "      <td>47.000000</td>\n",
       "      <td>47.431499</td>\n",
       "      <td>46.349998</td>\n",
       "      <td>46.930000</td>\n",
       "      <td>46.930000</td>\n",
       "      <td>1.762600e+07</td>\n",
       "    </tr>\n",
       "    <tr>\n",
       "      <th>25%</th>\n",
       "      <td>82.564251</td>\n",
       "      <td>83.682998</td>\n",
       "      <td>81.300998</td>\n",
       "      <td>82.778748</td>\n",
       "      <td>82.778748</td>\n",
       "      <td>5.843600e+07</td>\n",
       "    </tr>\n",
       "    <tr>\n",
       "      <th>50%</th>\n",
       "      <td>95.899002</td>\n",
       "      <td>96.611504</td>\n",
       "      <td>94.828499</td>\n",
       "      <td>95.449501</td>\n",
       "      <td>95.449501</td>\n",
       "      <td>7.475200e+07</td>\n",
       "    </tr>\n",
       "    <tr>\n",
       "      <th>75%</th>\n",
       "      <td>158.343750</td>\n",
       "      <td>159.924003</td>\n",
       "      <td>156.199997</td>\n",
       "      <td>158.086998</td>\n",
       "      <td>158.086998</td>\n",
       "      <td>1.025520e+08</td>\n",
       "    </tr>\n",
       "    <tr>\n",
       "      <th>max</th>\n",
       "      <td>187.199997</td>\n",
       "      <td>188.654007</td>\n",
       "      <td>184.839493</td>\n",
       "      <td>186.570496</td>\n",
       "      <td>186.570496</td>\n",
       "      <td>3.313000e+08</td>\n",
       "    </tr>\n",
       "  </tbody>\n",
       "</table>\n",
       "</div>"
      ],
      "text/plain": [
       "              Open         High          Low        Close    Adj Close  \\\n",
       "count  1259.000000  1259.000000  1259.000000  1259.000000  1259.000000   \n",
       "mean    112.712150   113.962250   111.290146   112.638289   112.638289   \n",
       "std      41.589328    42.096757    41.022137    41.521249    41.521249   \n",
       "min      47.000000    47.431499    46.349998    46.930000    46.930000   \n",
       "25%      82.564251    83.682998    81.300998    82.778748    82.778748   \n",
       "50%      95.899002    96.611504    94.828499    95.449501    95.449501   \n",
       "75%     158.343750   159.924003   156.199997   158.086998   158.086998   \n",
       "max     187.199997   188.654007   184.839493   186.570496   186.570496   \n",
       "\n",
       "             Volume  \n",
       "count  1.259000e+03  \n",
       "mean   8.661014e+07  \n",
       "std    4.156922e+07  \n",
       "min    1.762600e+07  \n",
       "25%    5.843600e+07  \n",
       "50%    7.475200e+07  \n",
       "75%    1.025520e+08  \n",
       "max    3.313000e+08  "
      ]
     },
     "execution_count": 4,
     "metadata": {},
     "output_type": "execute_result"
    }
   ],
   "source": [
    "data.describe()"
   ]
  },
  {
   "cell_type": "markdown",
   "id": "2c9b9086",
   "metadata": {
    "papermill": {
     "duration": 0.004863,
     "end_time": "2022-10-06T05:32:20.672235",
     "exception": false,
     "start_time": "2022-10-06T05:32:20.667372",
     "status": "completed"
    },
    "tags": []
   },
   "source": [
    "## Feature Engineering\n",
    "- Adding date and time based features\n",
    "- Adding rolling mean averages for close, high, low, volume\n",
    "- Adding lag features for close \n",
    "- Removing columns from data set to avoid leakage - the purpose of the model is to predict the given day's stock close, and so data from that day (High, Low, etc.) would not be available yet for predictions. "
   ]
  },
  {
   "cell_type": "code",
   "execution_count": 5,
   "id": "6df89c6c",
   "metadata": {
    "execution": {
     "iopub.execute_input": "2022-10-06T05:32:20.684179Z",
     "iopub.status.busy": "2022-10-06T05:32:20.683564Z",
     "iopub.status.idle": "2022-10-06T05:32:20.726917Z",
     "shell.execute_reply": "2022-10-06T05:32:20.726001Z"
    },
    "papermill": {
     "duration": 0.052142,
     "end_time": "2022-10-06T05:32:20.729334",
     "exception": false,
     "start_time": "2022-10-06T05:32:20.677192",
     "status": "completed"
    },
    "tags": []
   },
   "outputs": [],
   "source": [
    "\n",
    "# adding date based features: day of week, day of month, day of year \n",
    "\n",
    "data['Date'] = pd.to_datetime(data['Date'])\n",
    "data['Day of week'] = data['Date'].dt.weekday\n",
    "data['Day of month'] = data['Date'].dt.day\n",
    "data['Month'] = data['Date'].dt.month\n",
    "data['Year'] = data['Date'].dt.year\n",
    "\n",
    "# rolling averages for days = 7, 30, 90, 180, 365\n",
    "\n",
    "data[\"7d Mean Close\"] = data['Close'].rolling(window = 5).mean() # 5 business days = 1 wk\n",
    "data[\"30d Mean Close\"] = data['Close'].rolling(window = 20).mean() # 20 business days = 1 mo\n",
    "data[\"90d Mean Close\"] = data['Close'].rolling(window = 60).mean() # 60 business days = 3 mo\n",
    "data[\"120d Mean Close\"] = data['Close'].rolling(window = 120).mean() #120 business days = 6 mo\n",
    "\n",
    "# adding lag features: Close on (date - 1), (date-2), 3,4,5,7,14,21,30,60,90,180, 365\n",
    "data['Close-1'] = data['Close'].shift(periods=1)\n",
    "data['Close-2'] = data['Close'].shift(periods=2)\n",
    "data['Close-3'] = data['Close'].shift(periods=3)\n",
    "data['Close-4'] = data['Close'].shift(periods=4)\n",
    "data['Close-5'] = data['Close'].shift(periods=5)\n",
    "data['Close-7'] = data['Close'].shift(periods=7)\n",
    "data['Close-14'] = data['Close'].shift(periods=14)\n",
    "data['Close-21'] = data['Close'].shift(periods=21)\n",
    "data['Close-30'] = data['Close'].shift(periods=30)\n",
    "data['Close-60'] = data['Close'].shift(periods=60)\n",
    "data['Close-90'] = data['Close'].shift(periods=90)\n",
    "\n",
    "# Adding rolling averages for high, low and volume\n",
    "data[\"7d Mean High\"] = data['High'].rolling(window = 5).mean() # 5 business days = 1 wk\n",
    "data[\"30d Mean High\"] = data['High'].rolling(window = 20).mean() # 20 business days = 1 mo\n",
    "data[\"90d Mean High\"] = data['High'].rolling(window = 60).mean() # 60 business days = 3 mo\n",
    "data[\"120d Mean High\"] = data['High'].rolling(window = 120).mean() #120 business days = 6 mo\n",
    "\n",
    "data[\"7d Mean Low\"] = data['Low'].rolling(window = 5).mean() # 5 business days = 1 wk\n",
    "data[\"30d Mean Low\"] = data['Low'].rolling(window = 20).mean() # 20 business days = 1 mo\n",
    "data[\"90d Mean Low\"] = data['Low'].rolling(window = 60).mean() # 60 business days = 3 mo\n",
    "data[\"120d Mean Low\"] = data['Low'].rolling(window = 120).mean() #120 business days = 6 mo\n",
    "\n",
    "data[\"7d Mean Volume\"] = data['Volume'].rolling(window = 5).mean() # 5 business days = 1 wk\n",
    "data[\"30d Mean Volume\"] = data['Volume'].rolling(window = 20).mean() # 20 business days = 1 mo\n",
    "data[\"90d Mean Volume\"] = data['Volume'].rolling(window = 60).mean() # 60 business days = 3 mo\n",
    "data[\"120d Mean Volume\"] = data['Volume'].rolling(window = 120).mean() #120 business days = 6 mo\n",
    "\n",
    "\n",
    "# Will only train models on data with all features intact, so will exclude the first 120 data points\n",
    "full_data = data.drop(index = range(119)) \n",
    "full_data = full_data.reset_index(drop=True)"
   ]
  },
  {
   "cell_type": "markdown",
   "id": "a276ba82",
   "metadata": {
    "papermill": {
     "duration": 0.005478,
     "end_time": "2022-10-06T05:32:20.740954",
     "exception": false,
     "start_time": "2022-10-06T05:32:20.735476",
     "status": "completed"
    },
    "tags": []
   },
   "source": [
    "#### Dropping Features to Limit Data Leakage"
   ]
  },
  {
   "cell_type": "code",
   "execution_count": 6,
   "id": "0d78ece5",
   "metadata": {
    "execution": {
     "iopub.execute_input": "2022-10-06T05:32:20.753354Z",
     "iopub.status.busy": "2022-10-06T05:32:20.752613Z",
     "iopub.status.idle": "2022-10-06T05:32:20.759897Z",
     "shell.execute_reply": "2022-10-06T05:32:20.758849Z"
    },
    "papermill": {
     "duration": 0.015839,
     "end_time": "2022-10-06T05:32:20.761947",
     "exception": false,
     "start_time": "2022-10-06T05:32:20.746108",
     "status": "completed"
    },
    "tags": []
   },
   "outputs": [],
   "source": [
    "# To avoid leakage must drop features that will be unavailable at time of prediction\n",
    "X = full_data.drop(columns = ['Close', 'Adj Close', 'Open', 'High', 'Low', 'Volume']) \n",
    "X ['index'] = X.index\n",
    "Y = full_data['Close']\n"
   ]
  },
  {
   "cell_type": "markdown",
   "id": "9d210f3a",
   "metadata": {
    "papermill": {
     "duration": 0.005037,
     "end_time": "2022-10-06T05:32:20.773487",
     "exception": false,
     "start_time": "2022-10-06T05:32:20.768450",
     "status": "completed"
    },
    "tags": []
   },
   "source": [
    "#### Creating a simple XGBoost Regression Model \n",
    "This will have a high error value but will serve as a comparison for the cross-validated regression and prophet models"
   ]
  },
  {
   "cell_type": "code",
   "execution_count": 7,
   "id": "be0940a2",
   "metadata": {
    "execution": {
     "iopub.execute_input": "2022-10-06T05:32:20.785733Z",
     "iopub.status.busy": "2022-10-06T05:32:20.785051Z",
     "iopub.status.idle": "2022-10-06T05:32:20.794122Z",
     "shell.execute_reply": "2022-10-06T05:32:20.793446Z"
    },
    "papermill": {
     "duration": 0.017429,
     "end_time": "2022-10-06T05:32:20.796008",
     "exception": false,
     "start_time": "2022-10-06T05:32:20.778579",
     "status": "completed"
    },
    "tags": []
   },
   "outputs": [],
   "source": [
    "## Creating a sample fold (must allocate indexes manually to prevent shuffling)\n",
    "X_train = X.iloc[0:800]\n",
    "X_test = X.iloc[800:1139]\n",
    "Y_train = Y.iloc[0:800]\n",
    "Y_test = Y.iloc[800:1139]\n",
    "\n",
    "# Categorical data must be removed for the XGBregressor, however index will be in place as date (eg. 2017-11-17 = 0)\n",
    "X_train = X_train.drop(columns = ['Date']).to_numpy()\n",
    "X_test = X_test.drop(columns = ['Date']).to_numpy()\n",
    "Y_train = Y_train.drop(columns = ['Date']).to_numpy()\n",
    "Y_test = Y_test.drop(columns = ['Date']).to_numpy()\n"
   ]
  },
  {
   "cell_type": "code",
   "execution_count": 8,
   "id": "303b70e9",
   "metadata": {
    "execution": {
     "iopub.execute_input": "2022-10-06T05:32:20.807592Z",
     "iopub.status.busy": "2022-10-06T05:32:20.807256Z",
     "iopub.status.idle": "2022-10-06T05:32:22.604601Z",
     "shell.execute_reply": "2022-10-06T05:32:22.603642Z"
    },
    "papermill": {
     "duration": 1.80795,
     "end_time": "2022-10-06T05:32:22.609067",
     "exception": false,
     "start_time": "2022-10-06T05:32:20.801117",
     "status": "completed"
    },
    "tags": []
   },
   "outputs": [
    {
     "name": "stdout",
     "output_type": "stream",
     "text": [
      "76.80376326906087\n"
     ]
    }
   ],
   "source": [
    "from xgboost.sklearn import XGBRegressor\n",
    "from sklearn.metrics import mean_squared_error\n",
    "model = XGBRegressor()\n",
    "model.fit(X_train, Y_train)\n",
    "preds = model.predict(X_test)\n",
    "\n",
    "mse_xgboost = mean_squared_error (preds, Y_test)\n",
    "print(mse_xgboost)\n"
   ]
  },
  {
   "cell_type": "markdown",
   "id": "c2aaf90d",
   "metadata": {
    "papermill": {
     "duration": 0.007129,
     "end_time": "2022-10-06T05:32:22.623795",
     "exception": false,
     "start_time": "2022-10-06T05:32:22.616666",
     "status": "completed"
    },
    "tags": []
   },
   "source": [
    "# Adding Cross Validation using an Expanding Window \n",
    "## After creating the folds, will build regressive models\n",
    "Using an expanding window to train the model - ExpandingWindowSplitter  generates folds across an sliding window. The length of the training series grows with time, with each subsequent fold retaining the full series history up to that point. The testing series remains the same length throughout. "
   ]
  },
  {
   "cell_type": "markdown",
   "id": "548f442a",
   "metadata": {
    "execution": {
     "iopub.status.busy": "2022-10-06T05:09:05.856699Z",
     "iopub.status.idle": "2022-10-06T05:09:05.857120Z",
     "shell.execute_reply": "2022-10-06T05:09:05.856944Z",
     "shell.execute_reply.started": "2022-10-06T05:09:05.856925Z"
    },
    "papermill": {
     "duration": 0.004882,
     "end_time": "2022-10-06T05:32:22.633973",
     "exception": false,
     "start_time": "2022-10-06T05:32:22.629091",
     "status": "completed"
    },
    "tags": []
   },
   "source": [
    "from sktime.forecasting.model_selection import ExpandingWindowSplitter\n",
    "cv = ExpandingWindowSplitter(window_length=100, fh=[1, 2, 3])\n",
    "\n",
    "n_splits = cv.get_n_splits(X)\n",
    "print(f\"Number of Folds = {n_splits}\")\n"
   ]
  },
  {
   "cell_type": "markdown",
   "id": "dd309edb",
   "metadata": {
    "papermill": {
     "duration": 0.006015,
     "end_time": "2022-10-06T05:32:22.645030",
     "exception": false,
     "start_time": "2022-10-06T05:32:22.639015",
     "status": "completed"
    },
    "tags": []
   },
   "source": []
  },
  {
   "cell_type": "markdown",
   "id": "3a1c5599",
   "metadata": {
    "papermill": {
     "duration": 0.004911,
     "end_time": "2022-10-06T05:32:22.655069",
     "exception": false,
     "start_time": "2022-10-06T05:32:22.650158",
     "status": "completed"
    },
    "tags": []
   },
   "source": [
    "# Facebook Prophet Approach "
   ]
  },
  {
   "cell_type": "code",
   "execution_count": 9,
   "id": "2a605579",
   "metadata": {
    "execution": {
     "iopub.execute_input": "2022-10-06T05:32:22.667458Z",
     "iopub.status.busy": "2022-10-06T05:32:22.666912Z",
     "iopub.status.idle": "2022-10-06T05:32:54.397550Z",
     "shell.execute_reply": "2022-10-06T05:32:54.396488Z"
    },
    "papermill": {
     "duration": 31.740017,
     "end_time": "2022-10-06T05:32:54.400242",
     "exception": false,
     "start_time": "2022-10-06T05:32:22.660225",
     "status": "completed"
    },
    "tags": []
   },
   "outputs": [
    {
     "name": "stdout",
     "output_type": "stream",
     "text": [
      "Requirement already satisfied: prophet in /opt/conda/lib/python3.7/site-packages (1.1.1)\r\n",
      "Requirement already satisfied: pandas>=1.0.4 in /opt/conda/lib/python3.7/site-packages (from prophet) (1.3.5)\r\n",
      "Requirement already satisfied: python-dateutil>=2.8.0 in /opt/conda/lib/python3.7/site-packages (from prophet) (2.8.2)\r\n",
      "Requirement already satisfied: LunarCalendar>=0.0.9 in /opt/conda/lib/python3.7/site-packages (from prophet) (0.0.9)\r\n",
      "Requirement already satisfied: tqdm>=4.36.1 in /opt/conda/lib/python3.7/site-packages (from prophet) (4.64.0)\r\n",
      "Requirement already satisfied: setuptools-git>=1.2 in /opt/conda/lib/python3.7/site-packages (from prophet) (1.2)\r\n",
      "Requirement already satisfied: wheel>=0.37.0 in /opt/conda/lib/python3.7/site-packages (from prophet) (0.37.1)\r\n",
      "Requirement already satisfied: matplotlib>=2.0.0 in /opt/conda/lib/python3.7/site-packages (from prophet) (3.5.3)\r\n",
      "Requirement already satisfied: holidays>=0.14.2 in /opt/conda/lib/python3.7/site-packages (from prophet) (0.15)\r\n",
      "Requirement already satisfied: convertdate>=2.1.2 in /opt/conda/lib/python3.7/site-packages (from prophet) (2.4.0)\r\n",
      "Requirement already satisfied: setuptools>=42 in /opt/conda/lib/python3.7/site-packages (from prophet) (59.8.0)\r\n",
      "Requirement already satisfied: numpy>=1.15.4 in /opt/conda/lib/python3.7/site-packages (from prophet) (1.21.6)\r\n",
      "Requirement already satisfied: cmdstanpy>=1.0.4 in /opt/conda/lib/python3.7/site-packages (from prophet) (1.0.7)\r\n",
      "Requirement already satisfied: ujson in /opt/conda/lib/python3.7/site-packages (from cmdstanpy>=1.0.4->prophet) (5.3.0)\r\n",
      "Requirement already satisfied: pymeeus<=1,>=0.3.13 in /opt/conda/lib/python3.7/site-packages (from convertdate>=2.1.2->prophet) (0.5.11)\r\n",
      "Requirement already satisfied: hijri-converter in /opt/conda/lib/python3.7/site-packages (from holidays>=0.14.2->prophet) (2.2.4)\r\n",
      "Requirement already satisfied: korean-lunar-calendar in /opt/conda/lib/python3.7/site-packages (from holidays>=0.14.2->prophet) (0.2.1)\r\n",
      "Requirement already satisfied: pytz in /opt/conda/lib/python3.7/site-packages (from LunarCalendar>=0.0.9->prophet) (2022.1)\r\n",
      "Requirement already satisfied: ephem>=3.7.5.3 in /opt/conda/lib/python3.7/site-packages (from LunarCalendar>=0.0.9->prophet) (4.1.3)\r\n",
      "Requirement already satisfied: pillow>=6.2.0 in /opt/conda/lib/python3.7/site-packages (from matplotlib>=2.0.0->prophet) (9.1.1)\r\n",
      "Requirement already satisfied: fonttools>=4.22.0 in /opt/conda/lib/python3.7/site-packages (from matplotlib>=2.0.0->prophet) (4.33.3)\r\n",
      "Requirement already satisfied: packaging>=20.0 in /opt/conda/lib/python3.7/site-packages (from matplotlib>=2.0.0->prophet) (21.3)\r\n",
      "Requirement already satisfied: cycler>=0.10 in /opt/conda/lib/python3.7/site-packages (from matplotlib>=2.0.0->prophet) (0.11.0)\r\n",
      "Requirement already satisfied: pyparsing>=2.2.1 in /opt/conda/lib/python3.7/site-packages (from matplotlib>=2.0.0->prophet) (3.0.9)\r\n",
      "Requirement already satisfied: kiwisolver>=1.0.1 in /opt/conda/lib/python3.7/site-packages (from matplotlib>=2.0.0->prophet) (1.4.3)\r\n",
      "Requirement already satisfied: six>=1.5 in /opt/conda/lib/python3.7/site-packages (from python-dateutil>=2.8.0->prophet) (1.15.0)\r\n",
      "Requirement already satisfied: typing-extensions in /opt/conda/lib/python3.7/site-packages (from kiwisolver>=1.0.1->matplotlib>=2.0.0->prophet) (4.3.0)\r\n",
      "\u001b[33mWARNING: Running pip as the 'root' user can result in broken permissions and conflicting behaviour with the system package manager. It is recommended to use a virtual environment instead: https://pip.pypa.io/warnings/venv\u001b[0m\u001b[33m\r\n",
      "\u001b[0m\u001b[33mWARNING: There was an error checking the latest version of pip.\u001b[0m\u001b[33m\r\n",
      "\u001b[0m"
     ]
    }
   ],
   "source": [
    "!pip install prophet;"
   ]
  },
  {
   "cell_type": "code",
   "execution_count": 10,
   "id": "aa776392",
   "metadata": {
    "execution": {
     "iopub.execute_input": "2022-10-06T05:32:54.414225Z",
     "iopub.status.busy": "2022-10-06T05:32:54.413787Z",
     "iopub.status.idle": "2022-10-06T05:32:54.750483Z",
     "shell.execute_reply": "2022-10-06T05:32:54.749269Z"
    },
    "papermill": {
     "duration": 0.3469,
     "end_time": "2022-10-06T05:32:54.753226",
     "exception": false,
     "start_time": "2022-10-06T05:32:54.406326",
     "status": "completed"
    },
    "tags": []
   },
   "outputs": [],
   "source": [
    "from prophet import Prophet\n",
    "# dropping cols to avoid leakage\n",
    "full_data_prophet = full_data.drop(columns = ['Adj Close']) \n",
    "full_data_prophet.rename(columns={'Date':'ds','Close':'y'},inplace=True)\n",
    "full_data_prophet['ds'] = pd.to_datetime(full_data_prophet['ds'])\n"
   ]
  },
  {
   "cell_type": "code",
   "execution_count": 11,
   "id": "80543094",
   "metadata": {
    "execution": {
     "iopub.execute_input": "2022-10-06T05:32:54.766840Z",
     "iopub.status.busy": "2022-10-06T05:32:54.766375Z",
     "iopub.status.idle": "2022-10-06T05:33:08.538460Z",
     "shell.execute_reply": "2022-10-06T05:33:08.537425Z"
    },
    "papermill": {
     "duration": 13.782168,
     "end_time": "2022-10-06T05:33:08.541340",
     "exception": false,
     "start_time": "2022-10-06T05:32:54.759172",
     "status": "completed"
    },
    "tags": []
   },
   "outputs": [
    {
     "name": "stderr",
     "output_type": "stream",
     "text": [
      "05:32:55 - cmdstanpy - INFO - Chain [1] start processing\n",
      "05:32:56 - cmdstanpy - INFO - Chain [1] done processing\n",
      "05:32:57 - cmdstanpy - INFO - Chain [1] start processing\n",
      "05:32:57 - cmdstanpy - INFO - Chain [1] done processing\n",
      "05:32:58 - cmdstanpy - INFO - Chain [1] start processing\n",
      "05:32:58 - cmdstanpy - INFO - Chain [1] done processing\n",
      "05:32:59 - cmdstanpy - INFO - Chain [1] start processing\n",
      "05:32:59 - cmdstanpy - INFO - Chain [1] done processing\n",
      "05:33:00 - cmdstanpy - INFO - Chain [1] start processing\n",
      "05:33:01 - cmdstanpy - INFO - Chain [1] done processing\n",
      "05:33:02 - cmdstanpy - INFO - Chain [1] start processing\n",
      "05:33:02 - cmdstanpy - INFO - Chain [1] done processing\n",
      "05:33:03 - cmdstanpy - INFO - Chain [1] start processing\n",
      "05:33:03 - cmdstanpy - INFO - Chain [1] done processing\n",
      "05:33:04 - cmdstanpy - INFO - Chain [1] start processing\n",
      "05:33:05 - cmdstanpy - INFO - Chain [1] done processing\n",
      "05:33:05 - cmdstanpy - INFO - Chain [1] start processing\n",
      "05:33:06 - cmdstanpy - INFO - Chain [1] done processing\n",
      "05:33:07 - cmdstanpy - INFO - Chain [1] start processing\n",
      "05:33:07 - cmdstanpy - INFO - Chain [1] done processing\n"
     ]
    }
   ],
   "source": [
    "# we will use a rolling 120 day prophet model to predict the following day \n",
    "from sklearn.metrics import mean_squared_error\n",
    "preds_vs_actual = pd.DataFrame(columns = ['Actual', 'Predicted'], index = [0,1,2,3,4,5,6,7,8,9])\n",
    "\n",
    "for i in range(0,10): #for i in range(0,len(full_data_prophet)):\n",
    "    rolling_train_data = full_data_prophet.iloc[0+i:240+i,:] #0-120, 1-121, ...\n",
    "    model = Prophet()\n",
    "    model.fit(full_data_prophet)\n",
    "    days_left = len(full_data_prophet) - i \n",
    "    future_dates = model.make_future_dataframe(periods=1, freq='D') # MUST CHANGE to get only next day pred\n",
    "    forecast = model.predict(future_dates)\n",
    "    preds_vs_actual['Actual'][i] = Y[i]\n",
    "    preds_vs_actual['Predicted'][i]= forecast['yhat'][0]\n",
    "    i=i+1\n",
    "    \n",
    "preds_vs_actual.head()\n",
    "mse = mean_squared_error (preds_vs_actual['Actual'], preds_vs_actual['Predicted'])"
   ]
  },
  {
   "cell_type": "code",
   "execution_count": 12,
   "id": "ab9eed53",
   "metadata": {
    "execution": {
     "iopub.execute_input": "2022-10-06T05:33:08.556980Z",
     "iopub.status.busy": "2022-10-06T05:33:08.556615Z",
     "iopub.status.idle": "2022-10-06T05:33:08.562095Z",
     "shell.execute_reply": "2022-10-06T05:33:08.561034Z"
    },
    "papermill": {
     "duration": 0.016273,
     "end_time": "2022-10-06T05:33:08.564817",
     "exception": false,
     "start_time": "2022-10-06T05:33:08.548544",
     "status": "completed"
    },
    "tags": []
   },
   "outputs": [
    {
     "name": "stdout",
     "output_type": "stream",
     "text": [
      "5.320997580131726\n"
     ]
    }
   ],
   "source": [
    "print(mse)"
   ]
  }
 ],
 "metadata": {
  "kernelspec": {
   "display_name": "Python 3",
   "language": "python",
   "name": "python3"
  },
  "language_info": {
   "codemirror_mode": {
    "name": "ipython",
    "version": 3
   },
   "file_extension": ".py",
   "mimetype": "text/x-python",
   "name": "python",
   "nbconvert_exporter": "python",
   "pygments_lexer": "ipython3",
   "version": "3.7.12"
  },
  "papermill": {
   "default_parameters": {},
   "duration": 57.453644,
   "end_time": "2022-10-06T05:33:09.394406",
   "environment_variables": {},
   "exception": null,
   "input_path": "__notebook__.ipynb",
   "output_path": "__notebook__.ipynb",
   "parameters": {},
   "start_time": "2022-10-06T05:32:11.940762",
   "version": "2.3.4"
  }
 },
 "nbformat": 4,
 "nbformat_minor": 5
}
