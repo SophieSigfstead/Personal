{
 "cells": [
  {
   "cell_type": "markdown",
   "id": "4b89aab9",
   "metadata": {
    "papermill": {
     "duration": 0.005501,
     "end_time": "2022-10-06T00:35:39.139063",
     "exception": false,
     "start_time": "2022-10-06T00:35:39.133562",
     "status": "completed"
    },
    "tags": []
   },
   "source": [
    "# Handwritten Digit Recognizer #\n",
    "Reference for description: https://www.kaggle.com/competitions/digit-recognizer/overview\n",
    "\n",
    "MNIST (\"Modified National Institute of Standards and Technology\") is the de facto “hello world” dataset of computer vision. Since its release in 1999, this classic dataset of handwritten images has served as the basis for benchmarking classification algorithms. As new machine learning techniques emerge, MNIST remains a reliable resource for researchers and learners alike. The MNIST dataset represents handwritten images as arrays of digits, with digit value corresponding to darkness in the image. \n",
    "\n",
    "Below, the goal is to build a model to correctly identify digits from a dataset 42000 handwritten images. This can be approached numerous ways, but in this case,  the problem will be approached as a multi-class classification problem, as the target variable (classification as a digit 0-9) is a non-continuous value. Four different classification models will be evaluated below, comparing accuracy score to select the model for submission. \n"
   ]
  },
  {
   "cell_type": "markdown",
   "id": "0ec98f7b",
   "metadata": {
    "papermill": {
     "duration": 0.003915,
     "end_time": "2022-10-06T00:35:39.147500",
     "exception": false,
     "start_time": "2022-10-06T00:35:39.143585",
     "status": "completed"
    },
    "tags": []
   },
   "source": [
    "### Set-Up ###"
   ]
  },
  {
   "cell_type": "code",
   "execution_count": 1,
   "id": "abf8ac21",
   "metadata": {
    "_cell_guid": "b1076dfc-b9ad-4769-8c92-a6c4dae69d19",
    "_uuid": "8f2839f25d086af736a60e9eeb907d3b93b6e0e5",
    "execution": {
     "iopub.execute_input": "2022-10-06T00:35:39.158461Z",
     "iopub.status.busy": "2022-10-06T00:35:39.157622Z",
     "iopub.status.idle": "2022-10-06T00:35:47.378321Z",
     "shell.execute_reply": "2022-10-06T00:35:47.377295Z"
    },
    "papermill": {
     "duration": 8.230008,
     "end_time": "2022-10-06T00:35:47.381714",
     "exception": false,
     "start_time": "2022-10-06T00:35:39.151706",
     "status": "completed"
    },
    "tags": []
   },
   "outputs": [
    {
     "name": "stdout",
     "output_type": "stream",
     "text": [
      "/kaggle/input/digit-recognizer/sample_submission.csv\n",
      "/kaggle/input/digit-recognizer/train.csv\n",
      "/kaggle/input/digit-recognizer/test.csv\n"
     ]
    }
   ],
   "source": [
    "# Input data files are available in the read-only \"../input/\" directory\n",
    "# For example, running this (by clicking run or pressing Shift+Enter) will list all files under the input directory\n",
    "\n",
    "import os\n",
    "for dirname, _, filenames in os.walk('/kaggle/input'):\n",
    "    for filename in filenames:\n",
    "        print(os.path.join(dirname, filename))\n",
    "        \n",
    "## Importing relevant packages \n",
    "\n",
    "import numpy as np \n",
    "import pandas as pd\n",
    "import sklearn\n",
    "from sklearn.model_selection import train_test_split\n",
    "from sklearn.linear_model import LogisticRegression\n",
    "from sklearn.metrics import mean_absolute_error, max_error, r2_score\n",
    "import matplotlib.pyplot as plt\n",
    "from PIL import Image as im\n",
    "%matplotlib inline\n",
    "\n",
    "\n",
    "data = pd.read_csv('/kaggle/input/digit-recognizer/train.csv').to_numpy()\n",
    "example_sub = pd.read_csv('/kaggle/input/digit-recognizer/sample_submission.csv').to_numpy()\n",
    "test_data = pd.read_csv('/kaggle/input/digit-recognizer/test.csv').to_numpy()\n",
    "    \n",
    "Y = data[:,0] # this is the actual digit drawn by the user\n",
    "X = data[:,1:] # these are the pixel representations: columns 1-784 for a digit in Y. Value => Darkness\n",
    "\n",
    "# You can write up to 20GB to the current directory (/kaggle/working/) that gets preserved as output when you create a version using \"Save & Run All\" \n",
    "# You can also write temporary files to /kaggle/temp/, but they won't be saved outside of the current session"
   ]
  },
  {
   "cell_type": "markdown",
   "id": "5a8549a9",
   "metadata": {
    "papermill": {
     "duration": 0.00613,
     "end_time": "2022-10-06T00:35:47.394335",
     "exception": false,
     "start_time": "2022-10-06T00:35:47.388205",
     "status": "completed"
    },
    "tags": []
   },
   "source": [
    "### Data Visualization ###\n",
    "To understand how the images look, a few will be generated below. Dataset information:\n",
    "https://www.kaggle.com/competitions/digit-recognizer/dat"
   ]
  },
  {
   "cell_type": "code",
   "execution_count": 2,
   "id": "17cc191f",
   "metadata": {
    "execution": {
     "iopub.execute_input": "2022-10-06T00:35:47.405643Z",
     "iopub.status.busy": "2022-10-06T00:35:47.405008Z",
     "iopub.status.idle": "2022-10-06T00:35:47.960921Z",
     "shell.execute_reply": "2022-10-06T00:35:47.959560Z"
    },
    "papermill": {
     "duration": 0.564879,
     "end_time": "2022-10-06T00:35:47.963854",
     "exception": false,
     "start_time": "2022-10-06T00:35:47.398975",
     "status": "completed"
    },
    "tags": []
   },
   "outputs": [
    {
     "data": {
      "image/png": "[encoded data removed]",
      "text/plain": [
       "<Figure size 720x288 with 1 Axes>"
      ]
     },
     "metadata": {
      "needs_background": "light"
     },
     "output_type": "display_data"
    },
    {
     "data": {
      "image/png": "[encoded data removed]",
      "text/plain": [
       "<Figure size 432x288 with 1 Axes>"
      ]
     },
     "metadata": {
      "needs_background": "light"
     },
     "output_type": "display_data"
    },
    {
     "data": {
      "image/png": "[encoded data removed]",
      "text/plain": [
       "<Figure size 432x288 with 1 Axes>"
      ]
     },
     "metadata": {
      "needs_background": "light"
     },
     "output_type": "display_data"
    }
   ],
   "source": [
    "plt.figure(figsize = (10,4))\n",
    "for i in range(3):\n",
    "    target = Y[i]\n",
    "    image_row = X[i]\n",
    "    plt.imshow(np.reshape(image_row, (28,28)), cmap = 'gray')\n",
    "    plt.title(\"Hand-drawn Number %d\" % target)\n",
    "    plt.show()"
   ]
  },
  {
   "cell_type": "markdown",
   "id": "96de6f51",
   "metadata": {
    "papermill": {
     "duration": 0.004732,
     "end_time": "2022-10-06T00:35:47.973791",
     "exception": false,
     "start_time": "2022-10-06T00:35:47.969059",
     "status": "completed"
    },
    "tags": []
   },
   "source": [
    "# Model Experimentation #"
   ]
  },
  {
   "cell_type": "code",
   "execution_count": 3,
   "id": "14fb384c",
   "metadata": {
    "execution": {
     "iopub.execute_input": "2022-10-06T00:35:47.985848Z",
     "iopub.status.busy": "2022-10-06T00:35:47.985442Z",
     "iopub.status.idle": "2022-10-06T00:35:48.670600Z",
     "shell.execute_reply": "2022-10-06T00:35:48.669229Z"
    },
    "papermill": {
     "duration": 0.694698,
     "end_time": "2022-10-06T00:35:48.673560",
     "exception": false,
     "start_time": "2022-10-06T00:35:47.978862",
     "status": "completed"
    },
    "tags": []
   },
   "outputs": [],
   "source": [
    "X_train, X_valid, Y_train, Y_valid = train_test_split(X, Y, test_size = 0.2)\n",
    "\n",
    "from sklearn.linear_model import SGDClassifier\n",
    "from xgboost.sklearn import XGBClassifier \n",
    "from sklearn.ensemble import RandomForestClassifier\n",
    "from sklearn.neighbors import KNeighborsClassifier\n",
    "from sklearn.metrics import accuracy_score\n",
    "    \n",
    "\n",
    "def class_model (model_name, model_initiation):\n",
    "      model = model_initiation\n",
    "      model.fit(X_train, Y_train)\n",
    "      preds = model.predict(X_valid)\n",
    "      acc_score = accuracy_score (Y_valid, preds) \n",
    "      print (model_name + \" Accuracy Score:\" + str(acc_score))"
   ]
  },
  {
   "cell_type": "code",
   "execution_count": 4,
   "id": "a44aa922",
   "metadata": {
    "execution": {
     "iopub.execute_input": "2022-10-06T00:35:48.686058Z",
     "iopub.status.busy": "2022-10-06T00:35:48.685145Z",
     "iopub.status.idle": "2022-10-06T00:43:50.273839Z",
     "shell.execute_reply": "2022-10-06T00:43:50.272445Z"
    },
    "papermill": {
     "duration": 481.602905,
     "end_time": "2022-10-06T00:43:50.281717",
     "exception": false,
     "start_time": "2022-10-06T00:35:48.678812",
     "status": "completed"
    },
    "tags": []
   },
   "outputs": [
    {
     "name": "stdout",
     "output_type": "stream",
     "text": [
      "XGBClass Accuracy Score:0.9746428571428571\n"
     ]
    }
   ],
   "source": [
    "class_model(\"XGBClass\", XGBClassifier())"
   ]
  },
  {
   "cell_type": "code",
   "execution_count": 5,
   "id": "494b17e0",
   "metadata": {
    "execution": {
     "iopub.execute_input": "2022-10-06T00:43:50.294540Z",
     "iopub.status.busy": "2022-10-06T00:43:50.294121Z",
     "iopub.status.idle": "2022-10-06T00:45:11.691057Z",
     "shell.execute_reply": "2022-10-06T00:45:11.688891Z"
    },
    "papermill": {
     "duration": 81.41531,
     "end_time": "2022-10-06T00:45:11.702299",
     "exception": false,
     "start_time": "2022-10-06T00:43:50.286989",
     "status": "completed"
    },
    "tags": []
   },
   "outputs": [
    {
     "name": "stdout",
     "output_type": "stream",
     "text": [
      "SGDClass Accuracy Score:0.8770238095238095\n"
     ]
    }
   ],
   "source": [
    "class_model(\"SGDClass\", SGDClassifier())"
   ]
  },
  {
   "cell_type": "code",
   "execution_count": 6,
   "id": "84190839",
   "metadata": {
    "execution": {
     "iopub.execute_input": "2022-10-06T00:45:11.722534Z",
     "iopub.status.busy": "2022-10-06T00:45:11.721920Z",
     "iopub.status.idle": "2022-10-06T00:45:23.795687Z",
     "shell.execute_reply": "2022-10-06T00:45:23.794024Z"
    },
    "papermill": {
     "duration": 12.087485,
     "end_time": "2022-10-06T00:45:23.799005",
     "exception": false,
     "start_time": "2022-10-06T00:45:11.711520",
     "status": "completed"
    },
    "tags": []
   },
   "outputs": [
    {
     "name": "stdout",
     "output_type": "stream",
     "text": [
      "KNeighbours Accuracy Score:0.9673809523809523\n"
     ]
    }
   ],
   "source": [
    "class_model (\"KNeighbours\", KNeighborsClassifier())"
   ]
  },
  {
   "cell_type": "code",
   "execution_count": 7,
   "id": "08044d7a",
   "metadata": {
    "execution": {
     "iopub.execute_input": "2022-10-06T00:45:23.812081Z",
     "iopub.status.busy": "2022-10-06T00:45:23.811644Z",
     "iopub.status.idle": "2022-10-06T00:45:48.502854Z",
     "shell.execute_reply": "2022-10-06T00:45:48.501321Z"
    },
    "papermill": {
     "duration": 24.701022,
     "end_time": "2022-10-06T00:45:48.505741",
     "exception": false,
     "start_time": "2022-10-06T00:45:23.804719",
     "status": "completed"
    },
    "tags": []
   },
   "outputs": [
    {
     "name": "stdout",
     "output_type": "stream",
     "text": [
      "RandomForestClassifer Accuracy Score:0.9615476190476191\n"
     ]
    }
   ],
   "source": [
    "class_model (\"RandomForestClassifer\", RandomForestClassifier())"
   ]
  },
  {
   "cell_type": "markdown",
   "id": "73502eb2",
   "metadata": {
    "papermill": {
     "duration": 0.005455,
     "end_time": "2022-10-06T00:45:48.516912",
     "exception": false,
     "start_time": "2022-10-06T00:45:48.511457",
     "status": "completed"
    },
    "tags": []
   },
   "source": [
    "Conclusion: XGBoost Classification produces the strongest results, with an accuracy score of 0.97. As such, it will be selected for the final submission. "
   ]
  },
  {
   "cell_type": "markdown",
   "id": "4b2c23f3",
   "metadata": {
    "papermill": {
     "duration": 0.005474,
     "end_time": "2022-10-06T00:45:48.528216",
     "exception": false,
     "start_time": "2022-10-06T00:45:48.522742",
     "status": "completed"
    },
    "tags": []
   },
   "source": [
    "### Final Model Creation ###"
   ]
  },
  {
   "cell_type": "code",
   "execution_count": 8,
   "id": "4a97c9bd",
   "metadata": {
    "execution": {
     "iopub.execute_input": "2022-10-06T00:45:48.540851Z",
     "iopub.status.busy": "2022-10-06T00:45:48.540381Z",
     "iopub.status.idle": "2022-10-06T00:56:09.964381Z",
     "shell.execute_reply": "2022-10-06T00:56:09.963228Z"
    },
    "papermill": {
     "duration": 621.433527,
     "end_time": "2022-10-06T00:56:09.967229",
     "exception": false,
     "start_time": "2022-10-06T00:45:48.533702",
     "status": "completed"
    },
    "tags": []
   },
   "outputs": [],
   "source": [
    "# Creating the final model to generate submission predictions\n",
    "prediction_model = XGBClassifier()\n",
    "prediction_model.fit(X,Y)\n",
    "preds = prediction_model.predict(test_data)\n"
   ]
  },
  {
   "cell_type": "markdown",
   "id": "1b40e144",
   "metadata": {
    "papermill": {
     "duration": 0.004847,
     "end_time": "2022-10-06T00:56:09.977644",
     "exception": false,
     "start_time": "2022-10-06T00:56:09.972797",
     "status": "completed"
    },
    "tags": []
   },
   "source": [
    "#### Submitting Results ####"
   ]
  },
  {
   "cell_type": "code",
   "execution_count": 9,
   "id": "16918a6d",
   "metadata": {
    "execution": {
     "iopub.execute_input": "2022-10-06T00:56:09.990310Z",
     "iopub.status.busy": "2022-10-06T00:56:09.989617Z",
     "iopub.status.idle": "2022-10-06T00:56:10.028102Z",
     "shell.execute_reply": "2022-10-06T00:56:10.027153Z"
    },
    "papermill": {
     "duration": 0.047927,
     "end_time": "2022-10-06T00:56:10.030721",
     "exception": false,
     "start_time": "2022-10-06T00:56:09.982794",
     "status": "completed"
    },
    "tags": []
   },
   "outputs": [],
   "source": [
    "from pandas import Series\n",
    "\n",
    "col1 = Series(np.arange(1,28001))\n",
    "col2 = preds\n",
    "combined_array=np.column_stack((col1,col2))\n",
    "df = pd.DataFrame(combined_array, columns = ['ImageId', 'Label'])\n",
    "df.to_csv('submission.csv', index=False)\n"
   ]
  }
 ],
 "metadata": {
  "kernelspec": {
   "display_name": "Python 3",
   "language": "python",
   "name": "python3"
  },
  "language_info": {
   "codemirror_mode": {
    "name": "ipython",
    "version": 3
   },
   "file_extension": ".py",
   "mimetype": "text/x-python",
   "name": "python",
   "nbconvert_exporter": "python",
   "pygments_lexer": "ipython3",
   "version": "3.7.12"
  },
  "papermill": {
   "default_parameters": {},
   "duration": 1242.205058,
   "end_time": "2022-10-06T00:56:10.860127",
   "environment_variables": {},
   "exception": null,
   "input_path": "__notebook__.ipynb",
   "output_path": "__notebook__.ipynb",
   "parameters": {},
   "start_time": "2022-10-06T00:35:28.655069",
   "version": "2.3.4"
  }
 },
 "nbformat": 4,
 "nbformat_minor": 5
}
