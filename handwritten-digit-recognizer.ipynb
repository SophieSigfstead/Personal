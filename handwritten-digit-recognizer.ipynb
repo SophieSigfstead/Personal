{
 "cells": [
  {
   "cell_type": "code",
   "execution_count": 1,
   "id": "fd74f0f3",
   "metadata": {
    "_cell_guid": "b1076dfc-b9ad-4769-8c92-a6c4dae69d19",
    "_uuid": "8f2839f25d086af736a60e9eeb907d3b93b6e0e5",
    "execution": {
     "iopub.execute_input": "2022-10-05T06:52:16.676269Z",
     "iopub.status.busy": "2022-10-05T06:52:16.675075Z",
     "iopub.status.idle": "2022-10-05T06:52:24.149700Z",
     "shell.execute_reply": "2022-10-05T06:52:24.147708Z"
    },
    "papermill": {
     "duration": 7.485022,
     "end_time": "2022-10-05T06:52:24.152758",
     "exception": false,
     "start_time": "2022-10-05T06:52:16.667736",
     "status": "completed"
    },
    "tags": []
   },
   "outputs": [
    {
     "name": "stdout",
     "output_type": "stream",
     "text": [
      "/kaggle/input/digit-recognizer/sample_submission.csv\n",
      "/kaggle/input/digit-recognizer/train.csv\n",
      "/kaggle/input/digit-recognizer/test.csv\n",
      "42000\n"
     ]
    }
   ],
   "source": [
    "# This Python 3 environment comes with many helpful analytics libraries installed\n",
    "# It is defined by the kaggle/python Docker image: https://github.com/kaggle/docker-python\n",
    "# For example, here's several helpful packages to load\n",
    "\n",
    "import numpy as np \n",
    "import pandas as pd\n",
    "import sklearn\n",
    "from sklearn.model_selection import train_test_split\n",
    "from sklearn.linear_model import LogisticRegression\n",
    "from sklearn.metrics import mean_absolute_error, max_error, r2_score\n",
    "import matplotlib.pyplot as plt\n",
    "from PIL import Image as im\n",
    "%matplotlib inline\n",
    "\n",
    "# Input data files are available in the read-only \"../input/\" directory\n",
    "# For example, running this (by clicking run or pressing Shift+Enter) will list all files under the input directory\n",
    "\n",
    "import os\n",
    "for dirname, _, filenames in os.walk('/kaggle/input'):\n",
    "    for filename in filenames:\n",
    "        print(os.path.join(dirname, filename))\n",
    "        \n",
    "data = pd.read_csv('/kaggle/input/digit-recognizer/train.csv').to_numpy()\n",
    "example_sub = pd.read_csv('/kaggle/input/digit-recognizer/sample_submission.csv').to_numpy()\n",
    "test_data = pd.read_csv('/kaggle/input/digit-recognizer/test.csv').to_numpy()\n",
    "    \n",
    "Y = data[:,0] # this is the actual digit drawn by the user\n",
    "X = data[:,1:] # these are the pixel representations: columns 1-784 for a digit in Y. Value => Darkness\n",
    "\n",
    "print(len(Y))\n",
    "\n",
    "# You can write up to 20GB to the current directory (/kaggle/working/) that gets preserved as output when you create a version using \"Save & Run All\" \n",
    "# You can also write temporary files to /kaggle/temp/, but they won't be saved outside of the current session"
   ]
  },
  {
   "cell_type": "code",
   "execution_count": 2,
   "id": "411b5141",
   "metadata": {
    "execution": {
     "iopub.execute_input": "2022-10-05T06:52:24.162579Z",
     "iopub.status.busy": "2022-10-05T06:52:24.162149Z",
     "iopub.status.idle": "2022-10-05T06:52:24.759748Z",
     "shell.execute_reply": "2022-10-05T06:52:24.758572Z"
    },
    "papermill": {
     "duration": 0.605074,
     "end_time": "2022-10-05T06:52:24.761998",
     "exception": false,
     "start_time": "2022-10-05T06:52:24.156924",
     "status": "completed"
    },
    "tags": []
   },
   "outputs": [
    {
     "data": {
      "image/png": "[encoded data removed]",
      "text/plain": [
       "<Figure size 720x288 with 1 Axes>"
      ]
     },
     "metadata": {
      "needs_background": "light"
     },
     "output_type": "display_data"
    },
    {
     "data": {
      "image/png": "[encoded data removed]",
      "text/plain": [
       "<Figure size 432x288 with 1 Axes>"
      ]
     },
     "metadata": {
      "needs_background": "light"
     },
     "output_type": "display_data"
    },
    {
     "data": {
      "image/png": "[encoded data removed]",
      "text/plain": [
       "<Figure size 432x288 with 1 Axes>"
      ]
     },
     "metadata": {
      "needs_background": "light"
     },
     "output_type": "display_data"
    }
   ],
   "source": [
    "plt.figure(figsize = (10,4))\n",
    "for i in range(3):\n",
    "    target = Y[i]\n",
    "    image_row = X[i]\n",
    "    plt.imshow(np.reshape(image_row, (28,28)), cmap = 'gray')\n",
    "    plt.title(\"Hand-drawn Number %d\" % target)\n",
    "    plt.show()"
   ]
  },
  {
   "cell_type": "markdown",
   "id": "2e75dbe9",
   "metadata": {
    "papermill": {
     "duration": 0.003892,
     "end_time": "2022-10-05T06:52:24.770347",
     "exception": false,
     "start_time": "2022-10-05T06:52:24.766455",
     "status": "completed"
    },
    "tags": []
   },
   "source": [
    "This problem is a classification problem, as the target variable (classification as a digit 0-9) is a non-continuous value. It is an example of multi-class classification. Four classification models will be evaluated below. "
   ]
  },
  {
   "cell_type": "markdown",
   "id": "a39d7f0f",
   "metadata": {
    "papermill": {
     "duration": 0.003748,
     "end_time": "2022-10-05T06:52:24.778143",
     "exception": false,
     "start_time": "2022-10-05T06:52:24.774395",
     "status": "completed"
    },
    "tags": []
   },
   "source": []
  },
  {
   "cell_type": "code",
   "execution_count": 3,
   "id": "fef783dd",
   "metadata": {
    "execution": {
     "iopub.execute_input": "2022-10-05T06:52:24.787858Z",
     "iopub.status.busy": "2022-10-05T06:52:24.787448Z",
     "iopub.status.idle": "2022-10-05T06:52:25.473328Z",
     "shell.execute_reply": "2022-10-05T06:52:25.471730Z"
    },
    "papermill": {
     "duration": 0.694382,
     "end_time": "2022-10-05T06:52:25.476532",
     "exception": false,
     "start_time": "2022-10-05T06:52:24.782150",
     "status": "completed"
    },
    "tags": []
   },
   "outputs": [],
   "source": [
    "X_train, X_valid, Y_train, Y_valid = train_test_split(X, Y, test_size = 0.2)\n",
    "\n",
    "from sklearn.linear_model import SGDClassifier\n",
    "from xgboost.sklearn import XGBClassifier \n",
    "from sklearn.ensemble import RandomForestClassifier\n",
    "from sklearn.neighbors import KNeighborsClassifier\n",
    "from sklearn.metrics import accuracy_score\n",
    "    \n",
    "\n",
    "def class_model (model_name, model_initiation):\n",
    "      model = model_initiation\n",
    "      model.fit(X_train, Y_train)\n",
    "      preds = model.predict(X_valid)\n",
    "      acc_score = accuracy_score (Y_valid, preds) \n",
    "      print (model_name + \" Accuracy Score:\" + str(acc_score))"
   ]
  },
  {
   "cell_type": "code",
   "execution_count": 4,
   "id": "28aea0fa",
   "metadata": {
    "execution": {
     "iopub.execute_input": "2022-10-05T06:52:25.488545Z",
     "iopub.status.busy": "2022-10-05T06:52:25.488152Z",
     "iopub.status.idle": "2022-10-05T06:52:25.495707Z",
     "shell.execute_reply": "2022-10-05T06:52:25.494648Z"
    },
    "papermill": {
     "duration": 0.016298,
     "end_time": "2022-10-05T06:52:25.497993",
     "exception": false,
     "start_time": "2022-10-05T06:52:25.481695",
     "status": "completed"
    },
    "tags": []
   },
   "outputs": [],
   "source": [
    "#class_model(\"XGBClass\", XGBClassifier())"
   ]
  },
  {
   "cell_type": "code",
   "execution_count": 5,
   "id": "3e0a4d11",
   "metadata": {
    "execution": {
     "iopub.execute_input": "2022-10-05T06:52:25.509418Z",
     "iopub.status.busy": "2022-10-05T06:52:25.508367Z",
     "iopub.status.idle": "2022-10-05T06:52:25.514134Z",
     "shell.execute_reply": "2022-10-05T06:52:25.512849Z"
    },
    "papermill": {
     "duration": 0.01386,
     "end_time": "2022-10-05T06:52:25.516409",
     "exception": false,
     "start_time": "2022-10-05T06:52:25.502549",
     "status": "completed"
    },
    "tags": []
   },
   "outputs": [],
   "source": [
    "#class_model(\"SGDClass\", SGDClassifier())"
   ]
  },
  {
   "cell_type": "code",
   "execution_count": 6,
   "id": "61efbf0a",
   "metadata": {
    "execution": {
     "iopub.execute_input": "2022-10-05T06:52:25.527579Z",
     "iopub.status.busy": "2022-10-05T06:52:25.526798Z",
     "iopub.status.idle": "2022-10-05T06:52:25.531680Z",
     "shell.execute_reply": "2022-10-05T06:52:25.530443Z"
    },
    "papermill": {
     "duration": 0.013532,
     "end_time": "2022-10-05T06:52:25.534418",
     "exception": false,
     "start_time": "2022-10-05T06:52:25.520886",
     "status": "completed"
    },
    "tags": []
   },
   "outputs": [],
   "source": [
    "#class_model (\"KNeighbours\", KNeighborsClassifier())"
   ]
  },
  {
   "cell_type": "code",
   "execution_count": 7,
   "id": "1cd269ae",
   "metadata": {
    "execution": {
     "iopub.execute_input": "2022-10-05T06:52:25.544898Z",
     "iopub.status.busy": "2022-10-05T06:52:25.544490Z",
     "iopub.status.idle": "2022-10-05T06:52:49.929472Z",
     "shell.execute_reply": "2022-10-05T06:52:49.927877Z"
    },
    "papermill": {
     "duration": 24.393992,
     "end_time": "2022-10-05T06:52:49.932798",
     "exception": false,
     "start_time": "2022-10-05T06:52:25.538806",
     "status": "completed"
    },
    "tags": []
   },
   "outputs": [
    {
     "name": "stdout",
     "output_type": "stream",
     "text": [
      "RandomForestClassifer Accuracy Score:0.9639285714285715\n"
     ]
    }
   ],
   "source": [
    "class_model (\"RandomForestClassifer\", RandomForestClassifier())"
   ]
  },
  {
   "cell_type": "code",
   "execution_count": 8,
   "id": "2742328f",
   "metadata": {
    "execution": {
     "iopub.execute_input": "2022-10-05T06:52:49.944303Z",
     "iopub.status.busy": "2022-10-05T06:52:49.943860Z",
     "iopub.status.idle": "2022-10-05T06:53:23.871478Z",
     "shell.execute_reply": "2022-10-05T06:53:23.869925Z"
    },
    "papermill": {
     "duration": 33.937256,
     "end_time": "2022-10-05T06:53:23.874974",
     "exception": false,
     "start_time": "2022-10-05T06:52:49.937718",
     "status": "completed"
    },
    "tags": []
   },
   "outputs": [],
   "source": [
    "prediction_model = RandomForestClassifier()\n",
    "prediction_model.fit(X,Y)\n",
    "preds = prediction_model.predict(test_data)\n"
   ]
  },
  {
   "cell_type": "code",
   "execution_count": 9,
   "id": "952d03e9",
   "metadata": {
    "execution": {
     "iopub.execute_input": "2022-10-05T06:53:23.887573Z",
     "iopub.status.busy": "2022-10-05T06:53:23.887179Z",
     "iopub.status.idle": "2022-10-05T06:53:23.929469Z",
     "shell.execute_reply": "2022-10-05T06:53:23.927638Z"
    },
    "papermill": {
     "duration": 0.052499,
     "end_time": "2022-10-05T06:53:23.933060",
     "exception": false,
     "start_time": "2022-10-05T06:53:23.880561",
     "status": "completed"
    },
    "tags": []
   },
   "outputs": [
    {
     "name": "stdout",
     "output_type": "stream",
     "text": [
      "28000\n"
     ]
    }
   ],
   "source": [
    "print(len(test_data))\n",
    "from pandas import Series\n",
    "\n",
    "col1 = Series(np.arange(len(test_data)))\n",
    "col2 = preds\n",
    "combined_array=np.column_stack((col1,col2))\n",
    "df = pd.DataFrame(combined_array)\n",
    "df.to_csv('submission.csv', index=False)\n",
    "\n",
    "\n"
   ]
  },
  {
   "cell_type": "markdown",
   "id": "2a29fa43",
   "metadata": {
    "papermill": {
     "duration": 0.004638,
     "end_time": "2022-10-05T06:53:23.942796",
     "exception": false,
     "start_time": "2022-10-05T06:53:23.938158",
     "status": "completed"
    },
    "tags": []
   },
   "source": [
    "KNeighbours has the best accuracy score, which is unsuprising given its proficiency for thes types of problems. "
   ]
  }
 ],
 "metadata": {
  "kernelspec": {
   "display_name": "Python 3",
   "language": "python",
   "name": "python3"
  },
  "language_info": {
   "codemirror_mode": {
    "name": "ipython",
    "version": 3
   },
   "file_extension": ".py",
   "mimetype": "text/x-python",
   "name": "python",
   "nbconvert_exporter": "python",
   "pygments_lexer": "ipython3",
   "version": "3.7.12"
  },
  "papermill": {
   "default_parameters": {},
   "duration": 77.175845,
   "end_time": "2022-10-05T06:53:24.772775",
   "environment_variables": {},
   "exception": null,
   "input_path": "__notebook__.ipynb",
   "output_path": "__notebook__.ipynb",
   "parameters": {},
   "start_time": "2022-10-05T06:52:07.596930",
   "version": "2.3.4"
  }
 },
 "nbformat": 4,
 "nbformat_minor": 5
}
