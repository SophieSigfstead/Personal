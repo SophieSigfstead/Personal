{
 "cells": [
  {
   "cell_type": "code",
   "execution_count": 1,
   "id": "402a6135",
   "metadata": {
    "_cell_guid": "b1076dfc-b9ad-4769-8c92-a6c4dae69d19",
    "_uuid": "8f2839f25d086af736a60e9eeb907d3b93b6e0e5",
    "execution": {
     "iopub.execute_input": "2022-10-08T01:14:30.662141Z",
     "iopub.status.busy": "2022-10-08T01:14:30.661509Z",
     "iopub.status.idle": "2022-10-08T01:14:33.311753Z",
     "shell.execute_reply": "2022-10-08T01:14:33.310437Z"
    },
    "papermill": {
     "duration": 2.666334,
     "end_time": "2022-10-08T01:14:33.314515",
     "exception": false,
     "start_time": "2022-10-08T01:14:30.648181",
     "status": "completed"
    },
    "tags": []
   },
   "outputs": [
    {
     "data": {
      "text/html": [
       "<style type='text/css'>\n",
       ".datatable table.frame { margin-bottom: 0; }\n",
       ".datatable table.frame thead { border-bottom: none; }\n",
       ".datatable table.frame tr.coltypes td {  color: #FFFFFF;  line-height: 6px;  padding: 0 0.5em;}\n",
       ".datatable .bool    { background: #DDDD99; }\n",
       ".datatable .object  { background: #565656; }\n",
       ".datatable .int     { background: #5D9E5D; }\n",
       ".datatable .float   { background: #4040CC; }\n",
       ".datatable .str     { background: #CC4040; }\n",
       ".datatable .time    { background: #40CC40; }\n",
       ".datatable .row_index {  background: var(--jp-border-color3);  border-right: 1px solid var(--jp-border-color0);  color: var(--jp-ui-font-color3);  font-size: 9px;}\n",
       ".datatable .frame tbody td { text-align: left; }\n",
       ".datatable .frame tr.coltypes .row_index {  background: var(--jp-border-color0);}\n",
       ".datatable th:nth-child(2) { padding-left: 12px; }\n",
       ".datatable .hellipsis {  color: var(--jp-cell-editor-border-color);}\n",
       ".datatable .vellipsis {  background: var(--jp-layout-color0);  color: var(--jp-cell-editor-border-color);}\n",
       ".datatable .na {  color: var(--jp-cell-editor-border-color);  font-size: 80%;}\n",
       ".datatable .sp {  opacity: 0.25;}\n",
       ".datatable .footer { font-size: 9px; }\n",
       ".datatable .frame_dimensions {  background: var(--jp-border-color3);  border-top: 1px solid var(--jp-border-color0);  color: var(--jp-ui-font-color3);  display: inline-block;  opacity: 0.6;  padding: 1px 10px 1px 5px;}\n",
       "</style>\n"
      ],
      "text/plain": [
       "<IPython.core.display.HTML object>"
      ]
     },
     "metadata": {},
     "output_type": "display_data"
    },
    {
     "name": "stdout",
     "output_type": "stream",
     "text": [
      "/kaggle/input/titanic/train.csv\n",
      "/kaggle/input/titanic/test.csv\n",
      "/kaggle/input/titanic/gender_submission.csv\n"
     ]
    }
   ],
   "source": [
    "# This Python 3 environment comes with many helpful analytics libraries installed\n",
    "# It is defined by the kaggle/python Docker image: https://github.com/kaggle/docker-python\n",
    "# For example, here's several helpful packages to load\n",
    "\n",
    "import numpy as np # linear algebra\n",
    "import pandas as pd # data processing, CSV file I/O (e.g. pd.read_csv)\n",
    "import matplotlib.pyplot as plt\n",
    "import seaborn as sns\n",
    "\n",
    "# import models from sklearn\n",
    "from sklearn.preprocessing import StandardScaler\n",
    "from sklearn.model_selection import cross_validate, GridSearchCV, StratifiedShuffleSplit, cross_val_score\n",
    "from sklearn.neighbors import KNeighborsClassifier\n",
    "from sklearn.linear_model import LogisticRegression\n",
    "from sklearn.tree import DecisionTreeClassifier\n",
    "from sklearn.ensemble import RandomForestClassifier\n",
    "from sklearn.svm import SVC\n",
    "from sklearn.neural_network import MLPClassifier\n",
    "from sklearn.naive_bayes import GaussianNB\n",
    "from xgboost import XGBClassifier\n",
    "from lightgbm import LGBMClassifier\n",
    "from sklearn.metrics import accuracy_score, f1_score, confusion_matrix\n",
    "from sklearn.preprocessing import LabelEncoder\n",
    "import seaborn as sns\n",
    "\n",
    "# Input data files are available in the read-only \"../input/\" directory\n",
    "# For example, running this (by clicking run or pressing Shift+Enter) will list all files under the input directory\n",
    "\n",
    "import os\n",
    "for dirname, _, filenames in os.walk('/kaggle/input'):\n",
    "    for filename in filenames:\n",
    "        print(os.path.join(dirname, filename))\n",
    "\n",
    "# You can write up to 20GB to the current directory (/kaggle/working/) that gets preserved as output when you create a version using \"Save & Run All\" \n",
    "# You can also write temporary files to /kaggle/temp/, but they won't be saved outside of the current session"
   ]
  },
  {
   "cell_type": "code",
   "execution_count": 2,
   "id": "fc0be845",
   "metadata": {
    "execution": {
     "iopub.execute_input": "2022-10-08T01:14:33.335925Z",
     "iopub.status.busy": "2022-10-08T01:14:33.334798Z",
     "iopub.status.idle": "2022-10-08T01:14:33.369327Z",
     "shell.execute_reply": "2022-10-08T01:14:33.368232Z"
    },
    "papermill": {
     "duration": 0.047784,
     "end_time": "2022-10-08T01:14:33.372041",
     "exception": false,
     "start_time": "2022-10-08T01:14:33.324257",
     "status": "completed"
    },
    "tags": []
   },
   "outputs": [],
   "source": [
    "# Classification problem - predicting through variables: C : {}, D: {} for outcome Survived : [0,1]\n",
    "# 0 = , 1 = \n",
    "df = pd.read_csv(\"/kaggle/input/titanic/train.csv\")\n",
    "test_df = pd.read_csv(\"/kaggle/input/titanic/test.csv\")\n",
    "example_sub = pd.read_csv(\"/kaggle/input/titanic/gender_submission.csv\")"
   ]
  },
  {
   "cell_type": "code",
   "execution_count": 3,
   "id": "69d39d7c",
   "metadata": {
    "execution": {
     "iopub.execute_input": "2022-10-08T01:14:33.393350Z",
     "iopub.status.busy": "2022-10-08T01:14:33.392785Z",
     "iopub.status.idle": "2022-10-08T01:14:33.417053Z",
     "shell.execute_reply": "2022-10-08T01:14:33.415824Z"
    },
    "papermill": {
     "duration": 0.037619,
     "end_time": "2022-10-08T01:14:33.419529",
     "exception": false,
     "start_time": "2022-10-08T01:14:33.381910",
     "status": "completed"
    },
    "tags": []
   },
   "outputs": [
    {
     "data": {
      "text/html": [
       "<div>\n",
       "<style scoped>\n",
       "    .dataframe tbody tr th:only-of-type {\n",
       "        vertical-align: middle;\n",
       "    }\n",
       "\n",
       "    .dataframe tbody tr th {\n",
       "        vertical-align: top;\n",
       "    }\n",
       "\n",
       "    .dataframe thead th {\n",
       "        text-align: right;\n",
       "    }\n",
       "</style>\n",
       "<table border=\"1\" class=\"dataframe\">\n",
       "  <thead>\n",
       "    <tr style=\"text-align: right;\">\n",
       "      <th></th>\n",
       "      <th>PassengerId</th>\n",
       "      <th>Survived</th>\n",
       "      <th>Pclass</th>\n",
       "      <th>Name</th>\n",
       "      <th>Sex</th>\n",
       "      <th>Age</th>\n",
       "      <th>SibSp</th>\n",
       "      <th>Parch</th>\n",
       "      <th>Ticket</th>\n",
       "      <th>Fare</th>\n",
       "      <th>Cabin</th>\n",
       "      <th>Embarked</th>\n",
       "    </tr>\n",
       "  </thead>\n",
       "  <tbody>\n",
       "    <tr>\n",
       "      <th>0</th>\n",
       "      <td>1</td>\n",
       "      <td>0</td>\n",
       "      <td>3</td>\n",
       "      <td>Braund, Mr. Owen Harris</td>\n",
       "      <td>male</td>\n",
       "      <td>22.0</td>\n",
       "      <td>1</td>\n",
       "      <td>0</td>\n",
       "      <td>A/5 21171</td>\n",
       "      <td>7.2500</td>\n",
       "      <td>NaN</td>\n",
       "      <td>S</td>\n",
       "    </tr>\n",
       "    <tr>\n",
       "      <th>1</th>\n",
       "      <td>2</td>\n",
       "      <td>1</td>\n",
       "      <td>1</td>\n",
       "      <td>Cumings, Mrs. John Bradley (Florence Briggs Th...</td>\n",
       "      <td>female</td>\n",
       "      <td>38.0</td>\n",
       "      <td>1</td>\n",
       "      <td>0</td>\n",
       "      <td>PC 17599</td>\n",
       "      <td>71.2833</td>\n",
       "      <td>C85</td>\n",
       "      <td>C</td>\n",
       "    </tr>\n",
       "    <tr>\n",
       "      <th>2</th>\n",
       "      <td>3</td>\n",
       "      <td>1</td>\n",
       "      <td>3</td>\n",
       "      <td>Heikkinen, Miss. Laina</td>\n",
       "      <td>female</td>\n",
       "      <td>26.0</td>\n",
       "      <td>0</td>\n",
       "      <td>0</td>\n",
       "      <td>STON/O2. 3101282</td>\n",
       "      <td>7.9250</td>\n",
       "      <td>NaN</td>\n",
       "      <td>S</td>\n",
       "    </tr>\n",
       "    <tr>\n",
       "      <th>3</th>\n",
       "      <td>4</td>\n",
       "      <td>1</td>\n",
       "      <td>1</td>\n",
       "      <td>Futrelle, Mrs. Jacques Heath (Lily May Peel)</td>\n",
       "      <td>female</td>\n",
       "      <td>35.0</td>\n",
       "      <td>1</td>\n",
       "      <td>0</td>\n",
       "      <td>113803</td>\n",
       "      <td>53.1000</td>\n",
       "      <td>C123</td>\n",
       "      <td>S</td>\n",
       "    </tr>\n",
       "    <tr>\n",
       "      <th>4</th>\n",
       "      <td>5</td>\n",
       "      <td>0</td>\n",
       "      <td>3</td>\n",
       "      <td>Allen, Mr. William Henry</td>\n",
       "      <td>male</td>\n",
       "      <td>35.0</td>\n",
       "      <td>0</td>\n",
       "      <td>0</td>\n",
       "      <td>373450</td>\n",
       "      <td>8.0500</td>\n",
       "      <td>NaN</td>\n",
       "      <td>S</td>\n",
       "    </tr>\n",
       "  </tbody>\n",
       "</table>\n",
       "</div>"
      ],
      "text/plain": [
       "   PassengerId  Survived  Pclass  \\\n",
       "0            1         0       3   \n",
       "1            2         1       1   \n",
       "2            3         1       3   \n",
       "3            4         1       1   \n",
       "4            5         0       3   \n",
       "\n",
       "                                                Name     Sex   Age  SibSp  \\\n",
       "0                            Braund, Mr. Owen Harris    male  22.0      1   \n",
       "1  Cumings, Mrs. John Bradley (Florence Briggs Th...  female  38.0      1   \n",
       "2                             Heikkinen, Miss. Laina  female  26.0      0   \n",
       "3       Futrelle, Mrs. Jacques Heath (Lily May Peel)  female  35.0      1   \n",
       "4                           Allen, Mr. William Henry    male  35.0      0   \n",
       "\n",
       "   Parch            Ticket     Fare Cabin Embarked  \n",
       "0      0         A/5 21171   7.2500   NaN        S  \n",
       "1      0          PC 17599  71.2833   C85        C  \n",
       "2      0  STON/O2. 3101282   7.9250   NaN        S  \n",
       "3      0            113803  53.1000  C123        S  \n",
       "4      0            373450   8.0500   NaN        S  "
      ]
     },
     "execution_count": 3,
     "metadata": {},
     "output_type": "execute_result"
    }
   ],
   "source": [
    "df.head()\n",
    "\n",
    "# recall - survived = 1, dead = 0\n"
   ]
  },
  {
   "cell_type": "code",
   "execution_count": 4,
   "id": "154ef868",
   "metadata": {
    "execution": {
     "iopub.execute_input": "2022-10-08T01:14:33.440530Z",
     "iopub.status.busy": "2022-10-08T01:14:33.440128Z",
     "iopub.status.idle": "2022-10-08T01:14:33.447612Z",
     "shell.execute_reply": "2022-10-08T01:14:33.446444Z"
    },
    "papermill": {
     "duration": 0.020944,
     "end_time": "2022-10-08T01:14:33.450056",
     "exception": false,
     "start_time": "2022-10-08T01:14:33.429112",
     "status": "completed"
    },
    "tags": []
   },
   "outputs": [
    {
     "data": {
      "text/plain": [
       "Index(['PassengerId', 'Survived', 'Pclass', 'Name', 'Sex', 'Age', 'SibSp',\n",
       "       'Parch', 'Ticket', 'Fare', 'Cabin', 'Embarked'],\n",
       "      dtype='object')"
      ]
     },
     "execution_count": 4,
     "metadata": {},
     "output_type": "execute_result"
    }
   ],
   "source": [
    "df.columns"
   ]
  },
  {
   "cell_type": "code",
   "execution_count": 5,
   "id": "87eb548d",
   "metadata": {
    "execution": {
     "iopub.execute_input": "2022-10-08T01:14:33.471543Z",
     "iopub.status.busy": "2022-10-08T01:14:33.471124Z",
     "iopub.status.idle": "2022-10-08T01:14:33.491110Z",
     "shell.execute_reply": "2022-10-08T01:14:33.489986Z"
    },
    "papermill": {
     "duration": 0.033526,
     "end_time": "2022-10-08T01:14:33.493501",
     "exception": false,
     "start_time": "2022-10-08T01:14:33.459975",
     "status": "completed"
    },
    "tags": []
   },
   "outputs": [
    {
     "data": {
      "text/plain": [
       "0    0\n",
       "1    1\n",
       "2    1\n",
       "3    1\n",
       "4    0\n",
       "Name: Survived, dtype: int64"
      ]
     },
     "execution_count": 5,
     "metadata": {},
     "output_type": "execute_result"
    }
   ],
   "source": [
    "X = df.drop(\"Survived\", axis=1)\n",
    "Y = df[\"Survived\"]\n",
    "\n",
    "from sklearn.model_selection import train_test_split\n",
    "X_train, X_valid, Y_train, Y_valid = train_test_split(X, Y,test_size = .3, random_state=0)\n",
    "\n",
    "Y.head()"
   ]
  },
  {
   "cell_type": "markdown",
   "id": "68496ca2",
   "metadata": {
    "papermill": {
     "duration": 0.009779,
     "end_time": "2022-10-08T01:14:33.514495",
     "exception": false,
     "start_time": "2022-10-08T01:14:33.504716",
     "status": "completed"
    },
    "tags": []
   },
   "source": [
    "# Data Overview"
   ]
  },
  {
   "cell_type": "markdown",
   "id": "81934261",
   "metadata": {
    "papermill": {
     "duration": 0.009872,
     "end_time": "2022-10-08T01:14:33.534139",
     "exception": false,
     "start_time": "2022-10-08T01:14:33.524267",
     "status": "completed"
    },
    "tags": []
   },
   "source": [
    "####  Variable Overview\n",
    "* Categorical:\n",
    "    *     Nominal:\n",
    "            - Cabin \n",
    "            - Embarked: C = Cherbourg, Q = Queenstown, S = Southampton\n",
    "    *     Dichotomous\n",
    "            - Sex: Male, Female\n",
    "    *     Ordinal\n",
    "            - PClass: 1 = Upper, 2 = Middle, 3 = Lower\n",
    "\n",
    "* Discrete\n",
    "    - Passenger ID(Unique identifing # for each passenger)\n",
    "    - SibSp\n",
    "    - Parch\n",
    "    - Survived (Our outcome or dependent variable)\n",
    "* Continous\n",
    "    - Age\n",
    "    - Fare   \n",
    "* Text / ID Variables\n",
    "    - Ticket Num\n",
    "    - Passenger Name"
   ]
  },
  {
   "cell_type": "code",
   "execution_count": 6,
   "id": "0f22cec5",
   "metadata": {
    "execution": {
     "iopub.execute_input": "2022-10-08T01:14:33.555387Z",
     "iopub.status.busy": "2022-10-08T01:14:33.555000Z",
     "iopub.status.idle": "2022-10-08T01:14:33.571318Z",
     "shell.execute_reply": "2022-10-08T01:14:33.570157Z"
    },
    "papermill": {
     "duration": 0.029761,
     "end_time": "2022-10-08T01:14:33.573622",
     "exception": false,
     "start_time": "2022-10-08T01:14:33.543861",
     "status": "completed"
    },
    "tags": []
   },
   "outputs": [
    {
     "data": {
      "text/html": [
       "<div>\n",
       "<style scoped>\n",
       "    .dataframe tbody tr th:only-of-type {\n",
       "        vertical-align: middle;\n",
       "    }\n",
       "\n",
       "    .dataframe tbody tr th {\n",
       "        vertical-align: top;\n",
       "    }\n",
       "\n",
       "    .dataframe thead th {\n",
       "        text-align: right;\n",
       "    }\n",
       "</style>\n",
       "<table border=\"1\" class=\"dataframe\">\n",
       "  <thead>\n",
       "    <tr style=\"text-align: right;\">\n",
       "      <th></th>\n",
       "      <th>PassengerId</th>\n",
       "      <th>Pclass</th>\n",
       "      <th>Name</th>\n",
       "      <th>Sex</th>\n",
       "      <th>Age</th>\n",
       "      <th>SibSp</th>\n",
       "      <th>Parch</th>\n",
       "      <th>Ticket</th>\n",
       "      <th>Fare</th>\n",
       "      <th>Cabin</th>\n",
       "      <th>Embarked</th>\n",
       "    </tr>\n",
       "  </thead>\n",
       "  <tbody>\n",
       "    <tr>\n",
       "      <th>857</th>\n",
       "      <td>858</td>\n",
       "      <td>1</td>\n",
       "      <td>Daly, Mr. Peter Denis</td>\n",
       "      <td>male</td>\n",
       "      <td>51.0</td>\n",
       "      <td>0</td>\n",
       "      <td>0</td>\n",
       "      <td>113055</td>\n",
       "      <td>26.5500</td>\n",
       "      <td>E17</td>\n",
       "      <td>S</td>\n",
       "    </tr>\n",
       "    <tr>\n",
       "      <th>52</th>\n",
       "      <td>53</td>\n",
       "      <td>1</td>\n",
       "      <td>Harper, Mrs. Henry Sleeper (Myna Haxtun)</td>\n",
       "      <td>female</td>\n",
       "      <td>49.0</td>\n",
       "      <td>1</td>\n",
       "      <td>0</td>\n",
       "      <td>PC 17572</td>\n",
       "      <td>76.7292</td>\n",
       "      <td>D33</td>\n",
       "      <td>C</td>\n",
       "    </tr>\n",
       "    <tr>\n",
       "      <th>386</th>\n",
       "      <td>387</td>\n",
       "      <td>3</td>\n",
       "      <td>Goodwin, Master. Sidney Leonard</td>\n",
       "      <td>male</td>\n",
       "      <td>1.0</td>\n",
       "      <td>5</td>\n",
       "      <td>2</td>\n",
       "      <td>CA 2144</td>\n",
       "      <td>46.9000</td>\n",
       "      <td>NaN</td>\n",
       "      <td>S</td>\n",
       "    </tr>\n",
       "    <tr>\n",
       "      <th>124</th>\n",
       "      <td>125</td>\n",
       "      <td>1</td>\n",
       "      <td>White, Mr. Percival Wayland</td>\n",
       "      <td>male</td>\n",
       "      <td>54.0</td>\n",
       "      <td>0</td>\n",
       "      <td>1</td>\n",
       "      <td>35281</td>\n",
       "      <td>77.2875</td>\n",
       "      <td>D26</td>\n",
       "      <td>S</td>\n",
       "    </tr>\n",
       "    <tr>\n",
       "      <th>578</th>\n",
       "      <td>579</td>\n",
       "      <td>3</td>\n",
       "      <td>Caram, Mrs. Joseph (Maria Elias)</td>\n",
       "      <td>female</td>\n",
       "      <td>NaN</td>\n",
       "      <td>1</td>\n",
       "      <td>0</td>\n",
       "      <td>2689</td>\n",
       "      <td>14.4583</td>\n",
       "      <td>NaN</td>\n",
       "      <td>C</td>\n",
       "    </tr>\n",
       "  </tbody>\n",
       "</table>\n",
       "</div>"
      ],
      "text/plain": [
       "     PassengerId  Pclass                                      Name     Sex  \\\n",
       "857          858       1                    Daly, Mr. Peter Denis     male   \n",
       "52            53       1  Harper, Mrs. Henry Sleeper (Myna Haxtun)  female   \n",
       "386          387       3           Goodwin, Master. Sidney Leonard    male   \n",
       "124          125       1               White, Mr. Percival Wayland    male   \n",
       "578          579       3          Caram, Mrs. Joseph (Maria Elias)  female   \n",
       "\n",
       "      Age  SibSp  Parch    Ticket     Fare Cabin Embarked  \n",
       "857  51.0      0      0    113055  26.5500   E17        S  \n",
       "52   49.0      1      0  PC 17572  76.7292   D33        C  \n",
       "386   1.0      5      2   CA 2144  46.9000   NaN        S  \n",
       "124  54.0      0      1     35281  77.2875   D26        S  \n",
       "578   NaN      1      0      2689  14.4583   NaN        C  "
      ]
     },
     "execution_count": 6,
     "metadata": {},
     "output_type": "execute_result"
    }
   ],
   "source": [
    "X_train.head()"
   ]
  },
  {
   "cell_type": "markdown",
   "id": "a7f91a3b",
   "metadata": {
    "papermill": {
     "duration": 0.009617,
     "end_time": "2022-10-08T01:14:33.593153",
     "exception": false,
     "start_time": "2022-10-08T01:14:33.583536",
     "status": "completed"
    },
    "tags": []
   },
   "source": [
    "#### Survival by Passenger Sex"
   ]
  },
  {
   "cell_type": "code",
   "execution_count": 7,
   "id": "bb101652",
   "metadata": {
    "execution": {
     "iopub.execute_input": "2022-10-08T01:14:33.615135Z",
     "iopub.status.busy": "2022-10-08T01:14:33.614559Z",
     "iopub.status.idle": "2022-10-08T01:14:33.922346Z",
     "shell.execute_reply": "2022-10-08T01:14:33.921137Z"
    },
    "papermill": {
     "duration": 0.321811,
     "end_time": "2022-10-08T01:14:33.924909",
     "exception": false,
     "start_time": "2022-10-08T01:14:33.603098",
     "status": "completed"
    },
    "tags": []
   },
   "outputs": [
    {
     "data": {
      "image/png": "[encoded data removed]",
      "text/plain": [
       "<Figure size 1080x576 with 1 Axes>"
      ]
     },
     "metadata": {},
     "output_type": "display_data"
    }
   ],
   "source": [
    "palette = {'male':\"blue\", 'female':\"Pink\"}\n",
    "sns.set(style=\"darkgrid\")\n",
    "plt.subplots(figsize = (15,8))\n",
    "ax = sns.barplot(x = \"Sex\", \n",
    "                 y = \"Survived\", \n",
    "                 data=df, \n",
    "                 palette = palette,\n",
    "                 linewidth=3,\n",
    "                 order = ['male', 'female'],\n",
    "                 capsize = .05,\n",
    "\n",
    "                )\n",
    "\n",
    "plt.title(\"Survival by Passenger Sex\", fontsize = 24,loc = 'center', pad = 20)\n",
    "plt.ylabel(\"% of passengers survived\", fontsize = 18, )\n",
    "plt.xlabel(\"Sex\",fontsize = 15);\n",
    "\n"
   ]
  },
  {
   "cell_type": "markdown",
   "id": "8c59a43c",
   "metadata": {
    "papermill": {
     "duration": 0.010043,
     "end_time": "2022-10-08T01:14:33.945388",
     "exception": false,
     "start_time": "2022-10-08T01:14:33.935345",
     "status": "completed"
    },
    "tags": []
   },
   "source": [
    "#### More data visualization to come "
   ]
  },
  {
   "cell_type": "markdown",
   "id": "51adf119",
   "metadata": {
    "papermill": {
     "duration": 0.010074,
     "end_time": "2022-10-08T01:14:33.965738",
     "exception": false,
     "start_time": "2022-10-08T01:14:33.955664",
     "status": "completed"
    },
    "tags": []
   },
   "source": [
    "## Feature Engineering"
   ]
  },
  {
   "cell_type": "markdown",
   "id": "ba08aacd",
   "metadata": {
    "papermill": {
     "duration": 0.00998,
     "end_time": "2022-10-08T01:14:33.985979",
     "exception": false,
     "start_time": "2022-10-08T01:14:33.975999",
     "status": "completed"
    },
    "tags": []
   },
   "source": [
    "#### Label Encoding the Categorical Data "
   ]
  },
  {
   "cell_type": "code",
   "execution_count": 8,
   "id": "f5d67d83",
   "metadata": {
    "execution": {
     "iopub.execute_input": "2022-10-08T01:14:34.008823Z",
     "iopub.status.busy": "2022-10-08T01:14:34.008085Z",
     "iopub.status.idle": "2022-10-08T01:14:34.022724Z",
     "shell.execute_reply": "2022-10-08T01:14:34.021036Z"
    },
    "papermill": {
     "duration": 0.029264,
     "end_time": "2022-10-08T01:14:34.025487",
     "exception": false,
     "start_time": "2022-10-08T01:14:33.996223",
     "status": "completed"
    },
    "tags": []
   },
   "outputs": [
    {
     "name": "stdout",
     "output_type": "stream",
     "text": [
      "     PassengerId  Pclass                                          Name  \\\n",
      "0            892       3                              Kelly, Mr. James   \n",
      "1            893       3              Wilkes, Mrs. James (Ellen Needs)   \n",
      "2            894       2                     Myles, Mr. Thomas Francis   \n",
      "3            895       3                              Wirz, Mr. Albert   \n",
      "4            896       3  Hirvonen, Mrs. Alexander (Helga E Lindqvist)   \n",
      "..           ...     ...                                           ...   \n",
      "413         1305       3                            Spector, Mr. Woolf   \n",
      "414         1306       1                  Oliva y Ocana, Dona. Fermina   \n",
      "415         1307       3                  Saether, Mr. Simon Sivertsen   \n",
      "416         1308       3                           Ware, Mr. Frederick   \n",
      "417         1309       3                      Peter, Master. Michael J   \n",
      "\n",
      "        Sex   Age  SibSp  Parch              Ticket      Fare Cabin Embarked  \n",
      "0      male  34.5      0      0              330911    7.8292   NaN        Q  \n",
      "1    female  47.0      1      0              363272    7.0000   NaN        S  \n",
      "2      male  62.0      0      0              240276    9.6875   NaN        Q  \n",
      "3      male  27.0      0      0              315154    8.6625   NaN        S  \n",
      "4    female  22.0      1      1             3101298   12.2875   NaN        S  \n",
      "..      ...   ...    ...    ...                 ...       ...   ...      ...  \n",
      "413    male   NaN      0      0           A.5. 3236    8.0500   NaN        S  \n",
      "414  female  39.0      0      0            PC 17758  108.9000  C105        C  \n",
      "415    male  38.5      0      0  SOTON/O.Q. 3101262    7.2500   NaN        S  \n",
      "416    male   NaN      0      0              359309    8.0500   NaN        S  \n",
      "417    male   NaN      1      1                2668   22.3583   NaN        C  \n",
      "\n",
      "[418 rows x 11 columns]\n"
     ]
    }
   ],
   "source": [
    "print(test_df)"
   ]
  },
  {
   "cell_type": "code",
   "execution_count": 9,
   "id": "88bbc10d",
   "metadata": {
    "execution": {
     "iopub.execute_input": "2022-10-08T01:14:34.049546Z",
     "iopub.status.busy": "2022-10-08T01:14:34.048761Z",
     "iopub.status.idle": "2022-10-08T01:14:34.076381Z",
     "shell.execute_reply": "2022-10-08T01:14:34.075242Z"
    },
    "papermill": {
     "duration": 0.043399,
     "end_time": "2022-10-08T01:14:34.079265",
     "exception": false,
     "start_time": "2022-10-08T01:14:34.035866",
     "status": "completed"
    },
    "tags": []
   },
   "outputs": [
    {
     "name": "stdout",
     "output_type": "stream",
     "text": [
      "0      0\n",
      "1      0\n",
      "2      0\n",
      "3      1\n",
      "4      1\n",
      "      ..\n",
      "263    0\n",
      "264    0\n",
      "265    0\n",
      "266    1\n",
      "267    0\n",
      "Name: Survived, Length: 268, dtype: int64\n"
     ]
    }
   ],
   "source": [
    "categorical_feats = ['Sex', 'Cabin', 'Embarked', 'Pclass']\n",
    "id_feats = ['Ticket', 'Name']\n",
    "non_numeric_feats = categorical_feats + id_feats\n",
    "\n",
    "all_X_data = pd.concat([X, test_df], axis=0)\n",
    "\n",
    "\n",
    "for category in categorical_feats:\n",
    "    encoder = LabelEncoder()\n",
    "    encoder.fit(all_X_data[category])\n",
    "    X_train[str('Enc ' + category)] = encoder.transform(X_train[category])\n",
    "    X_valid[str('Enc ' + category)] = encoder.transform(X_valid[category])\n",
    "    test_df[str('Enc ' + category)] = encoder.transform(test_df[category])\n",
    "\n",
    "\n",
    "X_train_numeric = X_train.drop(columns = non_numeric_feats).fillna(value = 0)\n",
    "X_valid_numeric = X_valid.drop(columns = non_numeric_feats).fillna(value = 0)\n",
    "test_ids = test_df['PassengerId']\n",
    "test_df = test_df.drop(columns = non_numeric_feats).fillna(value = 0)\n",
    "\n",
    "Y_train = Y_train.reset_index(drop = True)\n",
    "Y_valid = Y_valid.reset_index(drop = True)\n",
    "test_df = test_df.reset_index(drop = True)\n",
    "\n",
    "print(Y_valid)"
   ]
  },
  {
   "cell_type": "code",
   "execution_count": 10,
   "id": "db4f9ddb",
   "metadata": {
    "execution": {
     "iopub.execute_input": "2022-10-08T01:14:34.102490Z",
     "iopub.status.busy": "2022-10-08T01:14:34.102112Z",
     "iopub.status.idle": "2022-10-08T01:14:34.113636Z",
     "shell.execute_reply": "2022-10-08T01:14:34.112455Z"
    },
    "papermill": {
     "duration": 0.026699,
     "end_time": "2022-10-08T01:14:34.116715",
     "exception": false,
     "start_time": "2022-10-08T01:14:34.090016",
     "status": "completed"
    },
    "tags": []
   },
   "outputs": [
    {
     "name": "stdout",
     "output_type": "stream",
     "text": [
      "     PassengerId   Age  SibSp  Parch      Fare  Enc Sex  Enc Cabin  \\\n",
      "0            892  34.5      0      0    7.8292        1        186   \n",
      "1            893  47.0      1      0    7.0000        0        186   \n",
      "2            894  62.0      0      0    9.6875        1        186   \n",
      "3            895  27.0      0      0    8.6625        1        186   \n",
      "4            896  22.0      1      1   12.2875        0        186   \n",
      "..           ...   ...    ...    ...       ...      ...        ...   \n",
      "413         1305   0.0      0      0    8.0500        1        186   \n",
      "414         1306  39.0      0      0  108.9000        0         64   \n",
      "415         1307  38.5      0      0    7.2500        1        186   \n",
      "416         1308   0.0      0      0    8.0500        1        186   \n",
      "417         1309   0.0      1      1   22.3583        1        186   \n",
      "\n",
      "     Enc Embarked  Enc Pclass  \n",
      "0               1           2  \n",
      "1               2           2  \n",
      "2               1           1  \n",
      "3               2           2  \n",
      "4               2           2  \n",
      "..            ...         ...  \n",
      "413             2           2  \n",
      "414             0           0  \n",
      "415             2           2  \n",
      "416             2           2  \n",
      "417             0           2  \n",
      "\n",
      "[418 rows x 9 columns]\n"
     ]
    }
   ],
   "source": [
    "print(test_df)"
   ]
  },
  {
   "cell_type": "code",
   "execution_count": 11,
   "id": "261f37ef",
   "metadata": {
    "execution": {
     "iopub.execute_input": "2022-10-08T01:14:34.140860Z",
     "iopub.status.busy": "2022-10-08T01:14:34.140413Z",
     "iopub.status.idle": "2022-10-08T01:14:34.155389Z",
     "shell.execute_reply": "2022-10-08T01:14:34.154142Z"
    },
    "papermill": {
     "duration": 0.029635,
     "end_time": "2022-10-08T01:14:34.157894",
     "exception": false,
     "start_time": "2022-10-08T01:14:34.128259",
     "status": "completed"
    },
    "tags": []
   },
   "outputs": [],
   "source": [
    "### Feature Scaling\n",
    "from sklearn.preprocessing import StandardScaler\n",
    "st_scale = StandardScaler()\n",
    "\n",
    "X_train_numeric = st_scale.fit_transform(X_train_numeric)\n",
    "X_valid_numeric = st_scale.transform(X_valid_numeric)\n",
    "test_df = st_scale.fit_transform(test_df)"
   ]
  },
  {
   "cell_type": "code",
   "execution_count": 12,
   "id": "48702bdb",
   "metadata": {
    "execution": {
     "iopub.execute_input": "2022-10-08T01:14:34.181291Z",
     "iopub.status.busy": "2022-10-08T01:14:34.180847Z",
     "iopub.status.idle": "2022-10-08T01:14:34.187277Z",
     "shell.execute_reply": "2022-10-08T01:14:34.186048Z"
    },
    "papermill": {
     "duration": 0.022009,
     "end_time": "2022-10-08T01:14:34.190439",
     "exception": false,
     "start_time": "2022-10-08T01:14:34.168430",
     "status": "completed"
    },
    "tags": []
   },
   "outputs": [
    {
     "name": "stdout",
     "output_type": "stream",
     "text": [
      "[[-1.72791209  0.59480137 -0.49947002 ...  0.44752374 -0.47091535\n",
      "   0.87348191]\n",
      " [-1.71962474  1.30589556  0.61699237 ...  0.44752374  0.70076689\n",
      "   0.87348191]\n",
      " [-1.71133739  2.15920859 -0.49947002 ...  0.44752374 -0.47091535\n",
      "  -0.31581919]\n",
      " ...\n",
      " [ 1.71133739  0.82235151 -0.49947002 ...  0.44752374  0.70076689\n",
      "   0.87348191]\n",
      " [ 1.71962474 -1.3678186  -0.49947002 ...  0.44752374  0.70076689\n",
      "   0.87348191]\n",
      " [ 1.72791209 -1.3678186   0.61699237 ...  0.44752374 -1.64259759\n",
      "   0.87348191]]\n"
     ]
    }
   ],
   "source": [
    "print(test_df)"
   ]
  },
  {
   "cell_type": "markdown",
   "id": "b4edc528",
   "metadata": {
    "papermill": {
     "duration": 0.010619,
     "end_time": "2022-10-08T01:14:34.212920",
     "exception": false,
     "start_time": "2022-10-08T01:14:34.202301",
     "status": "completed"
    },
    "tags": []
   },
   "source": [
    "## Model Building"
   ]
  },
  {
   "cell_type": "markdown",
   "id": "0e0265c8",
   "metadata": {
    "papermill": {
     "duration": 0.010676,
     "end_time": "2022-10-08T01:14:34.234701",
     "exception": false,
     "start_time": "2022-10-08T01:14:34.224025",
     "status": "completed"
    },
    "tags": []
   },
   "source": [
    "### Comparing Simple Classification Models"
   ]
  },
  {
   "cell_type": "code",
   "execution_count": 13,
   "id": "2870693f",
   "metadata": {
    "execution": {
     "iopub.execute_input": "2022-10-08T01:14:34.258511Z",
     "iopub.status.busy": "2022-10-08T01:14:34.257874Z",
     "iopub.status.idle": "2022-10-08T01:14:34.263600Z",
     "shell.execute_reply": "2022-10-08T01:14:34.262644Z"
    },
    "papermill": {
     "duration": 0.020397,
     "end_time": "2022-10-08T01:14:34.265899",
     "exception": false,
     "start_time": "2022-10-08T01:14:34.245502",
     "status": "completed"
    },
    "tags": []
   },
   "outputs": [],
   "source": [
    "models_dict = {\n",
    "    \"KNeighbors\": KNeighborsClassifier(), \n",
    "    \"LogisticRegression\": LogisticRegression(max_iter=1000), \n",
    "    \"DecisionTree\": DecisionTreeClassifier(),\n",
    "    \"RandomForest\": RandomForestClassifier(),\n",
    "    \"SupportVectorClassifier\": SVC(),\n",
    "    \"MLPClassifier\": MLPClassifier(max_iter=1000),\n",
    "    \"XGBoost\": XGBClassifier(),\n",
    "    \"LightGBM\": LGBMClassifier(),\n",
    "    \"GaussianNB\": GaussianNB(),\n",
    "    \n",
    "}"
   ]
  },
  {
   "cell_type": "code",
   "execution_count": 14,
   "id": "e219ddec",
   "metadata": {
    "execution": {
     "iopub.execute_input": "2022-10-08T01:14:34.290055Z",
     "iopub.status.busy": "2022-10-08T01:14:34.289630Z",
     "iopub.status.idle": "2022-10-08T01:14:34.297095Z",
     "shell.execute_reply": "2022-10-08T01:14:34.295921Z"
    },
    "papermill": {
     "duration": 0.022225,
     "end_time": "2022-10-08T01:14:34.299305",
     "exception": false,
     "start_time": "2022-10-08T01:14:34.277080",
     "status": "completed"
    },
    "tags": []
   },
   "outputs": [],
   "source": [
    "#### classification model function using models above\n",
    "from sklearn.metrics import classification_report, confusion_matrix, accuracy_score\n",
    "\n",
    "\n",
    "def class_model(model_ticker, model_init):\n",
    "    model = model_init\n",
    "    model.fit(X_train_numeric, Y_train)\n",
    "    preds = model.predict(X_valid_numeric)\n",
    "    print (\"Model Metrics for \"  + model_ticker )\n",
    "    print(\"Confusion Matrix\")\n",
    "    print(pd.DataFrame(confusion_matrix(Y_valid,preds),columns=[\"Predicted Not-Survived\", \"Predicted Survived\"],index=[\"Not-Survived\",\"Survived\"] ))\n",
    "    acc_score = accuracy_score(Y_valid, preds)\n",
    "    print(\"Accuracy Score: \", round(acc_score, ndigits = 3))\n",
    "    print(\"Classification Report\")\n",
    "    print(classification_report(Y_valid, preds)+ \" \\n\")\n",
    "    \n",
    "    \n",
    "    \n",
    "    \n",
    "    \n"
   ]
  },
  {
   "cell_type": "code",
   "execution_count": 15,
   "id": "bfe24389",
   "metadata": {
    "execution": {
     "iopub.execute_input": "2022-10-08T01:14:34.323111Z",
     "iopub.status.busy": "2022-10-08T01:14:34.322677Z",
     "iopub.status.idle": "2022-10-08T01:14:40.652264Z",
     "shell.execute_reply": "2022-10-08T01:14:40.651443Z"
    },
    "papermill": {
     "duration": 6.344731,
     "end_time": "2022-10-08T01:14:40.654925",
     "exception": false,
     "start_time": "2022-10-08T01:14:34.310194",
     "status": "completed"
    },
    "tags": []
   },
   "outputs": [
    {
     "name": "stdout",
     "output_type": "stream",
     "text": [
      "Model Metrics for Log Reg\n",
      "Confusion Matrix\n",
      "              Predicted Not-Survived  Predicted Survived\n",
      "Not-Survived                     141                  27\n",
      "Survived                          26                  74\n",
      "Accuracy Score:  0.802\n",
      "Classification Report\n",
      "              precision    recall  f1-score   support\n",
      "\n",
      "           0       0.84      0.84      0.84       168\n",
      "           1       0.73      0.74      0.74       100\n",
      "\n",
      "    accuracy                           0.80       268\n",
      "   macro avg       0.79      0.79      0.79       268\n",
      "weighted avg       0.80      0.80      0.80       268\n",
      " \n",
      "\n",
      "Model Metrics for KNeighbors\n",
      "Confusion Matrix\n",
      "              Predicted Not-Survived  Predicted Survived\n",
      "Not-Survived                     143                  25\n",
      "Survived                          26                  74\n",
      "Accuracy Score:  0.81\n",
      "Classification Report\n",
      "              precision    recall  f1-score   support\n",
      "\n",
      "           0       0.85      0.85      0.85       168\n",
      "           1       0.75      0.74      0.74       100\n",
      "\n",
      "    accuracy                           0.81       268\n",
      "   macro avg       0.80      0.80      0.80       268\n",
      "weighted avg       0.81      0.81      0.81       268\n",
      " \n",
      "\n",
      "Model Metrics for LogisticRegression\n",
      "Confusion Matrix\n",
      "              Predicted Not-Survived  Predicted Survived\n",
      "Not-Survived                     141                  27\n",
      "Survived                          26                  74\n",
      "Accuracy Score:  0.802\n",
      "Classification Report\n",
      "              precision    recall  f1-score   support\n",
      "\n",
      "           0       0.84      0.84      0.84       168\n",
      "           1       0.73      0.74      0.74       100\n",
      "\n",
      "    accuracy                           0.80       268\n",
      "   macro avg       0.79      0.79      0.79       268\n",
      "weighted avg       0.80      0.80      0.80       268\n",
      " \n",
      "\n",
      "Model Metrics for DecisionTree\n",
      "Confusion Matrix\n",
      "              Predicted Not-Survived  Predicted Survived\n",
      "Not-Survived                     141                  27\n",
      "Survived                          30                  70\n",
      "Accuracy Score:  0.787\n",
      "Classification Report\n",
      "              precision    recall  f1-score   support\n",
      "\n",
      "           0       0.82      0.84      0.83       168\n",
      "           1       0.72      0.70      0.71       100\n",
      "\n",
      "    accuracy                           0.79       268\n",
      "   macro avg       0.77      0.77      0.77       268\n",
      "weighted avg       0.79      0.79      0.79       268\n",
      " \n",
      "\n",
      "Model Metrics for RandomForest\n",
      "Confusion Matrix\n",
      "              Predicted Not-Survived  Predicted Survived\n",
      "Not-Survived                     153                  15\n",
      "Survived                          28                  72\n",
      "Accuracy Score:  0.84\n",
      "Classification Report\n",
      "              precision    recall  f1-score   support\n",
      "\n",
      "           0       0.85      0.91      0.88       168\n",
      "           1       0.83      0.72      0.77       100\n",
      "\n",
      "    accuracy                           0.84       268\n",
      "   macro avg       0.84      0.82      0.82       268\n",
      "weighted avg       0.84      0.84      0.84       268\n",
      " \n",
      "\n",
      "Model Metrics for SupportVectorClassifier\n",
      "Confusion Matrix\n",
      "              Predicted Not-Survived  Predicted Survived\n",
      "Not-Survived                     147                  21\n",
      "Survived                          34                  66\n",
      "Accuracy Score:  0.795\n",
      "Classification Report\n",
      "              precision    recall  f1-score   support\n",
      "\n",
      "           0       0.81      0.88      0.84       168\n",
      "           1       0.76      0.66      0.71       100\n",
      "\n",
      "    accuracy                           0.79       268\n",
      "   macro avg       0.79      0.77      0.77       268\n",
      "weighted avg       0.79      0.79      0.79       268\n",
      " \n",
      "\n",
      "Model Metrics for MLPClassifier\n",
      "Confusion Matrix\n",
      "              Predicted Not-Survived  Predicted Survived\n",
      "Not-Survived                     147                  21\n",
      "Survived                          32                  68\n",
      "Accuracy Score:  0.802\n",
      "Classification Report\n",
      "              precision    recall  f1-score   support\n",
      "\n",
      "           0       0.82      0.88      0.85       168\n",
      "           1       0.76      0.68      0.72       100\n",
      "\n",
      "    accuracy                           0.80       268\n",
      "   macro avg       0.79      0.78      0.78       268\n",
      "weighted avg       0.80      0.80      0.80       268\n",
      " \n",
      "\n",
      "Model Metrics for XGBoost\n",
      "Confusion Matrix\n",
      "              Predicted Not-Survived  Predicted Survived\n",
      "Not-Survived                     147                  21\n",
      "Survived                          30                  70\n",
      "Accuracy Score:  0.81\n",
      "Classification Report\n",
      "              precision    recall  f1-score   support\n",
      "\n",
      "           0       0.83      0.88      0.85       168\n",
      "           1       0.77      0.70      0.73       100\n",
      "\n",
      "    accuracy                           0.81       268\n",
      "   macro avg       0.80      0.79      0.79       268\n",
      "weighted avg       0.81      0.81      0.81       268\n",
      " \n",
      "\n",
      "Model Metrics for LightGBM\n",
      "Confusion Matrix\n",
      "              Predicted Not-Survived  Predicted Survived\n",
      "Not-Survived                     152                  16\n",
      "Survived                          30                  70\n",
      "Accuracy Score:  0.828\n",
      "Classification Report\n",
      "              precision    recall  f1-score   support\n",
      "\n",
      "           0       0.84      0.90      0.87       168\n",
      "           1       0.81      0.70      0.75       100\n",
      "\n",
      "    accuracy                           0.83       268\n",
      "   macro avg       0.82      0.80      0.81       268\n",
      "weighted avg       0.83      0.83      0.83       268\n",
      " \n",
      "\n",
      "Model Metrics for GaussianNB\n",
      "Confusion Matrix\n",
      "              Predicted Not-Survived  Predicted Survived\n",
      "Not-Survived                     132                  36\n",
      "Survived                          21                  79\n",
      "Accuracy Score:  0.787\n",
      "Classification Report\n",
      "              precision    recall  f1-score   support\n",
      "\n",
      "           0       0.86      0.79      0.82       168\n",
      "           1       0.69      0.79      0.73       100\n",
      "\n",
      "    accuracy                           0.79       268\n",
      "   macro avg       0.77      0.79      0.78       268\n",
      "weighted avg       0.80      0.79      0.79       268\n",
      " \n",
      "\n"
     ]
    }
   ],
   "source": [
    "class_model(\"Log Reg\", LogisticRegression(max_iter=1000))\n",
    "for model_ticker, model_init in models_dict.items():\n",
    "    class_model(model_ticker, model_init)"
   ]
  },
  {
   "cell_type": "markdown",
   "id": "cf3a477e",
   "metadata": {
    "papermill": {
     "duration": 0.011022,
     "end_time": "2022-10-08T01:14:40.677551",
     "exception": false,
     "start_time": "2022-10-08T01:14:40.666529",
     "status": "completed"
    },
    "tags": []
   },
   "source": [
    "### Bagging Classifier "
   ]
  },
  {
   "cell_type": "code",
   "execution_count": 16,
   "id": "9984308b",
   "metadata": {
    "execution": {
     "iopub.execute_input": "2022-10-08T01:14:40.702489Z",
     "iopub.status.busy": "2022-10-08T01:14:40.701291Z",
     "iopub.status.idle": "2022-10-08T01:14:55.305304Z",
     "shell.execute_reply": "2022-10-08T01:14:55.303883Z"
    },
    "papermill": {
     "duration": 14.619136,
     "end_time": "2022-10-08T01:14:55.307872",
     "exception": false,
     "start_time": "2022-10-08T01:14:40.688736",
     "status": "completed"
    },
    "tags": []
   },
   "outputs": [
    {
     "data": {
      "text/plain": [
       "GridSearchCV(cv=StratifiedShuffleSplit(n_splits=10, random_state=15, test_size=0.3,\n",
       "            train_size=None),\n",
       "             estimator=BaggingClassifier(), n_jobs=-1,\n",
       "             param_grid={'n_estimators': [10, 30, 50, 70, 80, 150, 160, 170,\n",
       "                                          175, 180, 185]})"
      ]
     },
     "execution_count": 16,
     "metadata": {},
     "output_type": "execute_result"
    }
   ],
   "source": [
    "### Bagging approach w. grid search \n",
    "\n",
    "from sklearn.ensemble import BaggingClassifier\n",
    "n_estimators = [10,30,50,70,80,150,160, 170,175,180,185];\n",
    "cv = StratifiedShuffleSplit(n_splits=10, test_size=.30, random_state=15)\n",
    "\n",
    "parameters = {'n_estimators':n_estimators,}\n",
    "grid = GridSearchCV(BaggingClassifier(base_estimator= None, bootstrap_features=False), param_grid=parameters, cv=cv,n_jobs = -1)\n",
    "grid.fit(X_train_numeric,Y_train)"
   ]
  },
  {
   "cell_type": "code",
   "execution_count": 17,
   "id": "b8da099c",
   "metadata": {
    "execution": {
     "iopub.execute_input": "2022-10-08T01:14:55.334268Z",
     "iopub.status.busy": "2022-10-08T01:14:55.333304Z",
     "iopub.status.idle": "2022-10-08T01:14:55.361570Z",
     "shell.execute_reply": "2022-10-08T01:14:55.359992Z"
    },
    "papermill": {
     "duration": 0.044561,
     "end_time": "2022-10-08T01:14:55.364238",
     "exception": false,
     "start_time": "2022-10-08T01:14:55.319677",
     "status": "completed"
    },
    "tags": []
   },
   "outputs": [
    {
     "name": "stdout",
     "output_type": "stream",
     "text": [
      "0.7935828877005349\n",
      "{'n_estimators': 80}\n",
      "BaggingClassifier(n_estimators=80)\n"
     ]
    },
    {
     "data": {
      "text/plain": [
       "1.0"
      ]
     },
     "execution_count": 17,
     "metadata": {},
     "output_type": "execute_result"
    }
   ],
   "source": [
    "print (grid.best_score_)\n",
    "print (grid.best_params_)\n",
    "print (grid.best_estimator_)\n",
    "bagging_grid = grid.best_estimator_\n",
    "bagging_grid.score(X_train_numeric,Y_train)"
   ]
  },
  {
   "cell_type": "markdown",
   "id": "7cdf47af",
   "metadata": {
    "papermill": {
     "duration": 0.011044,
     "end_time": "2022-10-08T01:14:55.386935",
     "exception": false,
     "start_time": "2022-10-08T01:14:55.375891",
     "status": "completed"
    },
    "tags": []
   },
   "source": [
    "### AdaBoost Classifier"
   ]
  },
  {
   "cell_type": "code",
   "execution_count": 18,
   "id": "6e880afe",
   "metadata": {
    "execution": {
     "iopub.execute_input": "2022-10-08T01:14:55.411900Z",
     "iopub.status.busy": "2022-10-08T01:14:55.411486Z",
     "iopub.status.idle": "2022-10-08T01:15:37.785795Z",
     "shell.execute_reply": "2022-10-08T01:15:37.784496Z"
    },
    "papermill": {
     "duration": 42.400657,
     "end_time": "2022-10-08T01:15:37.799084",
     "exception": false,
     "start_time": "2022-10-08T01:14:55.398427",
     "status": "completed"
    },
    "tags": []
   },
   "outputs": [
    {
     "data": {
      "text/plain": [
       "GridSearchCV(cv=StratifiedShuffleSplit(n_splits=10, random_state=15, test_size=0.3,\n",
       "            train_size=None),\n",
       "             estimator=AdaBoostClassifier(), n_jobs=-1,\n",
       "             param_grid={'learning_rate': [0.1, 1, 0.01, 0.5],\n",
       "                         'n_estimators': [100, 140, 145, 150, 160, 170, 175,\n",
       "                                          180, 185]})"
      ]
     },
     "execution_count": 18,
     "metadata": {},
     "output_type": "execute_result"
    }
   ],
   "source": [
    "from sklearn.ensemble import AdaBoostClassifier\n",
    "n_estimators = [100,140,145,150,160, 170,175,180,185];\n",
    "cv = StratifiedShuffleSplit(n_splits=10, test_size=.30, random_state=15)\n",
    "learning_r = [0.1,1,0.01,0.5]\n",
    "\n",
    "parameters = {'n_estimators':n_estimators,'learning_rate':learning_r}\n",
    "grid = GridSearchCV(AdaBoostClassifier(base_estimator= None),\n",
    "                                 param_grid=parameters,\n",
    "                                 cv=cv,\n",
    "                                 n_jobs = -1)\n",
    "grid.fit(X_train_numeric,Y_train) "
   ]
  },
  {
   "cell_type": "code",
   "execution_count": 19,
   "id": "05008c9c",
   "metadata": {
    "execution": {
     "iopub.execute_input": "2022-10-08T01:15:37.823992Z",
     "iopub.status.busy": "2022-10-08T01:15:37.823524Z",
     "iopub.status.idle": "2022-10-08T01:15:37.880092Z",
     "shell.execute_reply": "2022-10-08T01:15:37.878787Z"
    },
    "papermill": {
     "duration": 0.072696,
     "end_time": "2022-10-08T01:15:37.883137",
     "exception": false,
     "start_time": "2022-10-08T01:15:37.810441",
     "status": "completed"
    },
    "tags": []
   },
   "outputs": [
    {
     "name": "stdout",
     "output_type": "stream",
     "text": [
      "0.7855614973262032\n",
      "{'learning_rate': 0.01, 'n_estimators': 175}\n",
      "AdaBoostClassifier(learning_rate=0.01, n_estimators=175)\n"
     ]
    },
    {
     "data": {
      "text/plain": [
       "0.7865168539325843"
      ]
     },
     "execution_count": 19,
     "metadata": {},
     "output_type": "execute_result"
    }
   ],
   "source": [
    "print (grid.best_score_)\n",
    "print (grid.best_params_)\n",
    "print (grid.best_estimator_)\n",
    "adaBoost_grid = grid.best_estimator_\n",
    "adaBoost_grid.score(X_train_numeric,Y_train)"
   ]
  },
  {
   "cell_type": "markdown",
   "id": "ed2a1ccf",
   "metadata": {
    "papermill": {
     "duration": 0.011458,
     "end_time": "2022-10-08T01:15:37.907278",
     "exception": false,
     "start_time": "2022-10-08T01:15:37.895820",
     "status": "completed"
    },
    "tags": []
   },
   "source": [
    "### Voting Classifier"
   ]
  },
  {
   "cell_type": "code",
   "execution_count": 20,
   "id": "3e714300",
   "metadata": {
    "execution": {
     "iopub.execute_input": "2022-10-08T01:15:37.933744Z",
     "iopub.status.busy": "2022-10-08T01:15:37.933317Z",
     "iopub.status.idle": "2022-10-08T01:15:37.938647Z",
     "shell.execute_reply": "2022-10-08T01:15:37.937844Z"
    },
    "papermill": {
     "duration": 0.02103,
     "end_time": "2022-10-08T01:15:37.940622",
     "exception": false,
     "start_time": "2022-10-08T01:15:37.919592",
     "status": "completed"
    },
    "tags": []
   },
   "outputs": [],
   "source": [
    "from sklearn.ensemble import VotingClassifier\n",
    "\n",
    "## Create a full model dictionary to create list of all models for voting classifier\n",
    "models_dict['Bagging Classifier'] = BaggingClassifier(n_estimators=70)\n",
    "models_dict['AdaBoost Classifier'] = AdaBoostClassifier(learning_rate=0.01, n_estimators=175)\n",
    "estimators = list(models_dict.items())"
   ]
  },
  {
   "cell_type": "code",
   "execution_count": 21,
   "id": "1a206120",
   "metadata": {
    "execution": {
     "iopub.execute_input": "2022-10-08T01:15:37.966157Z",
     "iopub.status.busy": "2022-10-08T01:15:37.965782Z",
     "iopub.status.idle": "2022-10-08T01:15:37.978497Z",
     "shell.execute_reply": "2022-10-08T01:15:37.977199Z"
    },
    "papermill": {
     "duration": 0.029198,
     "end_time": "2022-10-08T01:15:37.981538",
     "exception": false,
     "start_time": "2022-10-08T01:15:37.952340",
     "status": "completed"
    },
    "tags": []
   },
   "outputs": [
    {
     "name": "stdout",
     "output_type": "stream",
     "text": [
      "[('KNeighbors', KNeighborsClassifier()), ('LogisticRegression', LogisticRegression(max_iter=1000)), ('DecisionTree', DecisionTreeClassifier()), ('RandomForest', RandomForestClassifier()), ('SupportVectorClassifier', SVC()), ('MLPClassifier', MLPClassifier(max_iter=1000)), ('XGBoost', XGBClassifier(base_score=0.5, booster='gbtree', callbacks=None,\n",
      "              colsample_bylevel=1, colsample_bynode=1, colsample_bytree=1,\n",
      "              early_stopping_rounds=None, enable_categorical=False,\n",
      "              eval_metric=None, gamma=0, gpu_id=-1, grow_policy='depthwise',\n",
      "              importance_type=None, interaction_constraints='',\n",
      "              learning_rate=0.300000012, max_bin=256, max_cat_to_onehot=4,\n",
      "              max_delta_step=0, max_depth=6, max_leaves=0, min_child_weight=1,\n",
      "              missing=nan, monotone_constraints='()', n_estimators=100,\n",
      "              n_jobs=0, num_parallel_tree=1, predictor='auto', random_state=0,\n",
      "              reg_alpha=0, reg_lambda=1, ...)), ('LightGBM', LGBMClassifier()), ('GaussianNB', GaussianNB()), ('Bagging Classifier', BaggingClassifier(n_estimators=70)), ('AdaBoost Classifier', AdaBoostClassifier(learning_rate=0.01, n_estimators=175))]\n"
     ]
    }
   ],
   "source": [
    "print(estimators)"
   ]
  },
  {
   "cell_type": "code",
   "execution_count": 22,
   "id": "823311d8",
   "metadata": {
    "execution": {
     "iopub.execute_input": "2022-10-08T01:15:38.007739Z",
     "iopub.status.busy": "2022-10-08T01:15:38.007355Z",
     "iopub.status.idle": "2022-10-08T01:15:45.103898Z",
     "shell.execute_reply": "2022-10-08T01:15:45.102829Z"
    },
    "papermill": {
     "duration": 7.112693,
     "end_time": "2022-10-08T01:15:45.106602",
     "exception": false,
     "start_time": "2022-10-08T01:15:37.993909",
     "status": "completed"
    },
    "tags": []
   },
   "outputs": [],
   "source": [
    "voting_classifier = VotingClassifier(estimators=estimators,voting='hard')\n",
    "voting_classifier = voting_classifier.fit(X_train_numeric,Y_train)"
   ]
  },
  {
   "cell_type": "markdown",
   "id": "f24ceade",
   "metadata": {
    "papermill": {
     "duration": 0.011491,
     "end_time": "2022-10-08T01:15:45.130138",
     "exception": false,
     "start_time": "2022-10-08T01:15:45.118647",
     "status": "completed"
    },
    "tags": []
   },
   "source": [
    "### Final Submission"
   ]
  },
  {
   "cell_type": "code",
   "execution_count": 23,
   "id": "476dfe13",
   "metadata": {
    "execution": {
     "iopub.execute_input": "2022-10-08T01:15:45.155467Z",
     "iopub.status.busy": "2022-10-08T01:15:45.155074Z",
     "iopub.status.idle": "2022-10-08T01:15:57.077406Z",
     "shell.execute_reply": "2022-10-08T01:15:57.076149Z"
    },
    "papermill": {
     "duration": 11.938612,
     "end_time": "2022-10-08T01:15:57.080415",
     "exception": false,
     "start_time": "2022-10-08T01:15:45.141803",
     "status": "completed"
    },
    "tags": []
   },
   "outputs": [],
   "source": [
    "# add voting classifier to all models \n",
    "models_dict['Voting Classifier'] = voting_classifier\n",
    "\n",
    "\n",
    "scores = {}\n",
    "i = 0\n",
    "for model_name, model in models_dict.items():\n",
    "    model.fit(X_train_numeric, Y_train)\n",
    "    preds = model.predict(X_valid_numeric)\n",
    "    acc_score = accuracy_score(preds, Y_valid)\n",
    "    scores[model_name] = acc_score\n",
    "    i = i + 1\n",
    "    "
   ]
  },
  {
   "cell_type": "code",
   "execution_count": 24,
   "id": "bf47cc42",
   "metadata": {
    "execution": {
     "iopub.execute_input": "2022-10-08T01:15:57.106449Z",
     "iopub.status.busy": "2022-10-08T01:15:57.105675Z",
     "iopub.status.idle": "2022-10-08T01:15:57.110971Z",
     "shell.execute_reply": "2022-10-08T01:15:57.109837Z"
    },
    "papermill": {
     "duration": 0.021279,
     "end_time": "2022-10-08T01:15:57.113882",
     "exception": false,
     "start_time": "2022-10-08T01:15:57.092603",
     "status": "completed"
    },
    "tags": []
   },
   "outputs": [
    {
     "name": "stdout",
     "output_type": "stream",
     "text": [
      "{'KNeighbors': 0.8097014925373134, 'LogisticRegression': 0.8022388059701493, 'DecisionTree': 0.7761194029850746, 'RandomForest': 0.835820895522388, 'SupportVectorClassifier': 0.7947761194029851, 'MLPClassifier': 0.8171641791044776, 'XGBoost': 0.8097014925373134, 'LightGBM': 0.8283582089552238, 'GaussianNB': 0.7873134328358209, 'Bagging Classifier': 0.8171641791044776, 'AdaBoost Classifier': 0.7873134328358209, 'Voting Classifier': 0.8246268656716418}\n"
     ]
    }
   ],
   "source": [
    "print(scores)"
   ]
  },
  {
   "cell_type": "markdown",
   "id": "903bd3e7",
   "metadata": {
    "papermill": {
     "duration": 0.011602,
     "end_time": "2022-10-08T01:15:57.137444",
     "exception": false,
     "start_time": "2022-10-08T01:15:57.125842",
     "status": "completed"
    },
    "tags": []
   },
   "source": [
    "XGBoost has the highest accuracy score: 'XGBoost': 0.8507462686567164. So it will be used for the final submission."
   ]
  },
  {
   "cell_type": "markdown",
   "id": "f6b7abd1",
   "metadata": {
    "papermill": {
     "duration": 0.01159,
     "end_time": "2022-10-08T01:15:57.160920",
     "exception": false,
     "start_time": "2022-10-08T01:15:57.149330",
     "status": "completed"
    },
    "tags": []
   },
   "source": [
    "### Final Submission"
   ]
  },
  {
   "cell_type": "code",
   "execution_count": 25,
   "id": "ba43e0ee",
   "metadata": {
    "execution": {
     "iopub.execute_input": "2022-10-08T01:15:57.186205Z",
     "iopub.status.busy": "2022-10-08T01:15:57.185789Z",
     "iopub.status.idle": "2022-10-08T01:15:57.192296Z",
     "shell.execute_reply": "2022-10-08T01:15:57.191141Z"
    },
    "papermill": {
     "duration": 0.023159,
     "end_time": "2022-10-08T01:15:57.195879",
     "exception": false,
     "start_time": "2022-10-08T01:15:57.172720",
     "status": "completed"
    },
    "tags": []
   },
   "outputs": [
    {
     "name": "stdout",
     "output_type": "stream",
     "text": [
      "[[-1.72791209  0.59480137 -0.49947002 ...  0.44752374 -0.47091535\n",
      "   0.87348191]\n",
      " [-1.71962474  1.30589556  0.61699237 ...  0.44752374  0.70076689\n",
      "   0.87348191]\n",
      " [-1.71133739  2.15920859 -0.49947002 ...  0.44752374 -0.47091535\n",
      "  -0.31581919]\n",
      " ...\n",
      " [ 1.71133739  0.82235151 -0.49947002 ...  0.44752374  0.70076689\n",
      "   0.87348191]\n",
      " [ 1.71962474 -1.3678186  -0.49947002 ...  0.44752374  0.70076689\n",
      "   0.87348191]\n",
      " [ 1.72791209 -1.3678186   0.61699237 ...  0.44752374 -1.64259759\n",
      "   0.87348191]]\n"
     ]
    }
   ],
   "source": [
    "print(test_df)"
   ]
  },
  {
   "cell_type": "code",
   "execution_count": 26,
   "id": "0e4c140b",
   "metadata": {
    "execution": {
     "iopub.execute_input": "2022-10-08T01:15:57.221747Z",
     "iopub.status.busy": "2022-10-08T01:15:57.221351Z",
     "iopub.status.idle": "2022-10-08T01:15:57.230731Z",
     "shell.execute_reply": "2022-10-08T01:15:57.229852Z"
    },
    "papermill": {
     "duration": 0.025292,
     "end_time": "2022-10-08T01:15:57.233384",
     "exception": false,
     "start_time": "2022-10-08T01:15:57.208092",
     "status": "completed"
    },
    "tags": []
   },
   "outputs": [
    {
     "name": "stdout",
     "output_type": "stream",
     "text": [
      "[[ 1.59014094  1.52926229 -0.457246   ... -0.29156147  0.56011053\n",
      "  -1.5325562 ]\n",
      " [-1.52952238  1.41554077  0.4033711  ... -0.76678344 -2.02469583\n",
      "  -1.5325562 ]\n",
      " [-0.23515275 -1.31377554  3.8458395  ...  0.46447348  0.56011053\n",
      "   0.84844757]\n",
      " ...\n",
      " [ 0.67168106  0.16460413  0.4033711  ...  0.46447348 -2.02469583\n",
      "   0.84844757]\n",
      " [ 1.31499051 -0.34714268 -0.457246   ...  0.46447348  0.56011053\n",
      "   0.84844757]\n",
      " [-1.48301808 -1.37063629 -0.457246   ...  0.46447348 -2.02469583\n",
      "  -1.5325562 ]]\n",
      "[1 1 0 0 0 1 0 0 0 1 1 0 0 1 0 1 0 0 0 0 0 0 1 0 1 1 1 0 0 0 1 0 1 0 0 1 1\n",
      " 1 0 0 1 0 1 0 0 0 0 1 0 1 0 1 0 1 1 1 0 0 0 0 0 0 1 0 1 0 0 0 1 0 1 0 0 0\n",
      " 1 0 1 1 1 0 0 0 1 1 0 0 1 0 1 0 0 0 0 1 1 1 0 1 0 1 0 1 0 0 1 0 0 0 0 0 1\n",
      " 0 1 0 1 0 0 0 0 0 1 0 0 1 0 0 0 1 0 0 1 0 0 1 0 1 0 0 0 0 1 0 0 0 1 0 0 0\n",
      " 0 0 0 0 0 0 1 1 0 0 0 1 0 0 0 0 1 1 0 1 0 1 0 0 0 1 1 0 0 0 0 0 0 1 0 0 1\n",
      " 1 0 0 0 1 0 1 0 0 1 0 0 1 1 0 0 1 1 1 0 1 0 0 1 0 0 0 0 0 1 0 0 0 1 0 0 1\n",
      " 1 0 0 0 0 0 0 1 0 0 0 0 0 1 0 0 0 1 0 1 0 0 1 0 1 0 1 0 0 0 1 1 1 1 0 0 0\n",
      " 0 0 0 0 1 1 1 0 0 0 1 0 1 1 1 0 0 0 0 1 1 0 0 1 0 1 1 0 0 0 0 1 1 0 1 0 1\n",
      " 0 1 0 0 0 1 0 0 0 1 0 0 0 0 0 1 1 0 0 0 0 1 1 0 0 0 1 0 0 0 1 1 0 0 1 0 0\n",
      " 0 0 0 0 1 1 1 1 1 1 1 1 0 0 0 1 1 0 0 1 1 0 0 0 0 0 0 0 1 1 1 0 0 0 0 1 1\n",
      " 0 0 0 1 0 1 0 1 0 1 1 1 1 0 0 1 0 1 0 0 1 1 1 0 0 0 1 0 0 1 0 0 0 0 0 0 0\n",
      " 0 0 0 0 0 0 0 0 1 1 0 0 0 1 1 0 0 1 1 1 0 0 0 1 0 0 1 0 1 0 1 0 0 1 0 0 0\n",
      " 0 0 1 0 0 0 0 1 1 1 0 0 1 1 1 0 1 1 0 0 0 0 1 0 0 1 1 0 0 0 1 1 0 1 0 1 1\n",
      " 1 0 1 1 1 0 0 0 1 0 0 0 1 0 0 1 0 0 0 1 0 0 1 1 1 0 1 1 0 1 0 1 1 0 0 0 0\n",
      " 0 0 1 1 0 0 0 0 0 1 0 0 0 1 1 1 0 0 1 0 0 0 0 0 1 1 1 0 1 0 0 1 0 0 0 0 0\n",
      " 0 0 0 0 1 1 1 1 1 1 1 0 1 0 1 0 0 1 0 0 1 0 1 0 0 0 1 1 0 0 0 1 1 0 1 1 0\n",
      " 1 0 0 1 1 1 1 0 0 0 1 0 0 0 1 1 0 1 1 1 0 0 1 1 1 1 1 1 0 1 0 0 0 0 1 1 1\n",
      " 1 1 1 1 0 1 0 1 1 0 0 0 0 1 0 1 0 0 0 1 0 1 1 0 0 1 0 1 0 1 0 0 0 0 1 0 0\n",
      " 0 1 0 0 1 0 0 1 1 1 0 1 0 0 0 0 1 0 0 1 0 1 0 1 0 1 1 1 1 0 0 0 1 0 0 0 0\n",
      " 0 1 0 0 0 1 1 1 1 0 0 0 1 1 0 0 1 0 0 1 0 0 0 0 0 1 1 0 0 1 0 1 1 0 1 1 1\n",
      " 1 0 1 1 0 0 0 0 0 0 1 0 0 0 0 0 0 0 0 0 0 0 0 0 1 0 0 1 0 0 1 1 0 0 1 0 0\n",
      " 1 0 0 1 0 1 0 1 1 1 0 0 0 0 0 0 0 1 0 0 1 0 1 0 0 0 0 0 0 0 0 0 1 0 0 1 0\n",
      " 0 1 1 0 0 0 1 1 0 1 0 0 1 1 0 0 0 1 0 0 1 0 0 0 0 0 1 0 1 0 1 1 0 1 0 0 1\n",
      " 1 0 0 1 1 0 0 0 1 1 1 0 0 1 0 0 1 1 0 0 0 1 0 0 0 0 0 0 1 1 1 0 0 0 0 0 0\n",
      " 0 1 0]\n"
     ]
    }
   ],
   "source": [
    "all_X = np.concatenate((X_train_numeric, X_valid_numeric) ,axis=0)\n",
    "all_Y = np.concatenate((Y_train, Y_valid) ,axis=0)\n",
    "print(all_X)\n",
    "print(all_Y)"
   ]
  },
  {
   "cell_type": "code",
   "execution_count": 27,
   "id": "24f8ce5b",
   "metadata": {
    "execution": {
     "iopub.execute_input": "2022-10-08T01:15:57.260807Z",
     "iopub.status.busy": "2022-10-08T01:15:57.259729Z",
     "iopub.status.idle": "2022-10-08T01:16:08.441352Z",
     "shell.execute_reply": "2022-10-08T01:16:08.439517Z"
    },
    "papermill": {
     "duration": 11.197841,
     "end_time": "2022-10-08T01:16:08.443800",
     "exception": false,
     "start_time": "2022-10-08T01:15:57.245959",
     "status": "completed"
    },
    "tags": []
   },
   "outputs": [
    {
     "name": "stderr",
     "output_type": "stream",
     "text": [
      "/opt/conda/lib/python3.7/site-packages/sklearn/neural_network/_multilayer_perceptron.py:696: ConvergenceWarning: Stochastic Optimizer: Maximum iterations (1000) reached and the optimization hasn't converged yet.\n",
      "  ConvergenceWarning,\n"
     ]
    },
    {
     "name": "stdout",
     "output_type": "stream",
     "text": [
      "[0 0 0 0 0 0 1 0 1 0 0 0 1 0 1 1 0 0 0 1 0 0 1 0 1 0 1 0 0 0 0 0 1 1 0 0 0\n",
      " 0 0 0 0 0 0 1 1 0 0 0 1 1 0 0 1 1 0 0 0 0 0 1 0 0 0 1 0 1 1 0 0 1 1 0 0 0\n",
      " 1 0 0 1 0 1 1 0 0 0 0 0 1 1 1 1 1 0 1 0 0 0 1 0 0 0 1 0 0 0 1 0 0 0 0 0 0\n",
      " 1 1 1 1 0 0 1 0 1 1 0 1 0 0 1 0 1 0 0 0 0 1 0 0 0 0 0 0 0 0 1 0 0 0 0 0 0\n",
      " 0 0 1 0 0 1 0 0 1 0 0 1 1 1 1 0 0 0 0 0 1 0 0 0 0 0 0 1 1 0 1 1 0 0 1 0 1\n",
      " 0 1 0 0 0 0 0 0 0 1 0 1 0 0 0 1 1 0 1 0 0 0 0 1 0 0 0 0 1 0 0 0 0 1 0 1 0\n",
      " 1 0 1 1 0 0 0 0 0 1 0 0 1 0 0 0 1 1 1 1 0 0 0 0 1 0 1 1 1 0 0 0 0 0 0 0 1\n",
      " 0 0 0 1 1 0 0 0 0 0 0 0 0 1 1 0 1 0 0 0 0 1 1 0 1 1 0 0 1 0 0 0 0 0 1 0 0\n",
      " 1 0 0 0 0 0 0 0 1 1 1 0 1 0 0 0 0 0 1 0 1 0 0 0 0 0 0 0 1 0 1 0 0 0 1 0 0\n",
      " 0 0 0 0 0 0 0 0 0 0 1 0 0 0 0 0 1 1 0 0 0 0 0 1 0 0 0 0 1 1 0 1 0 0 0 1 0\n",
      " 0 1 0 0 1 1 0 0 0 0 0 0 1 0 0 1 0 0 0 0 0 1 0 0 0 1 0 1 0 0 1 0 1 0 1 0 0\n",
      " 0 1 1 1 1 0 0 1 0 0 1]\n"
     ]
    }
   ],
   "source": [
    "final_model = XGBClassifier()\n",
    "model.fit(all_X, all_Y)\n",
    "preds = model.predict(test_df)\n",
    "\n",
    "print(preds)\n",
    "\n",
    "\n"
   ]
  },
  {
   "cell_type": "code",
   "execution_count": 28,
   "id": "d7051604",
   "metadata": {
    "execution": {
     "iopub.execute_input": "2022-10-08T01:16:08.470307Z",
     "iopub.status.busy": "2022-10-08T01:16:08.469886Z",
     "iopub.status.idle": "2022-10-08T01:16:08.483147Z",
     "shell.execute_reply": "2022-10-08T01:16:08.481808Z"
    },
    "papermill": {
     "duration": 0.029763,
     "end_time": "2022-10-08T01:16:08.485975",
     "exception": false,
     "start_time": "2022-10-08T01:16:08.456212",
     "status": "completed"
    },
    "tags": []
   },
   "outputs": [],
   "source": [
    "submission = pd.DataFrame({\n",
    "        \"PassengerId\": test_ids,\n",
    "        \"Survived\": preds\n",
    "    })\n",
    "\n",
    "submission.PassengerId = submission.PassengerId.astype(int)\n",
    "submission.Survived = submission.Survived.astype(int)\n",
    "\n",
    "submission.to_csv(\"submission.csv\", index=False)"
   ]
  }
 ],
 "metadata": {
  "kernelspec": {
   "display_name": "Python 3",
   "language": "python",
   "name": "python3"
  },
  "language_info": {
   "codemirror_mode": {
    "name": "ipython",
    "version": 3
   },
   "file_extension": ".py",
   "mimetype": "text/x-python",
   "name": "python",
   "nbconvert_exporter": "python",
   "pygments_lexer": "ipython3",
   "version": "3.7.12"
  },
  "papermill": {
   "default_parameters": {},
   "duration": 109.648059,
   "end_time": "2022-10-08T01:16:11.121572",
   "environment_variables": {},
   "exception": null,
   "input_path": "__notebook__.ipynb",
   "output_path": "__notebook__.ipynb",
   "parameters": {},
   "start_time": "2022-10-08T01:14:21.473513",
   "version": "2.3.4"
  }
 },
 "nbformat": 4,
 "nbformat_minor": 5
}
