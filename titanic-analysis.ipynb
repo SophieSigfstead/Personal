{
 "cells": [
  {
   "cell_type": "code",
   "execution_count": 1,
   "id": "e23cdc53",
   "metadata": {
    "_cell_guid": "b1076dfc-b9ad-4769-8c92-a6c4dae69d19",
    "_uuid": "8f2839f25d086af736a60e9eeb907d3b93b6e0e5",
    "execution": {
     "iopub.execute_input": "2022-10-08T01:18:44.368868Z",
     "iopub.status.busy": "2022-10-08T01:18:44.368296Z",
     "iopub.status.idle": "2022-10-08T01:18:47.277306Z",
     "shell.execute_reply": "2022-10-08T01:18:47.275983Z"
    },
    "papermill": {
     "duration": 2.925208,
     "end_time": "2022-10-08T01:18:47.281127",
     "exception": false,
     "start_time": "2022-10-08T01:18:44.355919",
     "status": "completed"
    },
    "tags": []
   },
   "outputs": [
    {
     "data": {
      "text/html": [
       "<style type='text/css'>\n",
       ".datatable table.frame { margin-bottom: 0; }\n",
       ".datatable table.frame thead { border-bottom: none; }\n",
       ".datatable table.frame tr.coltypes td {  color: #FFFFFF;  line-height: 6px;  padding: 0 0.5em;}\n",
       ".datatable .bool    { background: #DDDD99; }\n",
       ".datatable .object  { background: #565656; }\n",
       ".datatable .int     { background: #5D9E5D; }\n",
       ".datatable .float   { background: #4040CC; }\n",
       ".datatable .str     { background: #CC4040; }\n",
       ".datatable .time    { background: #40CC40; }\n",
       ".datatable .row_index {  background: var(--jp-border-color3);  border-right: 1px solid var(--jp-border-color0);  color: var(--jp-ui-font-color3);  font-size: 9px;}\n",
       ".datatable .frame tbody td { text-align: left; }\n",
       ".datatable .frame tr.coltypes .row_index {  background: var(--jp-border-color0);}\n",
       ".datatable th:nth-child(2) { padding-left: 12px; }\n",
       ".datatable .hellipsis {  color: var(--jp-cell-editor-border-color);}\n",
       ".datatable .vellipsis {  background: var(--jp-layout-color0);  color: var(--jp-cell-editor-border-color);}\n",
       ".datatable .na {  color: var(--jp-cell-editor-border-color);  font-size: 80%;}\n",
       ".datatable .sp {  opacity: 0.25;}\n",
       ".datatable .footer { font-size: 9px; }\n",
       ".datatable .frame_dimensions {  background: var(--jp-border-color3);  border-top: 1px solid var(--jp-border-color0);  color: var(--jp-ui-font-color3);  display: inline-block;  opacity: 0.6;  padding: 1px 10px 1px 5px;}\n",
       "</style>\n"
      ],
      "text/plain": [
       "<IPython.core.display.HTML object>"
      ]
     },
     "metadata": {},
     "output_type": "display_data"
    },
    {
     "name": "stdout",
     "output_type": "stream",
     "text": [
      "/kaggle/input/titanic/train.csv\n",
      "/kaggle/input/titanic/test.csv\n",
      "/kaggle/input/titanic/gender_submission.csv\n"
     ]
    }
   ],
   "source": [
    "# This Python 3 environment comes with many helpful analytics libraries installed\n",
    "# It is defined by the kaggle/python Docker image: https://github.com/kaggle/docker-python\n",
    "# For example, here's several helpful packages to load\n",
    "\n",
    "import numpy as np # linear algebra\n",
    "import pandas as pd # data processing, CSV file I/O (e.g. pd.read_csv)\n",
    "import matplotlib.pyplot as plt\n",
    "import seaborn as sns\n",
    "\n",
    "# import models from sklearn\n",
    "from sklearn.preprocessing import StandardScaler\n",
    "from sklearn.model_selection import cross_validate, GridSearchCV, StratifiedShuffleSplit, cross_val_score\n",
    "from sklearn.neighbors import KNeighborsClassifier\n",
    "from sklearn.linear_model import LogisticRegression\n",
    "from sklearn.tree import DecisionTreeClassifier\n",
    "from sklearn.ensemble import RandomForestClassifier\n",
    "from sklearn.svm import SVC\n",
    "from sklearn.neural_network import MLPClassifier\n",
    "from sklearn.naive_bayes import GaussianNB\n",
    "from xgboost import XGBClassifier\n",
    "from lightgbm import LGBMClassifier\n",
    "from sklearn.metrics import accuracy_score, f1_score, confusion_matrix\n",
    "from sklearn.preprocessing import LabelEncoder\n",
    "import seaborn as sns\n",
    "\n",
    "# Input data files are available in the read-only \"../input/\" directory\n",
    "# For example, running this (by clicking run or pressing Shift+Enter) will list all files under the input directory\n",
    "\n",
    "import os\n",
    "for dirname, _, filenames in os.walk('/kaggle/input'):\n",
    "    for filename in filenames:\n",
    "        print(os.path.join(dirname, filename))\n",
    "\n",
    "# You can write up to 20GB to the current directory (/kaggle/working/) that gets preserved as output when you create a version using \"Save & Run All\" \n",
    "# You can also write temporary files to /kaggle/temp/, but they won't be saved outside of the current session"
   ]
  },
  {
   "cell_type": "code",
   "execution_count": 2,
   "id": "ec6cc394",
   "metadata": {
    "execution": {
     "iopub.execute_input": "2022-10-08T01:18:47.303499Z",
     "iopub.status.busy": "2022-10-08T01:18:47.302962Z",
     "iopub.status.idle": "2022-10-08T01:18:47.342092Z",
     "shell.execute_reply": "2022-10-08T01:18:47.340865Z"
    },
    "papermill": {
     "duration": 0.054081,
     "end_time": "2022-10-08T01:18:47.345070",
     "exception": false,
     "start_time": "2022-10-08T01:18:47.290989",
     "status": "completed"
    },
    "tags": []
   },
   "outputs": [],
   "source": [
    "# Classification problem - predicting through variables: C : {}, D: {} for outcome Survived : [0,1]\n",
    "# 0 = , 1 = \n",
    "df = pd.read_csv(\"/kaggle/input/titanic/train.csv\")\n",
    "test_df = pd.read_csv(\"/kaggle/input/titanic/test.csv\")\n",
    "example_sub = pd.read_csv(\"/kaggle/input/titanic/gender_submission.csv\")"
   ]
  },
  {
   "cell_type": "code",
   "execution_count": 3,
   "id": "2a1627a3",
   "metadata": {
    "execution": {
     "iopub.execute_input": "2022-10-08T01:18:47.365816Z",
     "iopub.status.busy": "2022-10-08T01:18:47.365322Z",
     "iopub.status.idle": "2022-10-08T01:18:47.390063Z",
     "shell.execute_reply": "2022-10-08T01:18:47.388895Z"
    },
    "papermill": {
     "duration": 0.038751,
     "end_time": "2022-10-08T01:18:47.393082",
     "exception": false,
     "start_time": "2022-10-08T01:18:47.354331",
     "status": "completed"
    },
    "tags": []
   },
   "outputs": [
    {
     "data": {
      "text/html": [
       "<div>\n",
       "<style scoped>\n",
       "    .dataframe tbody tr th:only-of-type {\n",
       "        vertical-align: middle;\n",
       "    }\n",
       "\n",
       "    .dataframe tbody tr th {\n",
       "        vertical-align: top;\n",
       "    }\n",
       "\n",
       "    .dataframe thead th {\n",
       "        text-align: right;\n",
       "    }\n",
       "</style>\n",
       "<table border=\"1\" class=\"dataframe\">\n",
       "  <thead>\n",
       "    <tr style=\"text-align: right;\">\n",
       "      <th></th>\n",
       "      <th>PassengerId</th>\n",
       "      <th>Survived</th>\n",
       "      <th>Pclass</th>\n",
       "      <th>Name</th>\n",
       "      <th>Sex</th>\n",
       "      <th>Age</th>\n",
       "      <th>SibSp</th>\n",
       "      <th>Parch</th>\n",
       "      <th>Ticket</th>\n",
       "      <th>Fare</th>\n",
       "      <th>Cabin</th>\n",
       "      <th>Embarked</th>\n",
       "    </tr>\n",
       "  </thead>\n",
       "  <tbody>\n",
       "    <tr>\n",
       "      <th>0</th>\n",
       "      <td>1</td>\n",
       "      <td>0</td>\n",
       "      <td>3</td>\n",
       "      <td>Braund, Mr. Owen Harris</td>\n",
       "      <td>male</td>\n",
       "      <td>22.0</td>\n",
       "      <td>1</td>\n",
       "      <td>0</td>\n",
       "      <td>A/5 21171</td>\n",
       "      <td>7.2500</td>\n",
       "      <td>NaN</td>\n",
       "      <td>S</td>\n",
       "    </tr>\n",
       "    <tr>\n",
       "      <th>1</th>\n",
       "      <td>2</td>\n",
       "      <td>1</td>\n",
       "      <td>1</td>\n",
       "      <td>Cumings, Mrs. John Bradley (Florence Briggs Th...</td>\n",
       "      <td>female</td>\n",
       "      <td>38.0</td>\n",
       "      <td>1</td>\n",
       "      <td>0</td>\n",
       "      <td>PC 17599</td>\n",
       "      <td>71.2833</td>\n",
       "      <td>C85</td>\n",
       "      <td>C</td>\n",
       "    </tr>\n",
       "    <tr>\n",
       "      <th>2</th>\n",
       "      <td>3</td>\n",
       "      <td>1</td>\n",
       "      <td>3</td>\n",
       "      <td>Heikkinen, Miss. Laina</td>\n",
       "      <td>female</td>\n",
       "      <td>26.0</td>\n",
       "      <td>0</td>\n",
       "      <td>0</td>\n",
       "      <td>STON/O2. 3101282</td>\n",
       "      <td>7.9250</td>\n",
       "      <td>NaN</td>\n",
       "      <td>S</td>\n",
       "    </tr>\n",
       "    <tr>\n",
       "      <th>3</th>\n",
       "      <td>4</td>\n",
       "      <td>1</td>\n",
       "      <td>1</td>\n",
       "      <td>Futrelle, Mrs. Jacques Heath (Lily May Peel)</td>\n",
       "      <td>female</td>\n",
       "      <td>35.0</td>\n",
       "      <td>1</td>\n",
       "      <td>0</td>\n",
       "      <td>113803</td>\n",
       "      <td>53.1000</td>\n",
       "      <td>C123</td>\n",
       "      <td>S</td>\n",
       "    </tr>\n",
       "    <tr>\n",
       "      <th>4</th>\n",
       "      <td>5</td>\n",
       "      <td>0</td>\n",
       "      <td>3</td>\n",
       "      <td>Allen, Mr. William Henry</td>\n",
       "      <td>male</td>\n",
       "      <td>35.0</td>\n",
       "      <td>0</td>\n",
       "      <td>0</td>\n",
       "      <td>373450</td>\n",
       "      <td>8.0500</td>\n",
       "      <td>NaN</td>\n",
       "      <td>S</td>\n",
       "    </tr>\n",
       "  </tbody>\n",
       "</table>\n",
       "</div>"
      ],
      "text/plain": [
       "   PassengerId  Survived  Pclass  \\\n",
       "0            1         0       3   \n",
       "1            2         1       1   \n",
       "2            3         1       3   \n",
       "3            4         1       1   \n",
       "4            5         0       3   \n",
       "\n",
       "                                                Name     Sex   Age  SibSp  \\\n",
       "0                            Braund, Mr. Owen Harris    male  22.0      1   \n",
       "1  Cumings, Mrs. John Bradley (Florence Briggs Th...  female  38.0      1   \n",
       "2                             Heikkinen, Miss. Laina  female  26.0      0   \n",
       "3       Futrelle, Mrs. Jacques Heath (Lily May Peel)  female  35.0      1   \n",
       "4                           Allen, Mr. William Henry    male  35.0      0   \n",
       "\n",
       "   Parch            Ticket     Fare Cabin Embarked  \n",
       "0      0         A/5 21171   7.2500   NaN        S  \n",
       "1      0          PC 17599  71.2833   C85        C  \n",
       "2      0  STON/O2. 3101282   7.9250   NaN        S  \n",
       "3      0            113803  53.1000  C123        S  \n",
       "4      0            373450   8.0500   NaN        S  "
      ]
     },
     "execution_count": 3,
     "metadata": {},
     "output_type": "execute_result"
    }
   ],
   "source": [
    "df.head()\n",
    "\n",
    "# recall - survived = 1, dead = 0\n"
   ]
  },
  {
   "cell_type": "code",
   "execution_count": 4,
   "id": "e6f13b2d",
   "metadata": {
    "execution": {
     "iopub.execute_input": "2022-10-08T01:18:47.415601Z",
     "iopub.status.busy": "2022-10-08T01:18:47.414761Z",
     "iopub.status.idle": "2022-10-08T01:18:47.422398Z",
     "shell.execute_reply": "2022-10-08T01:18:47.421335Z"
    },
    "papermill": {
     "duration": 0.02159,
     "end_time": "2022-10-08T01:18:47.424908",
     "exception": false,
     "start_time": "2022-10-08T01:18:47.403318",
     "status": "completed"
    },
    "tags": []
   },
   "outputs": [
    {
     "data": {
      "text/plain": [
       "Index(['PassengerId', 'Survived', 'Pclass', 'Name', 'Sex', 'Age', 'SibSp',\n",
       "       'Parch', 'Ticket', 'Fare', 'Cabin', 'Embarked'],\n",
       "      dtype='object')"
      ]
     },
     "execution_count": 4,
     "metadata": {},
     "output_type": "execute_result"
    }
   ],
   "source": [
    "df.columns"
   ]
  },
  {
   "cell_type": "code",
   "execution_count": 5,
   "id": "4f3ea25f",
   "metadata": {
    "execution": {
     "iopub.execute_input": "2022-10-08T01:18:47.447074Z",
     "iopub.status.busy": "2022-10-08T01:18:47.445794Z",
     "iopub.status.idle": "2022-10-08T01:18:47.469538Z",
     "shell.execute_reply": "2022-10-08T01:18:47.468209Z"
    },
    "papermill": {
     "duration": 0.038134,
     "end_time": "2022-10-08T01:18:47.472626",
     "exception": false,
     "start_time": "2022-10-08T01:18:47.434492",
     "status": "completed"
    },
    "tags": []
   },
   "outputs": [
    {
     "data": {
      "text/plain": [
       "0    0\n",
       "1    1\n",
       "2    1\n",
       "3    1\n",
       "4    0\n",
       "Name: Survived, dtype: int64"
      ]
     },
     "execution_count": 5,
     "metadata": {},
     "output_type": "execute_result"
    }
   ],
   "source": [
    "X = df.drop(\"Survived\", axis=1)\n",
    "Y = df[\"Survived\"]\n",
    "\n",
    "from sklearn.model_selection import train_test_split\n",
    "X_train, X_valid, Y_train, Y_valid = train_test_split(X, Y,test_size = .3, random_state=0)\n",
    "\n",
    "Y.head()"
   ]
  },
  {
   "cell_type": "markdown",
   "id": "997504d2",
   "metadata": {
    "papermill": {
     "duration": 0.009063,
     "end_time": "2022-10-08T01:18:47.491568",
     "exception": false,
     "start_time": "2022-10-08T01:18:47.482505",
     "status": "completed"
    },
    "tags": []
   },
   "source": [
    "# Data Overview"
   ]
  },
  {
   "cell_type": "markdown",
   "id": "cc1fc0cd",
   "metadata": {
    "papermill": {
     "duration": 0.009022,
     "end_time": "2022-10-08T01:18:47.510174",
     "exception": false,
     "start_time": "2022-10-08T01:18:47.501152",
     "status": "completed"
    },
    "tags": []
   },
   "source": [
    "####  Variable Overview\n",
    "* Categorical:\n",
    "    *     Nominal:\n",
    "            - Cabin \n",
    "            - Embarked: C = Cherbourg, Q = Queenstown, S = Southampton\n",
    "    *     Dichotomous\n",
    "            - Sex: Male, Female\n",
    "    *     Ordinal\n",
    "            - PClass: 1 = Upper, 2 = Middle, 3 = Lower\n",
    "\n",
    "* Discrete\n",
    "    - Passenger ID(Unique identifing # for each passenger)\n",
    "    - SibSp\n",
    "    - Parch\n",
    "    - Survived (Our outcome or dependent variable)\n",
    "* Continous\n",
    "    - Age\n",
    "    - Fare   \n",
    "* Text / ID Variables\n",
    "    - Ticket Num\n",
    "    - Passenger Name"
   ]
  },
  {
   "cell_type": "code",
   "execution_count": 6,
   "id": "dcbdf6f9",
   "metadata": {
    "execution": {
     "iopub.execute_input": "2022-10-08T01:18:47.533110Z",
     "iopub.status.busy": "2022-10-08T01:18:47.532341Z",
     "iopub.status.idle": "2022-10-08T01:18:47.550234Z",
     "shell.execute_reply": "2022-10-08T01:18:47.548870Z"
    },
    "papermill": {
     "duration": 0.031852,
     "end_time": "2022-10-08T01:18:47.552891",
     "exception": false,
     "start_time": "2022-10-08T01:18:47.521039",
     "status": "completed"
    },
    "tags": []
   },
   "outputs": [
    {
     "data": {
      "text/html": [
       "<div>\n",
       "<style scoped>\n",
       "    .dataframe tbody tr th:only-of-type {\n",
       "        vertical-align: middle;\n",
       "    }\n",
       "\n",
       "    .dataframe tbody tr th {\n",
       "        vertical-align: top;\n",
       "    }\n",
       "\n",
       "    .dataframe thead th {\n",
       "        text-align: right;\n",
       "    }\n",
       "</style>\n",
       "<table border=\"1\" class=\"dataframe\">\n",
       "  <thead>\n",
       "    <tr style=\"text-align: right;\">\n",
       "      <th></th>\n",
       "      <th>PassengerId</th>\n",
       "      <th>Pclass</th>\n",
       "      <th>Name</th>\n",
       "      <th>Sex</th>\n",
       "      <th>Age</th>\n",
       "      <th>SibSp</th>\n",
       "      <th>Parch</th>\n",
       "      <th>Ticket</th>\n",
       "      <th>Fare</th>\n",
       "      <th>Cabin</th>\n",
       "      <th>Embarked</th>\n",
       "    </tr>\n",
       "  </thead>\n",
       "  <tbody>\n",
       "    <tr>\n",
       "      <th>857</th>\n",
       "      <td>858</td>\n",
       "      <td>1</td>\n",
       "      <td>Daly, Mr. Peter Denis</td>\n",
       "      <td>male</td>\n",
       "      <td>51.0</td>\n",
       "      <td>0</td>\n",
       "      <td>0</td>\n",
       "      <td>113055</td>\n",
       "      <td>26.5500</td>\n",
       "      <td>E17</td>\n",
       "      <td>S</td>\n",
       "    </tr>\n",
       "    <tr>\n",
       "      <th>52</th>\n",
       "      <td>53</td>\n",
       "      <td>1</td>\n",
       "      <td>Harper, Mrs. Henry Sleeper (Myna Haxtun)</td>\n",
       "      <td>female</td>\n",
       "      <td>49.0</td>\n",
       "      <td>1</td>\n",
       "      <td>0</td>\n",
       "      <td>PC 17572</td>\n",
       "      <td>76.7292</td>\n",
       "      <td>D33</td>\n",
       "      <td>C</td>\n",
       "    </tr>\n",
       "    <tr>\n",
       "      <th>386</th>\n",
       "      <td>387</td>\n",
       "      <td>3</td>\n",
       "      <td>Goodwin, Master. Sidney Leonard</td>\n",
       "      <td>male</td>\n",
       "      <td>1.0</td>\n",
       "      <td>5</td>\n",
       "      <td>2</td>\n",
       "      <td>CA 2144</td>\n",
       "      <td>46.9000</td>\n",
       "      <td>NaN</td>\n",
       "      <td>S</td>\n",
       "    </tr>\n",
       "    <tr>\n",
       "      <th>124</th>\n",
       "      <td>125</td>\n",
       "      <td>1</td>\n",
       "      <td>White, Mr. Percival Wayland</td>\n",
       "      <td>male</td>\n",
       "      <td>54.0</td>\n",
       "      <td>0</td>\n",
       "      <td>1</td>\n",
       "      <td>35281</td>\n",
       "      <td>77.2875</td>\n",
       "      <td>D26</td>\n",
       "      <td>S</td>\n",
       "    </tr>\n",
       "    <tr>\n",
       "      <th>578</th>\n",
       "      <td>579</td>\n",
       "      <td>3</td>\n",
       "      <td>Caram, Mrs. Joseph (Maria Elias)</td>\n",
       "      <td>female</td>\n",
       "      <td>NaN</td>\n",
       "      <td>1</td>\n",
       "      <td>0</td>\n",
       "      <td>2689</td>\n",
       "      <td>14.4583</td>\n",
       "      <td>NaN</td>\n",
       "      <td>C</td>\n",
       "    </tr>\n",
       "  </tbody>\n",
       "</table>\n",
       "</div>"
      ],
      "text/plain": [
       "     PassengerId  Pclass                                      Name     Sex  \\\n",
       "857          858       1                    Daly, Mr. Peter Denis     male   \n",
       "52            53       1  Harper, Mrs. Henry Sleeper (Myna Haxtun)  female   \n",
       "386          387       3           Goodwin, Master. Sidney Leonard    male   \n",
       "124          125       1               White, Mr. Percival Wayland    male   \n",
       "578          579       3          Caram, Mrs. Joseph (Maria Elias)  female   \n",
       "\n",
       "      Age  SibSp  Parch    Ticket     Fare Cabin Embarked  \n",
       "857  51.0      0      0    113055  26.5500   E17        S  \n",
       "52   49.0      1      0  PC 17572  76.7292   D33        C  \n",
       "386   1.0      5      2   CA 2144  46.9000   NaN        S  \n",
       "124  54.0      0      1     35281  77.2875   D26        S  \n",
       "578   NaN      1      0      2689  14.4583   NaN        C  "
      ]
     },
     "execution_count": 6,
     "metadata": {},
     "output_type": "execute_result"
    }
   ],
   "source": [
    "X_train.head()"
   ]
  },
  {
   "cell_type": "markdown",
   "id": "44968b2c",
   "metadata": {
    "papermill": {
     "duration": 0.009259,
     "end_time": "2022-10-08T01:18:47.572023",
     "exception": false,
     "start_time": "2022-10-08T01:18:47.562764",
     "status": "completed"
    },
    "tags": []
   },
   "source": [
    "#### Survival by Passenger Sex"
   ]
  },
  {
   "cell_type": "code",
   "execution_count": 7,
   "id": "96ae2394",
   "metadata": {
    "execution": {
     "iopub.execute_input": "2022-10-08T01:18:47.594013Z",
     "iopub.status.busy": "2022-10-08T01:18:47.593254Z",
     "iopub.status.idle": "2022-10-08T01:18:47.981161Z",
     "shell.execute_reply": "2022-10-08T01:18:47.979700Z"
    },
    "papermill": {
     "duration": 0.402306,
     "end_time": "2022-10-08T01:18:47.984055",
     "exception": false,
     "start_time": "2022-10-08T01:18:47.581749",
     "status": "completed"
    },
    "tags": []
   },
   "outputs": [
    {
     "data": {
      "image/png": "[encoded data removed]",
      "text/plain": [
       "<Figure size 1080x576 with 1 Axes>"
      ]
     },
     "metadata": {},
     "output_type": "display_data"
    }
   ],
   "source": [
    "palette = {'male':\"blue\", 'female':\"Pink\"}\n",
    "sns.set(style=\"darkgrid\")\n",
    "plt.subplots(figsize = (15,8))\n",
    "ax = sns.barplot(x = \"Sex\", \n",
    "                 y = \"Survived\", \n",
    "                 data=df, \n",
    "                 palette = palette,\n",
    "                 linewidth=3,\n",
    "                 order = ['male', 'female'],\n",
    "                 capsize = .05,\n",
    "\n",
    "                )\n",
    "\n",
    "plt.title(\"Survival by Passenger Sex\", fontsize = 24,loc = 'center', pad = 20)\n",
    "plt.ylabel(\"% of passengers survived\", fontsize = 18, )\n",
    "plt.xlabel(\"Sex\",fontsize = 15);\n",
    "\n"
   ]
  },
  {
   "cell_type": "markdown",
   "id": "9c34f1b2",
   "metadata": {
    "papermill": {
     "duration": 0.010609,
     "end_time": "2022-10-08T01:18:48.005742",
     "exception": false,
     "start_time": "2022-10-08T01:18:47.995133",
     "status": "completed"
    },
    "tags": []
   },
   "source": [
    "#### More data visualization to come "
   ]
  },
  {
   "cell_type": "markdown",
   "id": "38af5407",
   "metadata": {
    "papermill": {
     "duration": 0.010229,
     "end_time": "2022-10-08T01:18:48.026892",
     "exception": false,
     "start_time": "2022-10-08T01:18:48.016663",
     "status": "completed"
    },
    "tags": []
   },
   "source": [
    "## Feature Engineering"
   ]
  },
  {
   "cell_type": "markdown",
   "id": "69d4ea23",
   "metadata": {
    "papermill": {
     "duration": 0.009819,
     "end_time": "2022-10-08T01:18:48.047141",
     "exception": false,
     "start_time": "2022-10-08T01:18:48.037322",
     "status": "completed"
    },
    "tags": []
   },
   "source": [
    "#### Label Encoding the Categorical Data "
   ]
  },
  {
   "cell_type": "code",
   "execution_count": 8,
   "id": "e1a37f6c",
   "metadata": {
    "execution": {
     "iopub.execute_input": "2022-10-08T01:18:48.070196Z",
     "iopub.status.busy": "2022-10-08T01:18:48.069423Z",
     "iopub.status.idle": "2022-10-08T01:18:48.084668Z",
     "shell.execute_reply": "2022-10-08T01:18:48.083365Z"
    },
    "papermill": {
     "duration": 0.030567,
     "end_time": "2022-10-08T01:18:48.087985",
     "exception": false,
     "start_time": "2022-10-08T01:18:48.057418",
     "status": "completed"
    },
    "tags": []
   },
   "outputs": [
    {
     "name": "stdout",
     "output_type": "stream",
     "text": [
      "     PassengerId  Pclass                                          Name  \\\n",
      "0            892       3                              Kelly, Mr. James   \n",
      "1            893       3              Wilkes, Mrs. James (Ellen Needs)   \n",
      "2            894       2                     Myles, Mr. Thomas Francis   \n",
      "3            895       3                              Wirz, Mr. Albert   \n",
      "4            896       3  Hirvonen, Mrs. Alexander (Helga E Lindqvist)   \n",
      "..           ...     ...                                           ...   \n",
      "413         1305       3                            Spector, Mr. Woolf   \n",
      "414         1306       1                  Oliva y Ocana, Dona. Fermina   \n",
      "415         1307       3                  Saether, Mr. Simon Sivertsen   \n",
      "416         1308       3                           Ware, Mr. Frederick   \n",
      "417         1309       3                      Peter, Master. Michael J   \n",
      "\n",
      "        Sex   Age  SibSp  Parch              Ticket      Fare Cabin Embarked  \n",
      "0      male  34.5      0      0              330911    7.8292   NaN        Q  \n",
      "1    female  47.0      1      0              363272    7.0000   NaN        S  \n",
      "2      male  62.0      0      0              240276    9.6875   NaN        Q  \n",
      "3      male  27.0      0      0              315154    8.6625   NaN        S  \n",
      "4    female  22.0      1      1             3101298   12.2875   NaN        S  \n",
      "..      ...   ...    ...    ...                 ...       ...   ...      ...  \n",
      "413    male   NaN      0      0           A.5. 3236    8.0500   NaN        S  \n",
      "414  female  39.0      0      0            PC 17758  108.9000  C105        C  \n",
      "415    male  38.5      0      0  SOTON/O.Q. 3101262    7.2500   NaN        S  \n",
      "416    male   NaN      0      0              359309    8.0500   NaN        S  \n",
      "417    male   NaN      1      1                2668   22.3583   NaN        C  \n",
      "\n",
      "[418 rows x 11 columns]\n"
     ]
    }
   ],
   "source": [
    "print(test_df)"
   ]
  },
  {
   "cell_type": "code",
   "execution_count": 9,
   "id": "fac30757",
   "metadata": {
    "execution": {
     "iopub.execute_input": "2022-10-08T01:18:48.111683Z",
     "iopub.status.busy": "2022-10-08T01:18:48.110874Z",
     "iopub.status.idle": "2022-10-08T01:18:48.142351Z",
     "shell.execute_reply": "2022-10-08T01:18:48.140711Z"
    },
    "papermill": {
     "duration": 0.047078,
     "end_time": "2022-10-08T01:18:48.145553",
     "exception": false,
     "start_time": "2022-10-08T01:18:48.098475",
     "status": "completed"
    },
    "tags": []
   },
   "outputs": [
    {
     "name": "stdout",
     "output_type": "stream",
     "text": [
      "0      0\n",
      "1      0\n",
      "2      0\n",
      "3      1\n",
      "4      1\n",
      "      ..\n",
      "263    0\n",
      "264    0\n",
      "265    0\n",
      "266    1\n",
      "267    0\n",
      "Name: Survived, Length: 268, dtype: int64\n"
     ]
    }
   ],
   "source": [
    "categorical_feats = ['Sex', 'Cabin', 'Embarked', 'Pclass']\n",
    "id_feats = ['Ticket', 'Name']\n",
    "non_numeric_feats = categorical_feats + id_feats\n",
    "\n",
    "all_X_data = pd.concat([X, test_df], axis=0)\n",
    "\n",
    "\n",
    "for category in categorical_feats:\n",
    "    encoder = LabelEncoder()\n",
    "    encoder.fit(all_X_data[category])\n",
    "    X_train[str('Enc ' + category)] = encoder.transform(X_train[category])\n",
    "    X_valid[str('Enc ' + category)] = encoder.transform(X_valid[category])\n",
    "    test_df[str('Enc ' + category)] = encoder.transform(test_df[category])\n",
    "\n",
    "\n",
    "X_train_numeric = X_train.drop(columns = non_numeric_feats).fillna(value = 0)\n",
    "X_valid_numeric = X_valid.drop(columns = non_numeric_feats).fillna(value = 0)\n",
    "test_ids = test_df['PassengerId']\n",
    "test_df = test_df.drop(columns = non_numeric_feats).fillna(value = 0)\n",
    "\n",
    "Y_train = Y_train.reset_index(drop = True)\n",
    "Y_valid = Y_valid.reset_index(drop = True)\n",
    "test_df = test_df.reset_index(drop = True)\n",
    "\n",
    "print(Y_valid)"
   ]
  },
  {
   "cell_type": "code",
   "execution_count": 10,
   "id": "b81a4e48",
   "metadata": {
    "execution": {
     "iopub.execute_input": "2022-10-08T01:18:48.169194Z",
     "iopub.status.busy": "2022-10-08T01:18:48.168664Z",
     "iopub.status.idle": "2022-10-08T01:18:48.182866Z",
     "shell.execute_reply": "2022-10-08T01:18:48.181426Z"
    },
    "papermill": {
     "duration": 0.030086,
     "end_time": "2022-10-08T01:18:48.186538",
     "exception": false,
     "start_time": "2022-10-08T01:18:48.156452",
     "status": "completed"
    },
    "tags": []
   },
   "outputs": [
    {
     "name": "stdout",
     "output_type": "stream",
     "text": [
      "     PassengerId   Age  SibSp  Parch      Fare  Enc Sex  Enc Cabin  \\\n",
      "0            892  34.5      0      0    7.8292        1        186   \n",
      "1            893  47.0      1      0    7.0000        0        186   \n",
      "2            894  62.0      0      0    9.6875        1        186   \n",
      "3            895  27.0      0      0    8.6625        1        186   \n",
      "4            896  22.0      1      1   12.2875        0        186   \n",
      "..           ...   ...    ...    ...       ...      ...        ...   \n",
      "413         1305   0.0      0      0    8.0500        1        186   \n",
      "414         1306  39.0      0      0  108.9000        0         64   \n",
      "415         1307  38.5      0      0    7.2500        1        186   \n",
      "416         1308   0.0      0      0    8.0500        1        186   \n",
      "417         1309   0.0      1      1   22.3583        1        186   \n",
      "\n",
      "     Enc Embarked  Enc Pclass  \n",
      "0               1           2  \n",
      "1               2           2  \n",
      "2               1           1  \n",
      "3               2           2  \n",
      "4               2           2  \n",
      "..            ...         ...  \n",
      "413             2           2  \n",
      "414             0           0  \n",
      "415             2           2  \n",
      "416             2           2  \n",
      "417             0           2  \n",
      "\n",
      "[418 rows x 9 columns]\n"
     ]
    }
   ],
   "source": [
    "print(test_df)"
   ]
  },
  {
   "cell_type": "code",
   "execution_count": 11,
   "id": "767399f7",
   "metadata": {
    "execution": {
     "iopub.execute_input": "2022-10-08T01:18:48.211405Z",
     "iopub.status.busy": "2022-10-08T01:18:48.210912Z",
     "iopub.status.idle": "2022-10-08T01:18:48.231472Z",
     "shell.execute_reply": "2022-10-08T01:18:48.229994Z"
    },
    "papermill": {
     "duration": 0.036672,
     "end_time": "2022-10-08T01:18:48.234723",
     "exception": false,
     "start_time": "2022-10-08T01:18:48.198051",
     "status": "completed"
    },
    "tags": []
   },
   "outputs": [],
   "source": [
    "### Feature Scaling\n",
    "from sklearn.preprocessing import StandardScaler\n",
    "st_scale = StandardScaler()\n",
    "\n",
    "X_train_numeric = st_scale.fit_transform(X_train_numeric)\n",
    "X_valid_numeric = st_scale.transform(X_valid_numeric)\n",
    "test_df = st_scale.fit_transform(test_df)"
   ]
  },
  {
   "cell_type": "code",
   "execution_count": 12,
   "id": "35e1122b",
   "metadata": {
    "execution": {
     "iopub.execute_input": "2022-10-08T01:18:48.259421Z",
     "iopub.status.busy": "2022-10-08T01:18:48.258021Z",
     "iopub.status.idle": "2022-10-08T01:18:48.266178Z",
     "shell.execute_reply": "2022-10-08T01:18:48.264873Z"
    },
    "papermill": {
     "duration": 0.022934,
     "end_time": "2022-10-08T01:18:48.268563",
     "exception": false,
     "start_time": "2022-10-08T01:18:48.245629",
     "status": "completed"
    },
    "tags": []
   },
   "outputs": [
    {
     "name": "stdout",
     "output_type": "stream",
     "text": [
      "[[-1.72791209  0.59480137 -0.49947002 ...  0.44752374 -0.47091535\n",
      "   0.87348191]\n",
      " [-1.71962474  1.30589556  0.61699237 ...  0.44752374  0.70076689\n",
      "   0.87348191]\n",
      " [-1.71133739  2.15920859 -0.49947002 ...  0.44752374 -0.47091535\n",
      "  -0.31581919]\n",
      " ...\n",
      " [ 1.71133739  0.82235151 -0.49947002 ...  0.44752374  0.70076689\n",
      "   0.87348191]\n",
      " [ 1.71962474 -1.3678186  -0.49947002 ...  0.44752374  0.70076689\n",
      "   0.87348191]\n",
      " [ 1.72791209 -1.3678186   0.61699237 ...  0.44752374 -1.64259759\n",
      "   0.87348191]]\n"
     ]
    }
   ],
   "source": [
    "print(test_df)"
   ]
  },
  {
   "cell_type": "markdown",
   "id": "d546db5d",
   "metadata": {
    "papermill": {
     "duration": 0.01098,
     "end_time": "2022-10-08T01:18:48.290495",
     "exception": false,
     "start_time": "2022-10-08T01:18:48.279515",
     "status": "completed"
    },
    "tags": []
   },
   "source": [
    "## Model Building"
   ]
  },
  {
   "cell_type": "markdown",
   "id": "48a860be",
   "metadata": {
    "papermill": {
     "duration": 0.010175,
     "end_time": "2022-10-08T01:18:48.311714",
     "exception": false,
     "start_time": "2022-10-08T01:18:48.301539",
     "status": "completed"
    },
    "tags": []
   },
   "source": [
    "### Comparing Simple Classification Models"
   ]
  },
  {
   "cell_type": "code",
   "execution_count": 13,
   "id": "e5eef469",
   "metadata": {
    "execution": {
     "iopub.execute_input": "2022-10-08T01:18:48.335620Z",
     "iopub.status.busy": "2022-10-08T01:18:48.335168Z",
     "iopub.status.idle": "2022-10-08T01:18:48.342540Z",
     "shell.execute_reply": "2022-10-08T01:18:48.341178Z"
    },
    "papermill": {
     "duration": 0.022949,
     "end_time": "2022-10-08T01:18:48.345371",
     "exception": false,
     "start_time": "2022-10-08T01:18:48.322422",
     "status": "completed"
    },
    "tags": []
   },
   "outputs": [],
   "source": [
    "models_dict = {\n",
    "    \"KNeighbors\": KNeighborsClassifier(), \n",
    "    \"LogisticRegression\": LogisticRegression(max_iter=1000), \n",
    "    \"DecisionTree\": DecisionTreeClassifier(),\n",
    "    \"RandomForest\": RandomForestClassifier(),\n",
    "    \"SupportVectorClassifier\": SVC(),\n",
    "    \"MLPClassifier\": MLPClassifier(max_iter=1000),\n",
    "    \"XGBoost\": XGBClassifier(),\n",
    "    \"LightGBM\": LGBMClassifier(),\n",
    "    \"GaussianNB\": GaussianNB(),\n",
    "    \n",
    "}"
   ]
  },
  {
   "cell_type": "code",
   "execution_count": 14,
   "id": "926734ad",
   "metadata": {
    "execution": {
     "iopub.execute_input": "2022-10-08T01:18:48.370125Z",
     "iopub.status.busy": "2022-10-08T01:18:48.369165Z",
     "iopub.status.idle": "2022-10-08T01:18:48.378214Z",
     "shell.execute_reply": "2022-10-08T01:18:48.377165Z"
    },
    "papermill": {
     "duration": 0.024616,
     "end_time": "2022-10-08T01:18:48.381128",
     "exception": false,
     "start_time": "2022-10-08T01:18:48.356512",
     "status": "completed"
    },
    "tags": []
   },
   "outputs": [],
   "source": [
    "#### classification model function using models above\n",
    "from sklearn.metrics import classification_report, confusion_matrix, accuracy_score\n",
    "\n",
    "\n",
    "def class_model(model_ticker, model_init):\n",
    "    model = model_init\n",
    "    model.fit(X_train_numeric, Y_train)\n",
    "    preds = model.predict(X_valid_numeric)\n",
    "    print (\"Model Metrics for \"  + model_ticker )\n",
    "    print(\"Confusion Matrix\")\n",
    "    print(pd.DataFrame(confusion_matrix(Y_valid,preds),columns=[\"Predicted Not-Survived\", \"Predicted Survived\"],index=[\"Not-Survived\",\"Survived\"] ))\n",
    "    acc_score = accuracy_score(Y_valid, preds)\n",
    "    print(\"Accuracy Score: \", round(acc_score, ndigits = 3))\n",
    "    print(\"Classification Report\")\n",
    "    print(classification_report(Y_valid, preds)+ \" \\n\")\n",
    "    \n",
    "    \n",
    "    \n",
    "    \n",
    "    \n"
   ]
  },
  {
   "cell_type": "code",
   "execution_count": 15,
   "id": "78c0d139",
   "metadata": {
    "execution": {
     "iopub.execute_input": "2022-10-08T01:18:48.406127Z",
     "iopub.status.busy": "2022-10-08T01:18:48.405174Z",
     "iopub.status.idle": "2022-10-08T01:18:53.475004Z",
     "shell.execute_reply": "2022-10-08T01:18:53.473653Z"
    },
    "papermill": {
     "duration": 5.085805,
     "end_time": "2022-10-08T01:18:53.477778",
     "exception": false,
     "start_time": "2022-10-08T01:18:48.391973",
     "status": "completed"
    },
    "tags": []
   },
   "outputs": [
    {
     "name": "stdout",
     "output_type": "stream",
     "text": [
      "Model Metrics for Log Reg\n",
      "Confusion Matrix\n",
      "              Predicted Not-Survived  Predicted Survived\n",
      "Not-Survived                     141                  27\n",
      "Survived                          26                  74\n",
      "Accuracy Score:  0.802\n",
      "Classification Report\n",
      "              precision    recall  f1-score   support\n",
      "\n",
      "           0       0.84      0.84      0.84       168\n",
      "           1       0.73      0.74      0.74       100\n",
      "\n",
      "    accuracy                           0.80       268\n",
      "   macro avg       0.79      0.79      0.79       268\n",
      "weighted avg       0.80      0.80      0.80       268\n",
      " \n",
      "\n",
      "Model Metrics for KNeighbors\n",
      "Confusion Matrix\n",
      "              Predicted Not-Survived  Predicted Survived\n",
      "Not-Survived                     143                  25\n",
      "Survived                          26                  74\n",
      "Accuracy Score:  0.81\n",
      "Classification Report\n",
      "              precision    recall  f1-score   support\n",
      "\n",
      "           0       0.85      0.85      0.85       168\n",
      "           1       0.75      0.74      0.74       100\n",
      "\n",
      "    accuracy                           0.81       268\n",
      "   macro avg       0.80      0.80      0.80       268\n",
      "weighted avg       0.81      0.81      0.81       268\n",
      " \n",
      "\n",
      "Model Metrics for LogisticRegression\n",
      "Confusion Matrix\n",
      "              Predicted Not-Survived  Predicted Survived\n",
      "Not-Survived                     141                  27\n",
      "Survived                          26                  74\n",
      "Accuracy Score:  0.802\n",
      "Classification Report\n",
      "              precision    recall  f1-score   support\n",
      "\n",
      "           0       0.84      0.84      0.84       168\n",
      "           1       0.73      0.74      0.74       100\n",
      "\n",
      "    accuracy                           0.80       268\n",
      "   macro avg       0.79      0.79      0.79       268\n",
      "weighted avg       0.80      0.80      0.80       268\n",
      " \n",
      "\n",
      "Model Metrics for DecisionTree\n",
      "Confusion Matrix\n",
      "              Predicted Not-Survived  Predicted Survived\n",
      "Not-Survived                     136                  32\n",
      "Survived                          28                  72\n",
      "Accuracy Score:  0.776\n",
      "Classification Report\n",
      "              precision    recall  f1-score   support\n",
      "\n",
      "           0       0.83      0.81      0.82       168\n",
      "           1       0.69      0.72      0.71       100\n",
      "\n",
      "    accuracy                           0.78       268\n",
      "   macro avg       0.76      0.76      0.76       268\n",
      "weighted avg       0.78      0.78      0.78       268\n",
      " \n",
      "\n",
      "Model Metrics for RandomForest\n",
      "Confusion Matrix\n",
      "              Predicted Not-Survived  Predicted Survived\n",
      "Not-Survived                     149                  19\n",
      "Survived                          27                  73\n",
      "Accuracy Score:  0.828\n",
      "Classification Report\n",
      "              precision    recall  f1-score   support\n",
      "\n",
      "           0       0.85      0.89      0.87       168\n",
      "           1       0.79      0.73      0.76       100\n",
      "\n",
      "    accuracy                           0.83       268\n",
      "   macro avg       0.82      0.81      0.81       268\n",
      "weighted avg       0.83      0.83      0.83       268\n",
      " \n",
      "\n",
      "Model Metrics for SupportVectorClassifier\n",
      "Confusion Matrix\n",
      "              Predicted Not-Survived  Predicted Survived\n",
      "Not-Survived                     147                  21\n",
      "Survived                          34                  66\n",
      "Accuracy Score:  0.795\n",
      "Classification Report\n",
      "              precision    recall  f1-score   support\n",
      "\n",
      "           0       0.81      0.88      0.84       168\n",
      "           1       0.76      0.66      0.71       100\n",
      "\n",
      "    accuracy                           0.79       268\n",
      "   macro avg       0.79      0.77      0.77       268\n",
      "weighted avg       0.79      0.79      0.79       268\n",
      " \n",
      "\n",
      "Model Metrics for MLPClassifier\n",
      "Confusion Matrix\n",
      "              Predicted Not-Survived  Predicted Survived\n",
      "Not-Survived                     153                  15\n",
      "Survived                          32                  68\n",
      "Accuracy Score:  0.825\n",
      "Classification Report\n",
      "              precision    recall  f1-score   support\n",
      "\n",
      "           0       0.83      0.91      0.87       168\n",
      "           1       0.82      0.68      0.74       100\n",
      "\n",
      "    accuracy                           0.82       268\n",
      "   macro avg       0.82      0.80      0.81       268\n",
      "weighted avg       0.82      0.82      0.82       268\n",
      " \n",
      "\n",
      "Model Metrics for XGBoost\n",
      "Confusion Matrix\n",
      "              Predicted Not-Survived  Predicted Survived\n",
      "Not-Survived                     147                  21\n",
      "Survived                          30                  70\n",
      "Accuracy Score:  0.81\n",
      "Classification Report\n",
      "              precision    recall  f1-score   support\n",
      "\n",
      "           0       0.83      0.88      0.85       168\n",
      "           1       0.77      0.70      0.73       100\n",
      "\n",
      "    accuracy                           0.81       268\n",
      "   macro avg       0.80      0.79      0.79       268\n",
      "weighted avg       0.81      0.81      0.81       268\n",
      " \n",
      "\n",
      "Model Metrics for LightGBM\n",
      "Confusion Matrix\n",
      "              Predicted Not-Survived  Predicted Survived\n",
      "Not-Survived                     152                  16\n",
      "Survived                          30                  70\n",
      "Accuracy Score:  0.828\n",
      "Classification Report\n",
      "              precision    recall  f1-score   support\n",
      "\n",
      "           0       0.84      0.90      0.87       168\n",
      "           1       0.81      0.70      0.75       100\n",
      "\n",
      "    accuracy                           0.83       268\n",
      "   macro avg       0.82      0.80      0.81       268\n",
      "weighted avg       0.83      0.83      0.83       268\n",
      " \n",
      "\n",
      "Model Metrics for GaussianNB\n",
      "Confusion Matrix\n",
      "              Predicted Not-Survived  Predicted Survived\n",
      "Not-Survived                     132                  36\n",
      "Survived                          21                  79\n",
      "Accuracy Score:  0.787\n",
      "Classification Report\n",
      "              precision    recall  f1-score   support\n",
      "\n",
      "           0       0.86      0.79      0.82       168\n",
      "           1       0.69      0.79      0.73       100\n",
      "\n",
      "    accuracy                           0.79       268\n",
      "   macro avg       0.77      0.79      0.78       268\n",
      "weighted avg       0.80      0.79      0.79       268\n",
      " \n",
      "\n"
     ]
    }
   ],
   "source": [
    "class_model(\"Log Reg\", LogisticRegression(max_iter=1000))\n",
    "for model_ticker, model_init in models_dict.items():\n",
    "    class_model(model_ticker, model_init)"
   ]
  },
  {
   "cell_type": "markdown",
   "id": "0e383ee7",
   "metadata": {
    "papermill": {
     "duration": 0.010868,
     "end_time": "2022-10-08T01:18:53.500117",
     "exception": false,
     "start_time": "2022-10-08T01:18:53.489249",
     "status": "completed"
    },
    "tags": []
   },
   "source": [
    "### Bagging Classifier "
   ]
  },
  {
   "cell_type": "code",
   "execution_count": 16,
   "id": "4eeededb",
   "metadata": {
    "execution": {
     "iopub.execute_input": "2022-10-08T01:18:53.527788Z",
     "iopub.status.busy": "2022-10-08T01:18:53.527346Z",
     "iopub.status.idle": "2022-10-08T01:19:08.278200Z",
     "shell.execute_reply": "2022-10-08T01:19:08.276783Z"
    },
    "papermill": {
     "duration": 14.766348,
     "end_time": "2022-10-08T01:19:08.281016",
     "exception": false,
     "start_time": "2022-10-08T01:18:53.514668",
     "status": "completed"
    },
    "tags": []
   },
   "outputs": [
    {
     "data": {
      "text/plain": [
       "GridSearchCV(cv=StratifiedShuffleSplit(n_splits=10, random_state=15, test_size=0.3,\n",
       "            train_size=None),\n",
       "             estimator=BaggingClassifier(), n_jobs=-1,\n",
       "             param_grid={'n_estimators': [10, 30, 50, 70, 80, 150, 160, 170,\n",
       "                                          175, 180, 185]})"
      ]
     },
     "execution_count": 16,
     "metadata": {},
     "output_type": "execute_result"
    }
   ],
   "source": [
    "### Bagging approach w. grid search \n",
    "\n",
    "from sklearn.ensemble import BaggingClassifier\n",
    "n_estimators = [10,30,50,70,80,150,160, 170,175,180,185];\n",
    "cv = StratifiedShuffleSplit(n_splits=10, test_size=.30, random_state=15)\n",
    "\n",
    "parameters = {'n_estimators':n_estimators,}\n",
    "grid = GridSearchCV(BaggingClassifier(base_estimator= None, bootstrap_features=False), param_grid=parameters, cv=cv,n_jobs = -1)\n",
    "grid.fit(X_train_numeric,Y_train)"
   ]
  },
  {
   "cell_type": "code",
   "execution_count": 17,
   "id": "16337dba",
   "metadata": {
    "execution": {
     "iopub.execute_input": "2022-10-08T01:19:08.307192Z",
     "iopub.status.busy": "2022-10-08T01:19:08.306687Z",
     "iopub.status.idle": "2022-10-08T01:19:08.356364Z",
     "shell.execute_reply": "2022-10-08T01:19:08.354869Z"
    },
    "papermill": {
     "duration": 0.066506,
     "end_time": "2022-10-08T01:19:08.359310",
     "exception": false,
     "start_time": "2022-10-08T01:19:08.292804",
     "status": "completed"
    },
    "tags": []
   },
   "outputs": [
    {
     "name": "stdout",
     "output_type": "stream",
     "text": [
      "0.7914438502673796\n",
      "{'n_estimators': 160}\n",
      "BaggingClassifier(n_estimators=160)\n"
     ]
    },
    {
     "data": {
      "text/plain": [
       "1.0"
      ]
     },
     "execution_count": 17,
     "metadata": {},
     "output_type": "execute_result"
    }
   ],
   "source": [
    "print (grid.best_score_)\n",
    "print (grid.best_params_)\n",
    "print (grid.best_estimator_)\n",
    "bagging_grid = grid.best_estimator_\n",
    "bagging_grid.score(X_train_numeric,Y_train)"
   ]
  },
  {
   "cell_type": "markdown",
   "id": "ab53190a",
   "metadata": {
    "papermill": {
     "duration": 0.011375,
     "end_time": "2022-10-08T01:19:08.382484",
     "exception": false,
     "start_time": "2022-10-08T01:19:08.371109",
     "status": "completed"
    },
    "tags": []
   },
   "source": [
    "### AdaBoost Classifier"
   ]
  },
  {
   "cell_type": "code",
   "execution_count": 18,
   "id": "ad757fa0",
   "metadata": {
    "execution": {
     "iopub.execute_input": "2022-10-08T01:19:08.409123Z",
     "iopub.status.busy": "2022-10-08T01:19:08.408620Z",
     "iopub.status.idle": "2022-10-08T01:19:53.128103Z",
     "shell.execute_reply": "2022-10-08T01:19:53.126788Z"
    },
    "papermill": {
     "duration": 44.74798,
     "end_time": "2022-10-08T01:19:53.142724",
     "exception": false,
     "start_time": "2022-10-08T01:19:08.394744",
     "status": "completed"
    },
    "tags": []
   },
   "outputs": [
    {
     "data": {
      "text/plain": [
       "GridSearchCV(cv=StratifiedShuffleSplit(n_splits=10, random_state=15, test_size=0.3,\n",
       "            train_size=None),\n",
       "             estimator=AdaBoostClassifier(), n_jobs=-1,\n",
       "             param_grid={'learning_rate': [0.1, 1, 0.01, 0.5],\n",
       "                         'n_estimators': [100, 140, 145, 150, 160, 170, 175,\n",
       "                                          180, 185]})"
      ]
     },
     "execution_count": 18,
     "metadata": {},
     "output_type": "execute_result"
    }
   ],
   "source": [
    "from sklearn.ensemble import AdaBoostClassifier\n",
    "n_estimators = [100,140,145,150,160, 170,175,180,185];\n",
    "cv = StratifiedShuffleSplit(n_splits=10, test_size=.30, random_state=15)\n",
    "learning_r = [0.1,1,0.01,0.5]\n",
    "\n",
    "parameters = {'n_estimators':n_estimators,'learning_rate':learning_r}\n",
    "grid = GridSearchCV(AdaBoostClassifier(base_estimator= None),\n",
    "                                 param_grid=parameters,\n",
    "                                 cv=cv,\n",
    "                                 n_jobs = -1)\n",
    "grid.fit(X_train_numeric,Y_train) "
   ]
  },
  {
   "cell_type": "code",
   "execution_count": 19,
   "id": "649b77f6",
   "metadata": {
    "execution": {
     "iopub.execute_input": "2022-10-08T01:19:53.169633Z",
     "iopub.status.busy": "2022-10-08T01:19:53.167871Z",
     "iopub.status.idle": "2022-10-08T01:19:53.228407Z",
     "shell.execute_reply": "2022-10-08T01:19:53.226957Z"
    },
    "papermill": {
     "duration": 0.076923,
     "end_time": "2022-10-08T01:19:53.231314",
     "exception": false,
     "start_time": "2022-10-08T01:19:53.154391",
     "status": "completed"
    },
    "tags": []
   },
   "outputs": [
    {
     "name": "stdout",
     "output_type": "stream",
     "text": [
      "0.7855614973262032\n",
      "{'learning_rate': 0.01, 'n_estimators': 175}\n",
      "AdaBoostClassifier(learning_rate=0.01, n_estimators=175)\n"
     ]
    },
    {
     "data": {
      "text/plain": [
       "0.7865168539325843"
      ]
     },
     "execution_count": 19,
     "metadata": {},
     "output_type": "execute_result"
    }
   ],
   "source": [
    "print (grid.best_score_)\n",
    "print (grid.best_params_)\n",
    "print (grid.best_estimator_)\n",
    "adaBoost_grid = grid.best_estimator_\n",
    "adaBoost_grid.score(X_train_numeric,Y_train)"
   ]
  },
  {
   "cell_type": "markdown",
   "id": "542a0e78",
   "metadata": {
    "papermill": {
     "duration": 0.012464,
     "end_time": "2022-10-08T01:19:53.256134",
     "exception": false,
     "start_time": "2022-10-08T01:19:53.243670",
     "status": "completed"
    },
    "tags": []
   },
   "source": [
    "### Voting Classifier"
   ]
  },
  {
   "cell_type": "code",
   "execution_count": 20,
   "id": "affa9fa4",
   "metadata": {
    "execution": {
     "iopub.execute_input": "2022-10-08T01:19:53.283358Z",
     "iopub.status.busy": "2022-10-08T01:19:53.282184Z",
     "iopub.status.idle": "2022-10-08T01:19:53.290021Z",
     "shell.execute_reply": "2022-10-08T01:19:53.288823Z"
    },
    "papermill": {
     "duration": 0.02449,
     "end_time": "2022-10-08T01:19:53.292828",
     "exception": false,
     "start_time": "2022-10-08T01:19:53.268338",
     "status": "completed"
    },
    "tags": []
   },
   "outputs": [],
   "source": [
    "from sklearn.ensemble import VotingClassifier\n",
    "\n",
    "## Create a full model dictionary to create list of all models for voting classifier\n",
    "models_dict['Bagging Classifier'] = BaggingClassifier(n_estimators=70)\n",
    "models_dict['AdaBoost Classifier'] = AdaBoostClassifier(learning_rate=0.01, n_estimators=175)\n",
    "estimators = list(models_dict.items())"
   ]
  },
  {
   "cell_type": "code",
   "execution_count": 21,
   "id": "5707f79b",
   "metadata": {
    "execution": {
     "iopub.execute_input": "2022-10-08T01:19:53.321226Z",
     "iopub.status.busy": "2022-10-08T01:19:53.320470Z",
     "iopub.status.idle": "2022-10-08T01:19:53.333968Z",
     "shell.execute_reply": "2022-10-08T01:19:53.332970Z"
    },
    "papermill": {
     "duration": 0.031008,
     "end_time": "2022-10-08T01:19:53.336766",
     "exception": false,
     "start_time": "2022-10-08T01:19:53.305758",
     "status": "completed"
    },
    "tags": []
   },
   "outputs": [
    {
     "name": "stdout",
     "output_type": "stream",
     "text": [
      "[('KNeighbors', KNeighborsClassifier()), ('LogisticRegression', LogisticRegression(max_iter=1000)), ('DecisionTree', DecisionTreeClassifier()), ('RandomForest', RandomForestClassifier()), ('SupportVectorClassifier', SVC()), ('MLPClassifier', MLPClassifier(max_iter=1000)), ('XGBoost', XGBClassifier(base_score=0.5, booster='gbtree', callbacks=None,\n",
      "              colsample_bylevel=1, colsample_bynode=1, colsample_bytree=1,\n",
      "              early_stopping_rounds=None, enable_categorical=False,\n",
      "              eval_metric=None, gamma=0, gpu_id=-1, grow_policy='depthwise',\n",
      "              importance_type=None, interaction_constraints='',\n",
      "              learning_rate=0.300000012, max_bin=256, max_cat_to_onehot=4,\n",
      "              max_delta_step=0, max_depth=6, max_leaves=0, min_child_weight=1,\n",
      "              missing=nan, monotone_constraints='()', n_estimators=100,\n",
      "              n_jobs=0, num_parallel_tree=1, predictor='auto', random_state=0,\n",
      "              reg_alpha=0, reg_lambda=1, ...)), ('LightGBM', LGBMClassifier()), ('GaussianNB', GaussianNB()), ('Bagging Classifier', BaggingClassifier(n_estimators=70)), ('AdaBoost Classifier', AdaBoostClassifier(learning_rate=0.01, n_estimators=175))]\n"
     ]
    }
   ],
   "source": [
    "print(estimators)"
   ]
  },
  {
   "cell_type": "code",
   "execution_count": 22,
   "id": "e463ca6d",
   "metadata": {
    "execution": {
     "iopub.execute_input": "2022-10-08T01:19:53.367066Z",
     "iopub.status.busy": "2022-10-08T01:19:53.365613Z",
     "iopub.status.idle": "2022-10-08T01:20:00.570131Z",
     "shell.execute_reply": "2022-10-08T01:20:00.568074Z"
    },
    "papermill": {
     "duration": 7.224763,
     "end_time": "2022-10-08T01:20:00.574906",
     "exception": false,
     "start_time": "2022-10-08T01:19:53.350143",
     "status": "completed"
    },
    "tags": []
   },
   "outputs": [],
   "source": [
    "voting_classifier = VotingClassifier(estimators=estimators,voting='hard')\n",
    "voting_classifier = voting_classifier.fit(X_train_numeric,Y_train)"
   ]
  },
  {
   "cell_type": "markdown",
   "id": "bea0a22f",
   "metadata": {
    "papermill": {
     "duration": 0.012571,
     "end_time": "2022-10-08T01:20:00.602080",
     "exception": false,
     "start_time": "2022-10-08T01:20:00.589509",
     "status": "completed"
    },
    "tags": []
   },
   "source": [
    "### Final Submission"
   ]
  },
  {
   "cell_type": "code",
   "execution_count": 23,
   "id": "1667fefa",
   "metadata": {
    "execution": {
     "iopub.execute_input": "2022-10-08T01:20:00.635677Z",
     "iopub.status.busy": "2022-10-08T01:20:00.635164Z",
     "iopub.status.idle": "2022-10-08T01:20:10.990760Z",
     "shell.execute_reply": "2022-10-08T01:20:10.989209Z"
    },
    "papermill": {
     "duration": 10.373218,
     "end_time": "2022-10-08T01:20:10.994323",
     "exception": false,
     "start_time": "2022-10-08T01:20:00.621105",
     "status": "completed"
    },
    "tags": []
   },
   "outputs": [],
   "source": [
    "# add voting classifier to all models \n",
    "models_dict['Voting Classifier'] = voting_classifier\n",
    "\n",
    "\n",
    "scores = {}\n",
    "i = 0\n",
    "for model_name, model in models_dict.items():\n",
    "    model.fit(X_train_numeric, Y_train)\n",
    "    preds = model.predict(X_valid_numeric)\n",
    "    acc_score = accuracy_score(preds, Y_valid)\n",
    "    scores[model_name] = acc_score\n",
    "    i = i + 1\n",
    "    "
   ]
  },
  {
   "cell_type": "code",
   "execution_count": 24,
   "id": "c5186c12",
   "metadata": {
    "execution": {
     "iopub.execute_input": "2022-10-08T01:20:11.021512Z",
     "iopub.status.busy": "2022-10-08T01:20:11.020646Z",
     "iopub.status.idle": "2022-10-08T01:20:11.028167Z",
     "shell.execute_reply": "2022-10-08T01:20:11.026719Z"
    },
    "papermill": {
     "duration": 0.024525,
     "end_time": "2022-10-08T01:20:11.031146",
     "exception": false,
     "start_time": "2022-10-08T01:20:11.006621",
     "status": "completed"
    },
    "tags": []
   },
   "outputs": [
    {
     "name": "stdout",
     "output_type": "stream",
     "text": [
      "{'KNeighbors': 0.8097014925373134, 'LogisticRegression': 0.8022388059701493, 'DecisionTree': 0.7574626865671642, 'RandomForest': 0.832089552238806, 'SupportVectorClassifier': 0.7947761194029851, 'MLPClassifier': 0.8283582089552238, 'XGBoost': 0.8097014925373134, 'LightGBM': 0.8283582089552238, 'GaussianNB': 0.7873134328358209, 'Bagging Classifier': 0.8208955223880597, 'AdaBoost Classifier': 0.7873134328358209, 'Voting Classifier': 0.835820895522388}\n"
     ]
    }
   ],
   "source": [
    "print(scores)"
   ]
  },
  {
   "cell_type": "markdown",
   "id": "2153f576",
   "metadata": {
    "papermill": {
     "duration": 0.012608,
     "end_time": "2022-10-08T01:20:11.056156",
     "exception": false,
     "start_time": "2022-10-08T01:20:11.043548",
     "status": "completed"
    },
    "tags": []
   },
   "source": [
    "XGBoost has the highest accuracy score: 'XGBoost': 0.8507462686567164. So it will be used for the final submission."
   ]
  },
  {
   "cell_type": "markdown",
   "id": "2a3b662e",
   "metadata": {
    "papermill": {
     "duration": 0.011921,
     "end_time": "2022-10-08T01:20:11.080478",
     "exception": false,
     "start_time": "2022-10-08T01:20:11.068557",
     "status": "completed"
    },
    "tags": []
   },
   "source": [
    "### Final Submission"
   ]
  },
  {
   "cell_type": "code",
   "execution_count": 25,
   "id": "f316f943",
   "metadata": {
    "execution": {
     "iopub.execute_input": "2022-10-08T01:20:11.107589Z",
     "iopub.status.busy": "2022-10-08T01:20:11.106694Z",
     "iopub.status.idle": "2022-10-08T01:20:11.114661Z",
     "shell.execute_reply": "2022-10-08T01:20:11.112899Z"
    },
    "papermill": {
     "duration": 0.024659,
     "end_time": "2022-10-08T01:20:11.117361",
     "exception": false,
     "start_time": "2022-10-08T01:20:11.092702",
     "status": "completed"
    },
    "tags": []
   },
   "outputs": [
    {
     "name": "stdout",
     "output_type": "stream",
     "text": [
      "[[-1.72791209  0.59480137 -0.49947002 ...  0.44752374 -0.47091535\n",
      "   0.87348191]\n",
      " [-1.71962474  1.30589556  0.61699237 ...  0.44752374  0.70076689\n",
      "   0.87348191]\n",
      " [-1.71133739  2.15920859 -0.49947002 ...  0.44752374 -0.47091535\n",
      "  -0.31581919]\n",
      " ...\n",
      " [ 1.71133739  0.82235151 -0.49947002 ...  0.44752374  0.70076689\n",
      "   0.87348191]\n",
      " [ 1.71962474 -1.3678186  -0.49947002 ...  0.44752374  0.70076689\n",
      "   0.87348191]\n",
      " [ 1.72791209 -1.3678186   0.61699237 ...  0.44752374 -1.64259759\n",
      "   0.87348191]]\n"
     ]
    }
   ],
   "source": [
    "print(test_df)"
   ]
  },
  {
   "cell_type": "code",
   "execution_count": 26,
   "id": "ed9f6c5b",
   "metadata": {
    "execution": {
     "iopub.execute_input": "2022-10-08T01:20:11.144895Z",
     "iopub.status.busy": "2022-10-08T01:20:11.144436Z",
     "iopub.status.idle": "2022-10-08T01:20:11.154638Z",
     "shell.execute_reply": "2022-10-08T01:20:11.153024Z"
    },
    "papermill": {
     "duration": 0.027768,
     "end_time": "2022-10-08T01:20:11.157849",
     "exception": false,
     "start_time": "2022-10-08T01:20:11.130081",
     "status": "completed"
    },
    "tags": []
   },
   "outputs": [
    {
     "name": "stdout",
     "output_type": "stream",
     "text": [
      "[[ 1.59014094  1.52926229 -0.457246   ... -0.29156147  0.56011053\n",
      "  -1.5325562 ]\n",
      " [-1.52952238  1.41554077  0.4033711  ... -0.76678344 -2.02469583\n",
      "  -1.5325562 ]\n",
      " [-0.23515275 -1.31377554  3.8458395  ...  0.46447348  0.56011053\n",
      "   0.84844757]\n",
      " ...\n",
      " [ 0.67168106  0.16460413  0.4033711  ...  0.46447348 -2.02469583\n",
      "   0.84844757]\n",
      " [ 1.31499051 -0.34714268 -0.457246   ...  0.46447348  0.56011053\n",
      "   0.84844757]\n",
      " [-1.48301808 -1.37063629 -0.457246   ...  0.46447348 -2.02469583\n",
      "  -1.5325562 ]]\n",
      "[1 1 0 0 0 1 0 0 0 1 1 0 0 1 0 1 0 0 0 0 0 0 1 0 1 1 1 0 0 0 1 0 1 0 0 1 1\n",
      " 1 0 0 1 0 1 0 0 0 0 1 0 1 0 1 0 1 1 1 0 0 0 0 0 0 1 0 1 0 0 0 1 0 1 0 0 0\n",
      " 1 0 1 1 1 0 0 0 1 1 0 0 1 0 1 0 0 0 0 1 1 1 0 1 0 1 0 1 0 0 1 0 0 0 0 0 1\n",
      " 0 1 0 1 0 0 0 0 0 1 0 0 1 0 0 0 1 0 0 1 0 0 1 0 1 0 0 0 0 1 0 0 0 1 0 0 0\n",
      " 0 0 0 0 0 0 1 1 0 0 0 1 0 0 0 0 1 1 0 1 0 1 0 0 0 1 1 0 0 0 0 0 0 1 0 0 1\n",
      " 1 0 0 0 1 0 1 0 0 1 0 0 1 1 0 0 1 1 1 0 1 0 0 1 0 0 0 0 0 1 0 0 0 1 0 0 1\n",
      " 1 0 0 0 0 0 0 1 0 0 0 0 0 1 0 0 0 1 0 1 0 0 1 0 1 0 1 0 0 0 1 1 1 1 0 0 0\n",
      " 0 0 0 0 1 1 1 0 0 0 1 0 1 1 1 0 0 0 0 1 1 0 0 1 0 1 1 0 0 0 0 1 1 0 1 0 1\n",
      " 0 1 0 0 0 1 0 0 0 1 0 0 0 0 0 1 1 0 0 0 0 1 1 0 0 0 1 0 0 0 1 1 0 0 1 0 0\n",
      " 0 0 0 0 1 1 1 1 1 1 1 1 0 0 0 1 1 0 0 1 1 0 0 0 0 0 0 0 1 1 1 0 0 0 0 1 1\n",
      " 0 0 0 1 0 1 0 1 0 1 1 1 1 0 0 1 0 1 0 0 1 1 1 0 0 0 1 0 0 1 0 0 0 0 0 0 0\n",
      " 0 0 0 0 0 0 0 0 1 1 0 0 0 1 1 0 0 1 1 1 0 0 0 1 0 0 1 0 1 0 1 0 0 1 0 0 0\n",
      " 0 0 1 0 0 0 0 1 1 1 0 0 1 1 1 0 1 1 0 0 0 0 1 0 0 1 1 0 0 0 1 1 0 1 0 1 1\n",
      " 1 0 1 1 1 0 0 0 1 0 0 0 1 0 0 1 0 0 0 1 0 0 1 1 1 0 1 1 0 1 0 1 1 0 0 0 0\n",
      " 0 0 1 1 0 0 0 0 0 1 0 0 0 1 1 1 0 0 1 0 0 0 0 0 1 1 1 0 1 0 0 1 0 0 0 0 0\n",
      " 0 0 0 0 1 1 1 1 1 1 1 0 1 0 1 0 0 1 0 0 1 0 1 0 0 0 1 1 0 0 0 1 1 0 1 1 0\n",
      " 1 0 0 1 1 1 1 0 0 0 1 0 0 0 1 1 0 1 1 1 0 0 1 1 1 1 1 1 0 1 0 0 0 0 1 1 1\n",
      " 1 1 1 1 0 1 0 1 1 0 0 0 0 1 0 1 0 0 0 1 0 1 1 0 0 1 0 1 0 1 0 0 0 0 1 0 0\n",
      " 0 1 0 0 1 0 0 1 1 1 0 1 0 0 0 0 1 0 0 1 0 1 0 1 0 1 1 1 1 0 0 0 1 0 0 0 0\n",
      " 0 1 0 0 0 1 1 1 1 0 0 0 1 1 0 0 1 0 0 1 0 0 0 0 0 1 1 0 0 1 0 1 1 0 1 1 1\n",
      " 1 0 1 1 0 0 0 0 0 0 1 0 0 0 0 0 0 0 0 0 0 0 0 0 1 0 0 1 0 0 1 1 0 0 1 0 0\n",
      " 1 0 0 1 0 1 0 1 1 1 0 0 0 0 0 0 0 1 0 0 1 0 1 0 0 0 0 0 0 0 0 0 1 0 0 1 0\n",
      " 0 1 1 0 0 0 1 1 0 1 0 0 1 1 0 0 0 1 0 0 1 0 0 0 0 0 1 0 1 0 1 1 0 1 0 0 1\n",
      " 1 0 0 1 1 0 0 0 1 1 1 0 0 1 0 0 1 1 0 0 0 1 0 0 0 0 0 0 1 1 1 0 0 0 0 0 0\n",
      " 0 1 0]\n"
     ]
    }
   ],
   "source": [
    "all_X = np.concatenate((X_train_numeric, X_valid_numeric) ,axis=0)\n",
    "all_Y = np.concatenate((Y_train, Y_valid) ,axis=0)\n",
    "print(all_X)\n",
    "print(all_Y)"
   ]
  },
  {
   "cell_type": "code",
   "execution_count": 27,
   "id": "d332960d",
   "metadata": {
    "execution": {
     "iopub.execute_input": "2022-10-08T01:20:11.186584Z",
     "iopub.status.busy": "2022-10-08T01:20:11.186103Z",
     "iopub.status.idle": "2022-10-08T01:20:22.784971Z",
     "shell.execute_reply": "2022-10-08T01:20:22.782834Z"
    },
    "papermill": {
     "duration": 11.617735,
     "end_time": "2022-10-08T01:20:22.788838",
     "exception": false,
     "start_time": "2022-10-08T01:20:11.171103",
     "status": "completed"
    },
    "tags": []
   },
   "outputs": [
    {
     "name": "stdout",
     "output_type": "stream",
     "text": [
      "[0 0 0 0 0 0 1 0 1 0 0 0 1 0 1 1 0 0 0 0 0 0 1 0 1 0 1 0 0 0 0 0 1 1 0 0 0\n",
      " 0 0 0 0 1 0 1 1 0 0 0 1 1 0 0 1 1 0 0 0 0 0 1 0 0 0 1 0 1 1 0 0 1 1 0 0 0\n",
      " 1 0 0 1 0 1 1 0 0 0 0 0 1 1 1 1 1 0 1 0 0 0 1 0 0 0 1 0 0 0 1 0 0 0 0 0 0\n",
      " 0 1 1 1 0 0 1 0 1 1 0 1 0 0 1 0 1 0 0 0 0 1 0 0 0 0 0 0 0 0 1 0 0 0 0 0 0\n",
      " 0 0 1 0 0 1 0 0 1 0 0 1 1 1 1 0 0 0 0 0 1 0 0 0 0 0 0 1 1 0 1 1 0 0 1 0 1\n",
      " 0 1 0 0 0 0 0 0 0 1 0 1 0 0 0 1 1 0 1 0 0 0 0 1 0 0 0 0 1 0 0 0 0 1 0 1 0\n",
      " 1 0 1 1 0 0 0 0 0 1 0 0 0 0 0 0 1 1 1 1 0 0 0 0 1 0 1 1 1 0 0 0 0 0 0 0 1\n",
      " 0 0 0 1 1 0 0 0 0 0 0 0 0 1 1 0 1 0 0 0 0 0 1 0 1 1 0 0 1 0 0 0 0 0 1 0 0\n",
      " 1 0 0 0 0 0 0 0 1 1 1 0 1 0 0 0 0 0 1 0 0 0 0 0 0 0 0 0 1 0 1 0 0 0 1 0 0\n",
      " 0 0 0 0 0 0 0 0 0 0 1 0 0 0 0 0 1 1 0 0 0 0 0 1 0 0 0 0 1 1 0 1 0 0 0 1 0\n",
      " 0 1 0 0 1 1 0 0 0 0 0 0 1 0 0 1 0 0 0 0 0 1 0 0 0 1 0 1 0 0 1 0 1 0 1 0 0\n",
      " 0 1 1 1 1 0 0 1 0 0 1]\n"
     ]
    }
   ],
   "source": [
    "final_model = voting_classifier\n",
    "model.fit(all_X, all_Y)\n",
    "preds = model.predict(test_df)\n",
    "\n",
    "print(preds)\n",
    "\n",
    "\n"
   ]
  },
  {
   "cell_type": "code",
   "execution_count": 28,
   "id": "8ba5ee74",
   "metadata": {
    "execution": {
     "iopub.execute_input": "2022-10-08T01:20:22.818850Z",
     "iopub.status.busy": "2022-10-08T01:20:22.817806Z",
     "iopub.status.idle": "2022-10-08T01:20:22.833032Z",
     "shell.execute_reply": "2022-10-08T01:20:22.831545Z"
    },
    "papermill": {
     "duration": 0.032618,
     "end_time": "2022-10-08T01:20:22.836045",
     "exception": false,
     "start_time": "2022-10-08T01:20:22.803427",
     "status": "completed"
    },
    "tags": []
   },
   "outputs": [],
   "source": [
    "submission = pd.DataFrame({\n",
    "        \"PassengerId\": test_ids,\n",
    "        \"Survived\": preds\n",
    "    })\n",
    "\n",
    "submission.PassengerId = submission.PassengerId.astype(int)\n",
    "submission.Survived = submission.Survived.astype(int)\n",
    "\n",
    "submission.to_csv(\"submission.csv\", index=False)"
   ]
  }
 ],
 "metadata": {
  "kernelspec": {
   "display_name": "Python 3",
   "language": "python",
   "name": "python3"
  },
  "language_info": {
   "codemirror_mode": {
    "name": "ipython",
    "version": 3
   },
   "file_extension": ".py",
   "mimetype": "text/x-python",
   "name": "python",
   "nbconvert_exporter": "python",
   "pygments_lexer": "ipython3",
   "version": "3.7.12"
  },
  "papermill": {
   "default_parameters": {},
   "duration": 111.766423,
   "end_time": "2022-10-08T01:20:25.473584",
   "environment_variables": {},
   "exception": null,
   "input_path": "__notebook__.ipynb",
   "output_path": "__notebook__.ipynb",
   "parameters": {},
   "start_time": "2022-10-08T01:18:33.707161",
   "version": "2.3.4"
  }
 },
 "nbformat": 4,
 "nbformat_minor": 5
}
